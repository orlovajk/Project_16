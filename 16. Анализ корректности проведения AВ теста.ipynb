{
 "cells": [
  {
   "cell_type": "markdown",
   "metadata": {},
   "source": [
    "# ПРОЕКТ ПО A/B ТЕСТИРОВАНИЮ"
   ]
  },
  {
   "cell_type": "markdown",
   "metadata": {},
   "source": [
    "**СОДЕРЖАНИЕ ПРОЕКТА**\n",
    "1. [ОПИСАНИЕ ПРОЕКТА (техническое задание, описание данных, цель исследования](#describ)\n",
    "\n",
    "2. [ШАГ 1.ЗАГРУЗКА ДАННЫХ](#part_1)\n",
    "\n",
    "3. [ШАГ 2.АНАЛИЗ КОРРЕКТНОСТИ ПРОВЕДЕНИЯ ТЕСТА](#part_2)\n",
    "         \n",
    "4. [ШАГ 3. ИССЛЕДОВАТЕЛЬСКИЙ АНАЛИЗ ДАННЫХ](#part_4) \n",
    "\n",
    "5. [ШАГ 4. ОЦЕНКА РЕЗУЛЬТАТОВ A/B-ТЕСТИРОВАНИЯ](#part_5) \n",
    "   \n",
    "6. [ШАГ 5. ВЫВОДЫ](#part_6)"
   ]
  },
  {
   "cell_type": "markdown",
   "metadata": {},
   "source": [
    "## ОПИСАНИЕ ПРОЕКТА \n",
    "<a id=\"describ\"></a> "
   ]
  },
  {
   "cell_type": "markdown",
   "metadata": {},
   "source": [
    "**Цель исследования:**\n",
    "\n",
    "Провести оценку результатов A/B-теста. Оценить корректность проведения теста и проанализировать его результаты.\n",
    "\n",
    "**Техническое задание:**\n",
    "\n",
    "* Название теста: recommender_system_test ;\n",
    "* Группы: А (контрольная), B (новая платёжная воронка);\n",
    "* Дата запуска: 2020-12-07;\n",
    "* Дата остановки набора новых пользователей: 2020-12-21;\n",
    "* Дата остановки: 2021-01-04;\n",
    "* Ожидаемое количество участников теста: 15% новых пользователей из региона EU;\n",
    "* Назначение теста: тестирование изменений, связанных с внедрением улучшенной рекомендательной системы;\n",
    "* Ожидаемый эффект: за 14 дней с момента регистрации в системе пользователи покажут улучшение каждой метрики не менее, чем на 5 процентных пунктов:\n",
    "   * конверсии в просмотр карточек товаров — событие `product_page`\n",
    "   * просмотры корзины — `product_cart`\n",
    "   * покупки — `purchase` .\n",
    "\n",
    "**Описание данных:**\n",
    "\n",
    "Загрузите данные теста, проверьте корректность его проведения и проанализируйте полученные результаты.\n",
    "\n",
    "`ab_project_marketing_events` — календарь маркетинговых событий на 2020 год;\n",
    "\n",
    "Структура файла:\n",
    "\n",
    "* name — название маркетингового события;\n",
    "* regions — регионы, в которых будет проводиться рекламная кампания;\n",
    "* start_dt — дата начала кампании;\n",
    "* finish_dt — дата завершения кампании.\n",
    "\n",
    "`final_ab_new_users` — все пользователи, зарегистрировавшиеся в интернет-магазине в период с 7 по 21 декабря 2020 года;\n",
    "\n",
    "Структура файла:\n",
    "\n",
    "* user_id — идентификатор пользователя;\n",
    "* first_date — дата регистрации;\n",
    "* region — регион пользователя;\n",
    "* device — устройство, с которого происходила регистрация.\n",
    "\n",
    "`final_ab_events` — все события новых пользователей в период с 7 декабря 2020 по 4 января 2021 года;\n",
    "\n",
    "Структура файла:\n",
    "\n",
    "* user_id — идентификатор пользователя;\n",
    "* event_dt — дата и время события;\n",
    "* event_name — тип события;\n",
    "* details — дополнительные данные о событии. Например, для покупок, purchase , в этом поле хранится стоимость покупки в долларах.\n",
    "\n",
    "`final_ab_participants` — таблица участников тестов.\n",
    "\n",
    "Структура файла:\n",
    "\n",
    "* user_id — идентификатор пользователя;\n",
    "* ab_test — название теста;\n",
    "* group — группа пользователя."
   ]
  },
  {
   "cell_type": "markdown",
   "metadata": {},
   "source": []
  },
  {
   "cell_type": "markdown",
   "metadata": {},
   "source": [
    "## ШАГ 1: ЗАГРУЗКА ДАННЫХ\n",
    "<a id=\"part_1\"></a> "
   ]
  },
  {
   "cell_type": "code",
   "execution_count": 1,
   "metadata": {},
   "outputs": [],
   "source": [
    "import pandas as pd\n",
    "import datetime as dt\n",
    "import numpy as np\n",
    "import math as mth"
   ]
  },
  {
   "cell_type": "code",
   "execution_count": 2,
   "metadata": {},
   "outputs": [],
   "source": [
    "from matplotlib import pyplot as plt\n",
    "import matplotlib.pyplot as plt\n",
    "import seaborn as sns\n",
    "import plotly.express as px\n",
    "import plotly.graph_objects as go\n",
    "import plotly.io as pio"
   ]
  },
  {
   "cell_type": "code",
   "execution_count": 3,
   "metadata": {},
   "outputs": [],
   "source": [
    "from scipy.stats import mode \n",
    "from scipy import stats as st"
   ]
  },
  {
   "cell_type": "markdown",
   "metadata": {},
   "source": [
    "### **ab_project_marketing_events — календарь маркетинговых событий на 2020 год;**"
   ]
  },
  {
   "cell_type": "code",
   "execution_count": 4,
   "metadata": {},
   "outputs": [
    {
     "data": {
      "text/html": [
       "<div>\n",
       "<style scoped>\n",
       "    .dataframe tbody tr th:only-of-type {\n",
       "        vertical-align: middle;\n",
       "    }\n",
       "\n",
       "    .dataframe tbody tr th {\n",
       "        vertical-align: top;\n",
       "    }\n",
       "\n",
       "    .dataframe thead th {\n",
       "        text-align: right;\n",
       "    }\n",
       "</style>\n",
       "<table border=\"1\" class=\"dataframe\">\n",
       "  <thead>\n",
       "    <tr style=\"text-align: right;\">\n",
       "      <th></th>\n",
       "      <th>name</th>\n",
       "      <th>regions</th>\n",
       "      <th>start_dt</th>\n",
       "      <th>finish_dt</th>\n",
       "    </tr>\n",
       "  </thead>\n",
       "  <tbody>\n",
       "    <tr>\n",
       "      <th>0</th>\n",
       "      <td>Christmas&amp;New Year Promo</td>\n",
       "      <td>EU, N.America</td>\n",
       "      <td>2020-12-25</td>\n",
       "      <td>2021-01-03</td>\n",
       "    </tr>\n",
       "    <tr>\n",
       "      <th>1</th>\n",
       "      <td>St. Valentine's Day Giveaway</td>\n",
       "      <td>EU, CIS, APAC, N.America</td>\n",
       "      <td>2020-02-14</td>\n",
       "      <td>2020-02-16</td>\n",
       "    </tr>\n",
       "    <tr>\n",
       "      <th>2</th>\n",
       "      <td>St. Patric's Day Promo</td>\n",
       "      <td>EU, N.America</td>\n",
       "      <td>2020-03-17</td>\n",
       "      <td>2020-03-19</td>\n",
       "    </tr>\n",
       "    <tr>\n",
       "      <th>3</th>\n",
       "      <td>Easter Promo</td>\n",
       "      <td>EU, CIS, APAC, N.America</td>\n",
       "      <td>2020-04-12</td>\n",
       "      <td>2020-04-19</td>\n",
       "    </tr>\n",
       "    <tr>\n",
       "      <th>4</th>\n",
       "      <td>4th of July Promo</td>\n",
       "      <td>N.America</td>\n",
       "      <td>2020-07-04</td>\n",
       "      <td>2020-07-11</td>\n",
       "    </tr>\n",
       "    <tr>\n",
       "      <th>5</th>\n",
       "      <td>Black Friday Ads Campaign</td>\n",
       "      <td>EU, CIS, APAC, N.America</td>\n",
       "      <td>2020-11-26</td>\n",
       "      <td>2020-12-01</td>\n",
       "    </tr>\n",
       "    <tr>\n",
       "      <th>6</th>\n",
       "      <td>Chinese New Year Promo</td>\n",
       "      <td>APAC</td>\n",
       "      <td>2020-01-25</td>\n",
       "      <td>2020-02-07</td>\n",
       "    </tr>\n",
       "    <tr>\n",
       "      <th>7</th>\n",
       "      <td>Labor day (May 1st) Ads Campaign</td>\n",
       "      <td>EU, CIS, APAC</td>\n",
       "      <td>2020-05-01</td>\n",
       "      <td>2020-05-03</td>\n",
       "    </tr>\n",
       "    <tr>\n",
       "      <th>8</th>\n",
       "      <td>International Women's Day Promo</td>\n",
       "      <td>EU, CIS, APAC</td>\n",
       "      <td>2020-03-08</td>\n",
       "      <td>2020-03-10</td>\n",
       "    </tr>\n",
       "    <tr>\n",
       "      <th>9</th>\n",
       "      <td>Victory Day CIS (May 9th) Event</td>\n",
       "      <td>CIS</td>\n",
       "      <td>2020-05-09</td>\n",
       "      <td>2020-05-11</td>\n",
       "    </tr>\n",
       "    <tr>\n",
       "      <th>10</th>\n",
       "      <td>CIS New Year Gift Lottery</td>\n",
       "      <td>CIS</td>\n",
       "      <td>2020-12-30</td>\n",
       "      <td>2021-01-07</td>\n",
       "    </tr>\n",
       "    <tr>\n",
       "      <th>11</th>\n",
       "      <td>Dragon Boat Festival Giveaway</td>\n",
       "      <td>APAC</td>\n",
       "      <td>2020-06-25</td>\n",
       "      <td>2020-07-01</td>\n",
       "    </tr>\n",
       "    <tr>\n",
       "      <th>12</th>\n",
       "      <td>Single's Day Gift Promo</td>\n",
       "      <td>APAC</td>\n",
       "      <td>2020-11-11</td>\n",
       "      <td>2020-11-12</td>\n",
       "    </tr>\n",
       "    <tr>\n",
       "      <th>13</th>\n",
       "      <td>Chinese Moon Festival</td>\n",
       "      <td>APAC</td>\n",
       "      <td>2020-10-01</td>\n",
       "      <td>2020-10-07</td>\n",
       "    </tr>\n",
       "  </tbody>\n",
       "</table>\n",
       "</div>"
      ],
      "text/plain": [
       "                                name                   regions    start_dt  \\\n",
       "0           Christmas&New Year Promo             EU, N.America  2020-12-25   \n",
       "1       St. Valentine's Day Giveaway  EU, CIS, APAC, N.America  2020-02-14   \n",
       "2             St. Patric's Day Promo             EU, N.America  2020-03-17   \n",
       "3                       Easter Promo  EU, CIS, APAC, N.America  2020-04-12   \n",
       "4                  4th of July Promo                 N.America  2020-07-04   \n",
       "5          Black Friday Ads Campaign  EU, CIS, APAC, N.America  2020-11-26   \n",
       "6             Chinese New Year Promo                      APAC  2020-01-25   \n",
       "7   Labor day (May 1st) Ads Campaign             EU, CIS, APAC  2020-05-01   \n",
       "8    International Women's Day Promo             EU, CIS, APAC  2020-03-08   \n",
       "9    Victory Day CIS (May 9th) Event                       CIS  2020-05-09   \n",
       "10         CIS New Year Gift Lottery                       CIS  2020-12-30   \n",
       "11     Dragon Boat Festival Giveaway                      APAC  2020-06-25   \n",
       "12           Single's Day Gift Promo                      APAC  2020-11-11   \n",
       "13             Chinese Moon Festival                      APAC  2020-10-01   \n",
       "\n",
       "     finish_dt  \n",
       "0   2021-01-03  \n",
       "1   2020-02-16  \n",
       "2   2020-03-19  \n",
       "3   2020-04-19  \n",
       "4   2020-07-11  \n",
       "5   2020-12-01  \n",
       "6   2020-02-07  \n",
       "7   2020-05-03  \n",
       "8   2020-03-10  \n",
       "9   2020-05-11  \n",
       "10  2021-01-07  \n",
       "11  2020-07-01  \n",
       "12  2020-11-12  \n",
       "13  2020-10-07  "
      ]
     },
     "metadata": {},
     "output_type": "display_data"
    },
    {
     "name": "stdout",
     "output_type": "stream",
     "text": [
      "(14, 4)\n"
     ]
    }
   ],
   "source": [
    "m_events = pd.read_csv('/datasets/ab_project_marketing_events.csv')\n",
    "display(m_events.head(15))\n",
    "print(m_events.shape)"
   ]
  },
  {
   "cell_type": "markdown",
   "metadata": {},
   "source": []
  },
  {
   "cell_type": "code",
   "execution_count": 5,
   "metadata": {},
   "outputs": [
    {
     "name": "stdout",
     "output_type": "stream",
     "text": [
      "<class 'pandas.core.frame.DataFrame'>\n",
      "RangeIndex: 14 entries, 0 to 13\n",
      "Data columns (total 4 columns):\n",
      " #   Column     Non-Null Count  Dtype \n",
      "---  ------     --------------  ----- \n",
      " 0   name       14 non-null     object\n",
      " 1   regions    14 non-null     object\n",
      " 2   start_dt   14 non-null     object\n",
      " 3   finish_dt  14 non-null     object\n",
      "dtypes: object(4)\n",
      "memory usage: 576.0+ bytes\n"
     ]
    }
   ],
   "source": [
    "m_events.info()"
   ]
  },
  {
   "cell_type": "markdown",
   "metadata": {},
   "source": [
    "* **Датафрейм состоит из 4 столбцов и 14 строк.** \n",
    "* **Пропущенных значений нет.** \n",
    "* **Необходимо изменить тип данных у столбцов start_dt и finish_dt**"
   ]
  },
  {
   "cell_type": "code",
   "execution_count": 6,
   "metadata": {},
   "outputs": [],
   "source": [
    "m_events['start_dt'] = m_events['start_dt'].map(lambda x: dt.datetime.strptime(x, '%Y-%m-%d'))\n",
    "m_events['finish_dt'] = m_events['finish_dt'].map(lambda x: dt.datetime.strptime(x, '%Y-%m-%d'))"
   ]
  },
  {
   "cell_type": "markdown",
   "metadata": {},
   "source": [
    "**Тип данных столбцов `'start_dt'` и `'finish_dt'` изменен на datetime**"
   ]
  },
  {
   "cell_type": "code",
   "execution_count": 7,
   "metadata": {},
   "outputs": [
    {
     "data": {
      "text/plain": [
       "0"
      ]
     },
     "execution_count": 7,
     "metadata": {},
     "output_type": "execute_result"
    }
   ],
   "source": [
    "m_events.duplicated().sum()"
   ]
  },
  {
   "cell_type": "markdown",
   "metadata": {},
   "source": [
    "**Явных дубликатов нет**"
   ]
  },
  {
   "cell_type": "markdown",
   "metadata": {},
   "source": [
    "### **final_ab_events — все события новых пользователей в период с 7 декабря 2020 по 4 января 2021 года;**"
   ]
  },
  {
   "cell_type": "code",
   "execution_count": 8,
   "metadata": {},
   "outputs": [
    {
     "data": {
      "text/html": [
       "<div>\n",
       "<style scoped>\n",
       "    .dataframe tbody tr th:only-of-type {\n",
       "        vertical-align: middle;\n",
       "    }\n",
       "\n",
       "    .dataframe tbody tr th {\n",
       "        vertical-align: top;\n",
       "    }\n",
       "\n",
       "    .dataframe thead th {\n",
       "        text-align: right;\n",
       "    }\n",
       "</style>\n",
       "<table border=\"1\" class=\"dataframe\">\n",
       "  <thead>\n",
       "    <tr style=\"text-align: right;\">\n",
       "      <th></th>\n",
       "      <th>user_id</th>\n",
       "      <th>event_dt</th>\n",
       "      <th>event_name</th>\n",
       "      <th>details</th>\n",
       "    </tr>\n",
       "  </thead>\n",
       "  <tbody>\n",
       "    <tr>\n",
       "      <th>0</th>\n",
       "      <td>E1BDDCE0DAFA2679</td>\n",
       "      <td>2020-12-07 20:22:03</td>\n",
       "      <td>purchase</td>\n",
       "      <td>99.99</td>\n",
       "    </tr>\n",
       "    <tr>\n",
       "      <th>1</th>\n",
       "      <td>7B6452F081F49504</td>\n",
       "      <td>2020-12-07 09:22:53</td>\n",
       "      <td>purchase</td>\n",
       "      <td>9.99</td>\n",
       "    </tr>\n",
       "    <tr>\n",
       "      <th>2</th>\n",
       "      <td>9CD9F34546DF254C</td>\n",
       "      <td>2020-12-07 12:59:29</td>\n",
       "      <td>purchase</td>\n",
       "      <td>4.99</td>\n",
       "    </tr>\n",
       "    <tr>\n",
       "      <th>3</th>\n",
       "      <td>96F27A054B191457</td>\n",
       "      <td>2020-12-07 04:02:40</td>\n",
       "      <td>purchase</td>\n",
       "      <td>4.99</td>\n",
       "    </tr>\n",
       "    <tr>\n",
       "      <th>4</th>\n",
       "      <td>1FD7660FDF94CA1F</td>\n",
       "      <td>2020-12-07 10:15:09</td>\n",
       "      <td>purchase</td>\n",
       "      <td>4.99</td>\n",
       "    </tr>\n",
       "  </tbody>\n",
       "</table>\n",
       "</div>"
      ],
      "text/plain": [
       "            user_id             event_dt event_name  details\n",
       "0  E1BDDCE0DAFA2679  2020-12-07 20:22:03   purchase    99.99\n",
       "1  7B6452F081F49504  2020-12-07 09:22:53   purchase     9.99\n",
       "2  9CD9F34546DF254C  2020-12-07 12:59:29   purchase     4.99\n",
       "3  96F27A054B191457  2020-12-07 04:02:40   purchase     4.99\n",
       "4  1FD7660FDF94CA1F  2020-12-07 10:15:09   purchase     4.99"
      ]
     },
     "metadata": {},
     "output_type": "display_data"
    },
    {
     "name": "stdout",
     "output_type": "stream",
     "text": [
      "(440317, 4)\n"
     ]
    }
   ],
   "source": [
    "ab_events = pd.read_csv('/datasets/final_ab_events.csv')\n",
    "display(ab_events.head(5))\n",
    "print(ab_events.shape)"
   ]
  },
  {
   "cell_type": "code",
   "execution_count": 9,
   "metadata": {},
   "outputs": [
    {
     "name": "stdout",
     "output_type": "stream",
     "text": [
      "<class 'pandas.core.frame.DataFrame'>\n",
      "RangeIndex: 440317 entries, 0 to 440316\n",
      "Data columns (total 4 columns):\n",
      " #   Column      Non-Null Count   Dtype  \n",
      "---  ------      --------------   -----  \n",
      " 0   user_id     440317 non-null  object \n",
      " 1   event_dt    440317 non-null  object \n",
      " 2   event_name  440317 non-null  object \n",
      " 3   details     62740 non-null   float64\n",
      "dtypes: float64(1), object(3)\n",
      "memory usage: 13.4+ MB\n"
     ]
    }
   ],
   "source": [
    "ab_events.info()"
   ]
  },
  {
   "cell_type": "markdown",
   "metadata": {},
   "source": [
    "* **Датафрейм состоит из 4 столбцов и 440317 строк.**\n",
    "* **Пропущенные значения имеются в столбце details.**\n",
    "* **Необходимо изменить тип данных у столбца event_dt**"
   ]
  },
  {
   "cell_type": "code",
   "execution_count": 10,
   "metadata": {},
   "outputs": [],
   "source": [
    "ab_events['event_dt'] = ab_events['event_dt'].map(lambda x: dt.datetime.strptime(x, '%Y-%m-%d %H:%M:%S'))"
   ]
  },
  {
   "cell_type": "markdown",
   "metadata": {},
   "source": [
    "**Тип данных столбца `'event_dt'` изменен на datetime**"
   ]
  },
  {
   "cell_type": "code",
   "execution_count": 11,
   "metadata": {},
   "outputs": [
    {
     "data": {
      "text/plain": [
       "0"
      ]
     },
     "execution_count": 11,
     "metadata": {},
     "output_type": "execute_result"
    }
   ],
   "source": [
    "ab_events.duplicated().sum()"
   ]
  },
  {
   "cell_type": "markdown",
   "metadata": {},
   "source": [
    "**Явных дубликатов нет**"
   ]
  },
  {
   "cell_type": "code",
   "execution_count": 12,
   "metadata": {},
   "outputs": [
    {
     "data": {
      "text/plain": [
       "array(['purchase', 'product_cart', 'product_page', 'login'], dtype=object)"
      ]
     },
     "execution_count": 12,
     "metadata": {},
     "output_type": "execute_result"
    }
   ],
   "source": [
    "ab_events['event_name'].unique()"
   ]
  },
  {
   "cell_type": "markdown",
   "metadata": {},
   "source": [
    "**Столбец содержит 4 события: покупка, корзина товаров, страница товаров, вход в систему**"
   ]
  },
  {
   "cell_type": "code",
   "execution_count": 13,
   "metadata": {},
   "outputs": [
    {
     "data": {
      "text/plain": [
       "array([ 99.99,   9.99,   4.99, 499.99,    nan])"
      ]
     },
     "execution_count": 13,
     "metadata": {},
     "output_type": "execute_result"
    }
   ],
   "source": [
    "ab_events['details'].unique()"
   ]
  },
  {
   "cell_type": "markdown",
   "metadata": {},
   "source": [
    "**Столбец содержит 4 фиксированных значения цены или пропуски (скорее всего, пропуски имеются в связи с тем, что нет факта совершения покупки)**"
   ]
  },
  {
   "cell_type": "markdown",
   "metadata": {},
   "source": [
    "### **final_ab_new_users — все пользователи, зарегистрировавшиеся в интернет-магазине в период с 7 по 21 декабря 2020 года;**"
   ]
  },
  {
   "cell_type": "code",
   "execution_count": 14,
   "metadata": {},
   "outputs": [
    {
     "data": {
      "text/html": [
       "<div>\n",
       "<style scoped>\n",
       "    .dataframe tbody tr th:only-of-type {\n",
       "        vertical-align: middle;\n",
       "    }\n",
       "\n",
       "    .dataframe tbody tr th {\n",
       "        vertical-align: top;\n",
       "    }\n",
       "\n",
       "    .dataframe thead th {\n",
       "        text-align: right;\n",
       "    }\n",
       "</style>\n",
       "<table border=\"1\" class=\"dataframe\">\n",
       "  <thead>\n",
       "    <tr style=\"text-align: right;\">\n",
       "      <th></th>\n",
       "      <th>user_id</th>\n",
       "      <th>first_date</th>\n",
       "      <th>region</th>\n",
       "      <th>device</th>\n",
       "    </tr>\n",
       "  </thead>\n",
       "  <tbody>\n",
       "    <tr>\n",
       "      <th>0</th>\n",
       "      <td>D72A72121175D8BE</td>\n",
       "      <td>2020-12-07</td>\n",
       "      <td>EU</td>\n",
       "      <td>PC</td>\n",
       "    </tr>\n",
       "    <tr>\n",
       "      <th>1</th>\n",
       "      <td>F1C668619DFE6E65</td>\n",
       "      <td>2020-12-07</td>\n",
       "      <td>N.America</td>\n",
       "      <td>Android</td>\n",
       "    </tr>\n",
       "    <tr>\n",
       "      <th>2</th>\n",
       "      <td>2E1BF1D4C37EA01F</td>\n",
       "      <td>2020-12-07</td>\n",
       "      <td>EU</td>\n",
       "      <td>PC</td>\n",
       "    </tr>\n",
       "    <tr>\n",
       "      <th>3</th>\n",
       "      <td>50734A22C0C63768</td>\n",
       "      <td>2020-12-07</td>\n",
       "      <td>EU</td>\n",
       "      <td>iPhone</td>\n",
       "    </tr>\n",
       "    <tr>\n",
       "      <th>4</th>\n",
       "      <td>E1BDDCE0DAFA2679</td>\n",
       "      <td>2020-12-07</td>\n",
       "      <td>N.America</td>\n",
       "      <td>iPhone</td>\n",
       "    </tr>\n",
       "  </tbody>\n",
       "</table>\n",
       "</div>"
      ],
      "text/plain": [
       "            user_id  first_date     region   device\n",
       "0  D72A72121175D8BE  2020-12-07         EU       PC\n",
       "1  F1C668619DFE6E65  2020-12-07  N.America  Android\n",
       "2  2E1BF1D4C37EA01F  2020-12-07         EU       PC\n",
       "3  50734A22C0C63768  2020-12-07         EU   iPhone\n",
       "4  E1BDDCE0DAFA2679  2020-12-07  N.America   iPhone"
      ]
     },
     "metadata": {},
     "output_type": "display_data"
    },
    {
     "name": "stdout",
     "output_type": "stream",
     "text": [
      "(61733, 4)\n"
     ]
    }
   ],
   "source": [
    "ab_users = pd.read_csv('/datasets/final_ab_new_users.csv')\n",
    "display(ab_users.head(5))\n",
    "print(ab_users.shape)"
   ]
  },
  {
   "cell_type": "code",
   "execution_count": 15,
   "metadata": {},
   "outputs": [
    {
     "name": "stdout",
     "output_type": "stream",
     "text": [
      "<class 'pandas.core.frame.DataFrame'>\n",
      "RangeIndex: 61733 entries, 0 to 61732\n",
      "Data columns (total 4 columns):\n",
      " #   Column      Non-Null Count  Dtype \n",
      "---  ------      --------------  ----- \n",
      " 0   user_id     61733 non-null  object\n",
      " 1   first_date  61733 non-null  object\n",
      " 2   region      61733 non-null  object\n",
      " 3   device      61733 non-null  object\n",
      "dtypes: object(4)\n",
      "memory usage: 1.9+ MB\n"
     ]
    }
   ],
   "source": [
    "ab_users.info()"
   ]
  },
  {
   "cell_type": "markdown",
   "metadata": {},
   "source": [
    "* **Датафрейм состоит из 4 столбцов и 61733 строк.**\n",
    "* **Пропущенных значений нет.**\n",
    "* **Необходимо изменить тип данных у столбца first_date**"
   ]
  },
  {
   "cell_type": "code",
   "execution_count": 16,
   "metadata": {},
   "outputs": [],
   "source": [
    "ab_users['first_date'] = ab_users['first_date'].map(lambda x: dt.datetime.strptime(x, '%Y-%m-%d'))"
   ]
  },
  {
   "cell_type": "markdown",
   "metadata": {},
   "source": [
    "**Тип данных столбца `'first_date'` изменен на datetime**"
   ]
  },
  {
   "cell_type": "code",
   "execution_count": 17,
   "metadata": {},
   "outputs": [
    {
     "data": {
      "text/plain": [
       "0"
      ]
     },
     "execution_count": 17,
     "metadata": {},
     "output_type": "execute_result"
    }
   ],
   "source": [
    "ab_users.duplicated().sum()"
   ]
  },
  {
   "cell_type": "code",
   "execution_count": 18,
   "metadata": {},
   "outputs": [
    {
     "data": {
      "text/plain": [
       "0"
      ]
     },
     "execution_count": 18,
     "metadata": {},
     "output_type": "execute_result"
    }
   ],
   "source": [
    "ab_users['user_id'].duplicated().sum()"
   ]
  },
  {
   "cell_type": "markdown",
   "metadata": {},
   "source": [
    "**Явных дубликатов нет**"
   ]
  },
  {
   "cell_type": "code",
   "execution_count": 19,
   "metadata": {},
   "outputs": [
    {
     "data": {
      "text/plain": [
       "array(['EU', 'N.America', 'APAC', 'CIS'], dtype=object)"
      ]
     },
     "execution_count": 19,
     "metadata": {},
     "output_type": "execute_result"
    }
   ],
   "source": [
    "ab_users['region'].unique()"
   ]
  },
  {
   "cell_type": "markdown",
   "metadata": {},
   "source": [
    "**В столбце region имеются 4 значения: EU, N.America, APAC, CIS**"
   ]
  },
  {
   "cell_type": "code",
   "execution_count": 20,
   "metadata": {},
   "outputs": [
    {
     "data": {
      "text/plain": [
       "array(['PC', 'Android', 'iPhone', 'Mac'], dtype=object)"
      ]
     },
     "execution_count": 20,
     "metadata": {},
     "output_type": "execute_result"
    }
   ],
   "source": [
    "ab_users['device'].unique()"
   ]
  },
  {
   "cell_type": "markdown",
   "metadata": {},
   "source": [
    "**В столбце device имеются 4 значения: PC, Android, iPhone, Mac**"
   ]
  },
  {
   "cell_type": "code",
   "execution_count": 21,
   "metadata": {},
   "outputs": [
    {
     "data": {
      "text/plain": [
       "2020-12-21    6290\n",
       "2020-12-14    5654\n",
       "2020-12-07    5595\n",
       "2020-12-13    4691\n",
       "2020-12-20    4288\n",
       "2020-12-12    3963\n",
       "2020-12-19    3617\n",
       "2020-12-18    3365\n",
       "2020-12-08    3239\n",
       "2020-12-22    3083\n",
       "2020-12-10    3076\n",
       "2020-12-17    3048\n",
       "2020-12-15    3043\n",
       "2020-12-11    2390\n",
       "2020-12-23    2180\n",
       "2020-12-16    2110\n",
       "2020-12-09    2101\n",
       "Name: first_date, dtype: int64"
      ]
     },
     "execution_count": 21,
     "metadata": {},
     "output_type": "execute_result"
    }
   ],
   "source": [
    "ab_users['first_date'].value_counts()"
   ]
  },
  {
   "cell_type": "code",
   "execution_count": 22,
   "metadata": {},
   "outputs": [
    {
     "data": {
      "text/plain": [
       "Timestamp('2020-12-07 00:00:00')"
      ]
     },
     "execution_count": 22,
     "metadata": {},
     "output_type": "execute_result"
    }
   ],
   "source": [
    "ab_users['first_date'].min()"
   ]
  },
  {
   "cell_type": "code",
   "execution_count": 23,
   "metadata": {},
   "outputs": [
    {
     "data": {
      "text/plain": [
       "Timestamp('2020-12-23 00:00:00')"
      ]
     },
     "execution_count": 23,
     "metadata": {},
     "output_type": "execute_result"
    }
   ],
   "source": [
    "ab_users['first_date'].max()"
   ]
  },
  {
   "cell_type": "markdown",
   "metadata": {},
   "source": [
    "**В столбце first_date минимальная дата регистрации 7 декабря, а максимальная 23 декабря**"
   ]
  },
  {
   "cell_type": "markdown",
   "metadata": {},
   "source": [
    "### **final_ab_participants — таблица участников тестов**"
   ]
  },
  {
   "cell_type": "code",
   "execution_count": 24,
   "metadata": {},
   "outputs": [
    {
     "data": {
      "text/html": [
       "<div>\n",
       "<style scoped>\n",
       "    .dataframe tbody tr th:only-of-type {\n",
       "        vertical-align: middle;\n",
       "    }\n",
       "\n",
       "    .dataframe tbody tr th {\n",
       "        vertical-align: top;\n",
       "    }\n",
       "\n",
       "    .dataframe thead th {\n",
       "        text-align: right;\n",
       "    }\n",
       "</style>\n",
       "<table border=\"1\" class=\"dataframe\">\n",
       "  <thead>\n",
       "    <tr style=\"text-align: right;\">\n",
       "      <th></th>\n",
       "      <th>user_id</th>\n",
       "      <th>group</th>\n",
       "      <th>ab_test</th>\n",
       "    </tr>\n",
       "  </thead>\n",
       "  <tbody>\n",
       "    <tr>\n",
       "      <th>0</th>\n",
       "      <td>D1ABA3E2887B6A73</td>\n",
       "      <td>A</td>\n",
       "      <td>recommender_system_test</td>\n",
       "    </tr>\n",
       "    <tr>\n",
       "      <th>1</th>\n",
       "      <td>A7A3664BD6242119</td>\n",
       "      <td>A</td>\n",
       "      <td>recommender_system_test</td>\n",
       "    </tr>\n",
       "    <tr>\n",
       "      <th>2</th>\n",
       "      <td>DABC14FDDFADD29E</td>\n",
       "      <td>A</td>\n",
       "      <td>recommender_system_test</td>\n",
       "    </tr>\n",
       "    <tr>\n",
       "      <th>3</th>\n",
       "      <td>04988C5DF189632E</td>\n",
       "      <td>A</td>\n",
       "      <td>recommender_system_test</td>\n",
       "    </tr>\n",
       "    <tr>\n",
       "      <th>4</th>\n",
       "      <td>482F14783456D21B</td>\n",
       "      <td>B</td>\n",
       "      <td>recommender_system_test</td>\n",
       "    </tr>\n",
       "  </tbody>\n",
       "</table>\n",
       "</div>"
      ],
      "text/plain": [
       "            user_id group                  ab_test\n",
       "0  D1ABA3E2887B6A73     A  recommender_system_test\n",
       "1  A7A3664BD6242119     A  recommender_system_test\n",
       "2  DABC14FDDFADD29E     A  recommender_system_test\n",
       "3  04988C5DF189632E     A  recommender_system_test\n",
       "4  482F14783456D21B     B  recommender_system_test"
      ]
     },
     "metadata": {},
     "output_type": "display_data"
    },
    {
     "name": "stdout",
     "output_type": "stream",
     "text": [
      "(18268, 3)\n"
     ]
    }
   ],
   "source": [
    "ab_participants = pd.read_csv('/datasets/final_ab_participants.csv')\n",
    "display(ab_participants.head(5))\n",
    "print(ab_participants.shape)"
   ]
  },
  {
   "cell_type": "code",
   "execution_count": 25,
   "metadata": {},
   "outputs": [
    {
     "name": "stdout",
     "output_type": "stream",
     "text": [
      "<class 'pandas.core.frame.DataFrame'>\n",
      "RangeIndex: 18268 entries, 0 to 18267\n",
      "Data columns (total 3 columns):\n",
      " #   Column   Non-Null Count  Dtype \n",
      "---  ------   --------------  ----- \n",
      " 0   user_id  18268 non-null  object\n",
      " 1   group    18268 non-null  object\n",
      " 2   ab_test  18268 non-null  object\n",
      "dtypes: object(3)\n",
      "memory usage: 428.3+ KB\n"
     ]
    }
   ],
   "source": [
    "ab_participants.info()"
   ]
  },
  {
   "cell_type": "markdown",
   "metadata": {},
   "source": [
    "* **Датафрейм состоит из 3 столбцов и 18268 строк.**\n",
    "* **Пропущенных значений нет.**"
   ]
  },
  {
   "cell_type": "code",
   "execution_count": 26,
   "metadata": {},
   "outputs": [
    {
     "data": {
      "text/plain": [
       "0"
      ]
     },
     "execution_count": 26,
     "metadata": {},
     "output_type": "execute_result"
    }
   ],
   "source": [
    "ab_participants.duplicated().sum()"
   ]
  },
  {
   "cell_type": "markdown",
   "metadata": {},
   "source": [
    "**Явных дубликатов нет**"
   ]
  },
  {
   "cell_type": "code",
   "execution_count": 27,
   "metadata": {},
   "outputs": [
    {
     "data": {
      "text/plain": [
       "array(['A', 'B'], dtype=object)"
      ]
     },
     "execution_count": 27,
     "metadata": {},
     "output_type": "execute_result"
    }
   ],
   "source": [
    "ab_participants['group'].unique()"
   ]
  },
  {
   "cell_type": "markdown",
   "metadata": {},
   "source": [
    "**Столбец group содержит 2 значения: А и В**"
   ]
  },
  {
   "cell_type": "code",
   "execution_count": 28,
   "metadata": {},
   "outputs": [
    {
     "data": {
      "text/plain": [
       "array(['recommender_system_test', 'interface_eu_test'], dtype=object)"
      ]
     },
     "execution_count": 28,
     "metadata": {},
     "output_type": "execute_result"
    }
   ],
   "source": [
    "ab_participants['ab_test'].unique()"
   ]
  },
  {
   "cell_type": "markdown",
   "metadata": {},
   "source": [
    "**Столбец ab_test содержит 2 значения: 'recommender_system_test' (тест рекомендательной системы), 'interface_eu_test' (тест интерфейса)**"
   ]
  },
  {
   "cell_type": "markdown",
   "metadata": {},
   "source": [
    "## ШАГ 2: АНАЛИЗ КОРРЕКТНОСТИ ПРОВЕДЕНИЯ ТЕСТА\n",
    "<a id=\"part_2\"></a> "
   ]
  },
  {
   "cell_type": "markdown",
   "metadata": {},
   "source": [
    "### Период набора пользователей в тест и его соответствие  требованиям технического задания"
   ]
  },
  {
   "cell_type": "code",
   "execution_count": 29,
   "metadata": {},
   "outputs": [
    {
     "name": "stdout",
     "output_type": "stream",
     "text": [
      "2020-12-07 00:00:00\n",
      "2020-12-23 00:00:00\n"
     ]
    }
   ],
   "source": [
    "print(ab_users['first_date'].min())\n",
    "print(ab_users['first_date'].max())"
   ]
  },
  {
   "cell_type": "markdown",
   "metadata": {},
   "source": [
    "Период набора пользователей в тест согласно датафрейму с 7 декабря по 23 декабря 2020 года. При этом согласно техническому заданию период набора с 7 декабря по 21 декабря 2020 года."
   ]
  },
  {
   "cell_type": "code",
   "execution_count": 30,
   "metadata": {},
   "outputs": [
    {
     "name": "stdout",
     "output_type": "stream",
     "text": [
      "2020-12-07 00:00:33\n",
      "2020-12-30 23:36:33\n"
     ]
    }
   ],
   "source": [
    "print(ab_events['event_dt'].min())\n",
    "print(ab_events['event_dt'].max())"
   ]
  },
  {
   "cell_type": "markdown",
   "metadata": {},
   "source": [
    "Период проведения теста согласно датафрейму с 7 декабря по 30 декабря 2020 года. При этом согласно техническому заданию период проведения теста с 7 декабря 2020 года по 4 января 2021 года."
   ]
  },
  {
   "cell_type": "markdown",
   "metadata": {},
   "source": [
    "**Удалим пользователей с датами набора позднее 21 декабря 2020 года**"
   ]
  },
  {
   "cell_type": "code",
   "execution_count": 31,
   "metadata": {},
   "outputs": [],
   "source": [
    "ab_users = ab_users.query('first_date <= \"2020-12-21 23:59:59\"')"
   ]
  },
  {
   "cell_type": "code",
   "execution_count": 32,
   "metadata": {},
   "outputs": [
    {
     "data": {
      "text/html": [
       "<div>\n",
       "<style scoped>\n",
       "    .dataframe tbody tr th:only-of-type {\n",
       "        vertical-align: middle;\n",
       "    }\n",
       "\n",
       "    .dataframe tbody tr th {\n",
       "        vertical-align: top;\n",
       "    }\n",
       "\n",
       "    .dataframe thead th {\n",
       "        text-align: right;\n",
       "    }\n",
       "</style>\n",
       "<table border=\"1\" class=\"dataframe\">\n",
       "  <thead>\n",
       "    <tr style=\"text-align: right;\">\n",
       "      <th></th>\n",
       "      <th>name</th>\n",
       "      <th>regions</th>\n",
       "      <th>start_dt</th>\n",
       "      <th>finish_dt</th>\n",
       "    </tr>\n",
       "  </thead>\n",
       "  <tbody>\n",
       "    <tr>\n",
       "      <th>6</th>\n",
       "      <td>Chinese New Year Promo</td>\n",
       "      <td>APAC</td>\n",
       "      <td>2020-01-25</td>\n",
       "      <td>2020-02-07</td>\n",
       "    </tr>\n",
       "    <tr>\n",
       "      <th>1</th>\n",
       "      <td>St. Valentine's Day Giveaway</td>\n",
       "      <td>EU, CIS, APAC, N.America</td>\n",
       "      <td>2020-02-14</td>\n",
       "      <td>2020-02-16</td>\n",
       "    </tr>\n",
       "    <tr>\n",
       "      <th>8</th>\n",
       "      <td>International Women's Day Promo</td>\n",
       "      <td>EU, CIS, APAC</td>\n",
       "      <td>2020-03-08</td>\n",
       "      <td>2020-03-10</td>\n",
       "    </tr>\n",
       "    <tr>\n",
       "      <th>2</th>\n",
       "      <td>St. Patric's Day Promo</td>\n",
       "      <td>EU, N.America</td>\n",
       "      <td>2020-03-17</td>\n",
       "      <td>2020-03-19</td>\n",
       "    </tr>\n",
       "    <tr>\n",
       "      <th>3</th>\n",
       "      <td>Easter Promo</td>\n",
       "      <td>EU, CIS, APAC, N.America</td>\n",
       "      <td>2020-04-12</td>\n",
       "      <td>2020-04-19</td>\n",
       "    </tr>\n",
       "    <tr>\n",
       "      <th>7</th>\n",
       "      <td>Labor day (May 1st) Ads Campaign</td>\n",
       "      <td>EU, CIS, APAC</td>\n",
       "      <td>2020-05-01</td>\n",
       "      <td>2020-05-03</td>\n",
       "    </tr>\n",
       "    <tr>\n",
       "      <th>9</th>\n",
       "      <td>Victory Day CIS (May 9th) Event</td>\n",
       "      <td>CIS</td>\n",
       "      <td>2020-05-09</td>\n",
       "      <td>2020-05-11</td>\n",
       "    </tr>\n",
       "    <tr>\n",
       "      <th>11</th>\n",
       "      <td>Dragon Boat Festival Giveaway</td>\n",
       "      <td>APAC</td>\n",
       "      <td>2020-06-25</td>\n",
       "      <td>2020-07-01</td>\n",
       "    </tr>\n",
       "    <tr>\n",
       "      <th>4</th>\n",
       "      <td>4th of July Promo</td>\n",
       "      <td>N.America</td>\n",
       "      <td>2020-07-04</td>\n",
       "      <td>2020-07-11</td>\n",
       "    </tr>\n",
       "    <tr>\n",
       "      <th>13</th>\n",
       "      <td>Chinese Moon Festival</td>\n",
       "      <td>APAC</td>\n",
       "      <td>2020-10-01</td>\n",
       "      <td>2020-10-07</td>\n",
       "    </tr>\n",
       "    <tr>\n",
       "      <th>12</th>\n",
       "      <td>Single's Day Gift Promo</td>\n",
       "      <td>APAC</td>\n",
       "      <td>2020-11-11</td>\n",
       "      <td>2020-11-12</td>\n",
       "    </tr>\n",
       "    <tr>\n",
       "      <th>5</th>\n",
       "      <td>Black Friday Ads Campaign</td>\n",
       "      <td>EU, CIS, APAC, N.America</td>\n",
       "      <td>2020-11-26</td>\n",
       "      <td>2020-12-01</td>\n",
       "    </tr>\n",
       "    <tr>\n",
       "      <th>0</th>\n",
       "      <td>Christmas&amp;New Year Promo</td>\n",
       "      <td>EU, N.America</td>\n",
       "      <td>2020-12-25</td>\n",
       "      <td>2021-01-03</td>\n",
       "    </tr>\n",
       "    <tr>\n",
       "      <th>10</th>\n",
       "      <td>CIS New Year Gift Lottery</td>\n",
       "      <td>CIS</td>\n",
       "      <td>2020-12-30</td>\n",
       "      <td>2021-01-07</td>\n",
       "    </tr>\n",
       "  </tbody>\n",
       "</table>\n",
       "</div>"
      ],
      "text/plain": [
       "                                name                   regions   start_dt  \\\n",
       "6             Chinese New Year Promo                      APAC 2020-01-25   \n",
       "1       St. Valentine's Day Giveaway  EU, CIS, APAC, N.America 2020-02-14   \n",
       "8    International Women's Day Promo             EU, CIS, APAC 2020-03-08   \n",
       "2             St. Patric's Day Promo             EU, N.America 2020-03-17   \n",
       "3                       Easter Promo  EU, CIS, APAC, N.America 2020-04-12   \n",
       "7   Labor day (May 1st) Ads Campaign             EU, CIS, APAC 2020-05-01   \n",
       "9    Victory Day CIS (May 9th) Event                       CIS 2020-05-09   \n",
       "11     Dragon Boat Festival Giveaway                      APAC 2020-06-25   \n",
       "4                  4th of July Promo                 N.America 2020-07-04   \n",
       "13             Chinese Moon Festival                      APAC 2020-10-01   \n",
       "12           Single's Day Gift Promo                      APAC 2020-11-11   \n",
       "5          Black Friday Ads Campaign  EU, CIS, APAC, N.America 2020-11-26   \n",
       "0           Christmas&New Year Promo             EU, N.America 2020-12-25   \n",
       "10         CIS New Year Gift Lottery                       CIS 2020-12-30   \n",
       "\n",
       "    finish_dt  \n",
       "6  2020-02-07  \n",
       "1  2020-02-16  \n",
       "8  2020-03-10  \n",
       "2  2020-03-19  \n",
       "3  2020-04-19  \n",
       "7  2020-05-03  \n",
       "9  2020-05-11  \n",
       "11 2020-07-01  \n",
       "4  2020-07-11  \n",
       "13 2020-10-07  \n",
       "12 2020-11-12  \n",
       "5  2020-12-01  \n",
       "0  2021-01-03  \n",
       "10 2021-01-07  "
      ]
     },
     "execution_count": 32,
     "metadata": {},
     "output_type": "execute_result"
    }
   ],
   "source": [
    "m_events.sort_values(by='start_dt')"
   ]
  },
  {
   "cell_type": "markdown",
   "metadata": {},
   "source": [
    "**Во время проведения теста в регионах EU, N.America проводилась маркетинговая акция \"Christmas&New Year Promo\". Возможно, это может отразиться на результатах теста.**"
   ]
  },
  {
   "cell_type": "markdown",
   "metadata": {},
   "source": [
    "### Регион регистрации пользователей: все ли попавшие в тест пользователи представляют целевой регион и составляет ли общее количество пользователей из целевого региона 15% от общего числа пользователей из целевого региона, зарегистрированных в период набора пользователей в тест"
   ]
  },
  {
   "cell_type": "code",
   "execution_count": 33,
   "metadata": {},
   "outputs": [
    {
     "data": {
      "text/html": [
       "<div>\n",
       "<style scoped>\n",
       "    .dataframe tbody tr th:only-of-type {\n",
       "        vertical-align: middle;\n",
       "    }\n",
       "\n",
       "    .dataframe tbody tr th {\n",
       "        vertical-align: top;\n",
       "    }\n",
       "\n",
       "    .dataframe thead th {\n",
       "        text-align: right;\n",
       "    }\n",
       "</style>\n",
       "<table border=\"1\" class=\"dataframe\">\n",
       "  <thead>\n",
       "    <tr style=\"text-align: right;\">\n",
       "      <th></th>\n",
       "      <th>region</th>\n",
       "      <th>count</th>\n",
       "    </tr>\n",
       "  </thead>\n",
       "  <tbody>\n",
       "    <tr>\n",
       "      <th>0</th>\n",
       "      <td>APAC</td>\n",
       "      <td>2883</td>\n",
       "    </tr>\n",
       "    <tr>\n",
       "      <th>1</th>\n",
       "      <td>CIS</td>\n",
       "      <td>2900</td>\n",
       "    </tr>\n",
       "    <tr>\n",
       "      <th>2</th>\n",
       "      <td>EU</td>\n",
       "      <td>42340</td>\n",
       "    </tr>\n",
       "    <tr>\n",
       "      <th>3</th>\n",
       "      <td>N.America</td>\n",
       "      <td>8347</td>\n",
       "    </tr>\n",
       "  </tbody>\n",
       "</table>\n",
       "</div>"
      ],
      "text/plain": [
       "      region  count\n",
       "0       APAC   2883\n",
       "1        CIS   2900\n",
       "2         EU  42340\n",
       "3  N.America   8347"
      ]
     },
     "metadata": {},
     "output_type": "display_data"
    }
   ],
   "source": [
    "user_region = ab_users.groupby('region').agg({'user_id': 'nunique'}).reset_index()\n",
    "user_region.columns = ['region', 'count']\n",
    "display(user_region)  "
   ]
  },
  {
   "cell_type": "code",
   "execution_count": 34,
   "metadata": {},
   "outputs": [
    {
     "data": {
      "image/png": "[encoded data removed]",
      "text/plain": [
       "<Figure size 576x432 with 1 Axes>"
      ]
     },
     "metadata": {
      "needs_background": "light"
     },
     "output_type": "display_data"
    }
   ],
   "source": [
    "plt.figure(figsize=(8, 6))\n",
    "a = sns.barplot(x='region', y='count', data=user_region.sort_values(by='count', ascending=True));\n",
    "plt.xticks(rotation=0)\n",
    "plt.title('Распределение пользователей по регионам');\n",
    "plt.xlabel('Регион');\n",
    "plt.ylabel('Количество пользователей');\n",
    "for p in a.patches:\n",
    "    a.annotate(format(p.get_height(), '.1f'), \n",
    "                   (p.get_x() + p.get_width() / 2., p.get_height()), \n",
    "                   ha = 'center', va = 'center', \n",
    "                   xytext = (0, 9), \n",
    "                   textcoords = 'offset points')"
   ]
  },
  {
   "cell_type": "markdown",
   "metadata": {},
   "source": [
    "Оставим пользователей из целевого региона (EU)"
   ]
  },
  {
   "cell_type": "code",
   "execution_count": 35,
   "metadata": {},
   "outputs": [
    {
     "data": {
      "text/plain": [
       "42340"
      ]
     },
     "execution_count": 35,
     "metadata": {},
     "output_type": "execute_result"
    }
   ],
   "source": [
    "user_eu = ab_users.query('region == \"EU\"')\n",
    "user_eu['user_id'].nunique()"
   ]
  },
  {
   "cell_type": "markdown",
   "metadata": {},
   "source": [
    "**Пользователей с уникальными идентификаторами из стран EU 42340**"
   ]
  },
  {
   "cell_type": "code",
   "execution_count": 36,
   "metadata": {},
   "outputs": [
    {
     "data": {
      "text/plain": [
       "6351"
      ]
     },
     "metadata": {},
     "output_type": "display_data"
    }
   ],
   "source": [
    "users_part = ab_users.merge(ab_participants, on='user_id', how='outer') \n",
    "users_part_1 = users_part.query('region == \"EU\" & ab_test ==\"recommender_system_test\"')\n",
    "display(users_part_1['user_id'].nunique())"
   ]
  },
  {
   "cell_type": "markdown",
   "metadata": {},
   "source": [
    "**Количество участников recommender_system_test из региона EU составило 6351**"
   ]
  },
  {
   "cell_type": "code",
   "execution_count": 37,
   "metadata": {},
   "outputs": [
    {
     "name": "stdout",
     "output_type": "stream",
     "text": [
      "Доля участников теста из EU: 15.00%\n"
     ]
    }
   ],
   "source": [
    "print('Доля участников теста из EU: {:.2%}'.format((users_part_1['user_id'].nunique()/user_eu['user_id'].nunique())))"
   ]
  },
  {
   "cell_type": "markdown",
   "metadata": {},
   "source": [
    "**Доля участников теста из целевого региона составляет 15 % от общего количества пользователей из целевого региона**"
   ]
  },
  {
   "cell_type": "markdown",
   "metadata": {},
   "source": [
    "### Проверка равномерности распределения пользователей по группам теста и корректности их формирования. Выявление пересечений с конкурирующим тестом"
   ]
  },
  {
   "cell_type": "code",
   "execution_count": 38,
   "metadata": {},
   "outputs": [],
   "source": [
    "users_part_3 = users_part.query('region == \"EU\"')"
   ]
  },
  {
   "cell_type": "code",
   "execution_count": 39,
   "metadata": {},
   "outputs": [
    {
     "data": {
      "text/html": [
       "<div>\n",
       "<style scoped>\n",
       "    .dataframe tbody tr th:only-of-type {\n",
       "        vertical-align: middle;\n",
       "    }\n",
       "\n",
       "    .dataframe tbody tr th {\n",
       "        vertical-align: top;\n",
       "    }\n",
       "\n",
       "    .dataframe thead th {\n",
       "        text-align: right;\n",
       "    }\n",
       "</style>\n",
       "<table border=\"1\" class=\"dataframe\">\n",
       "  <thead>\n",
       "    <tr style=\"text-align: right;\">\n",
       "      <th></th>\n",
       "      <th>user_id</th>\n",
       "      <th>first_date</th>\n",
       "      <th>region</th>\n",
       "      <th>device</th>\n",
       "      <th>group</th>\n",
       "      <th>ab_test</th>\n",
       "    </tr>\n",
       "  </thead>\n",
       "  <tbody>\n",
       "    <tr>\n",
       "      <th>14</th>\n",
       "      <td>E6DE857AFBDC6102</td>\n",
       "      <td>2020-12-07</td>\n",
       "      <td>EU</td>\n",
       "      <td>PC</td>\n",
       "      <td>B</td>\n",
       "      <td>interface_eu_test</td>\n",
       "    </tr>\n",
       "    <tr>\n",
       "      <th>22</th>\n",
       "      <td>DD4352CDCF8C3D57</td>\n",
       "      <td>2020-12-07</td>\n",
       "      <td>EU</td>\n",
       "      <td>Android</td>\n",
       "      <td>A</td>\n",
       "      <td>interface_eu_test</td>\n",
       "    </tr>\n",
       "    <tr>\n",
       "      <th>206</th>\n",
       "      <td>7779596AE52635A8</td>\n",
       "      <td>2020-12-07</td>\n",
       "      <td>EU</td>\n",
       "      <td>iPhone</td>\n",
       "      <td>A</td>\n",
       "      <td>interface_eu_test</td>\n",
       "    </tr>\n",
       "    <tr>\n",
       "      <th>218</th>\n",
       "      <td>6A581C74EF4D5F44</td>\n",
       "      <td>2020-12-07</td>\n",
       "      <td>EU</td>\n",
       "      <td>iPhone</td>\n",
       "      <td>A</td>\n",
       "      <td>interface_eu_test</td>\n",
       "    </tr>\n",
       "    <tr>\n",
       "      <th>231</th>\n",
       "      <td>2B06EB547B7AAD08</td>\n",
       "      <td>2020-12-07</td>\n",
       "      <td>EU</td>\n",
       "      <td>PC</td>\n",
       "      <td>A</td>\n",
       "      <td>interface_eu_test</td>\n",
       "    </tr>\n",
       "    <tr>\n",
       "      <th>...</th>\n",
       "      <td>...</td>\n",
       "      <td>...</td>\n",
       "      <td>...</td>\n",
       "      <td>...</td>\n",
       "      <td>...</td>\n",
       "      <td>...</td>\n",
       "    </tr>\n",
       "    <tr>\n",
       "      <th>57928</th>\n",
       "      <td>549A5092FD1BD5D9</td>\n",
       "      <td>2020-12-20</td>\n",
       "      <td>EU</td>\n",
       "      <td>iPhone</td>\n",
       "      <td>B</td>\n",
       "      <td>interface_eu_test</td>\n",
       "    </tr>\n",
       "    <tr>\n",
       "      <th>57973</th>\n",
       "      <td>C27F677720E68EA4</td>\n",
       "      <td>2020-12-20</td>\n",
       "      <td>EU</td>\n",
       "      <td>Android</td>\n",
       "      <td>A</td>\n",
       "      <td>interface_eu_test</td>\n",
       "    </tr>\n",
       "    <tr>\n",
       "      <th>58006</th>\n",
       "      <td>902F92052587344F</td>\n",
       "      <td>2020-12-20</td>\n",
       "      <td>EU</td>\n",
       "      <td>Mac</td>\n",
       "      <td>A</td>\n",
       "      <td>interface_eu_test</td>\n",
       "    </tr>\n",
       "    <tr>\n",
       "      <th>58012</th>\n",
       "      <td>220B14060698D586</td>\n",
       "      <td>2020-12-20</td>\n",
       "      <td>EU</td>\n",
       "      <td>iPhone</td>\n",
       "      <td>A</td>\n",
       "      <td>interface_eu_test</td>\n",
       "    </tr>\n",
       "    <tr>\n",
       "      <th>58024</th>\n",
       "      <td>A09DFE27D4CFF8E8</td>\n",
       "      <td>2020-12-20</td>\n",
       "      <td>EU</td>\n",
       "      <td>Android</td>\n",
       "      <td>B</td>\n",
       "      <td>interface_eu_test</td>\n",
       "    </tr>\n",
       "  </tbody>\n",
       "</table>\n",
       "<p>1602 rows × 6 columns</p>\n",
       "</div>"
      ],
      "text/plain": [
       "                user_id first_date region   device group            ab_test\n",
       "14     E6DE857AFBDC6102 2020-12-07     EU       PC     B  interface_eu_test\n",
       "22     DD4352CDCF8C3D57 2020-12-07     EU  Android     A  interface_eu_test\n",
       "206    7779596AE52635A8 2020-12-07     EU   iPhone     A  interface_eu_test\n",
       "218    6A581C74EF4D5F44 2020-12-07     EU   iPhone     A  interface_eu_test\n",
       "231    2B06EB547B7AAD08 2020-12-07     EU       PC     A  interface_eu_test\n",
       "...                 ...        ...    ...      ...   ...                ...\n",
       "57928  549A5092FD1BD5D9 2020-12-20     EU   iPhone     B  interface_eu_test\n",
       "57973  C27F677720E68EA4 2020-12-20     EU  Android     A  interface_eu_test\n",
       "58006  902F92052587344F 2020-12-20     EU      Mac     A  interface_eu_test\n",
       "58012  220B14060698D586 2020-12-20     EU   iPhone     A  interface_eu_test\n",
       "58024  A09DFE27D4CFF8E8 2020-12-20     EU  Android     B  interface_eu_test\n",
       "\n",
       "[1602 rows x 6 columns]"
      ]
     },
     "execution_count": 39,
     "metadata": {},
     "output_type": "execute_result"
    }
   ],
   "source": [
    "users_part_3[users_part_3.duplicated(['user_id'])]"
   ]
  },
  {
   "cell_type": "code",
   "execution_count": 40,
   "metadata": {
    "scrolled": false
   },
   "outputs": [
    {
     "data": {
      "text/html": [
       "<div>\n",
       "<style scoped>\n",
       "    .dataframe tbody tr th:only-of-type {\n",
       "        vertical-align: middle;\n",
       "    }\n",
       "\n",
       "    .dataframe tbody tr th {\n",
       "        vertical-align: top;\n",
       "    }\n",
       "\n",
       "    .dataframe thead th {\n",
       "        text-align: right;\n",
       "    }\n",
       "</style>\n",
       "<table border=\"1\" class=\"dataframe\">\n",
       "  <thead>\n",
       "    <tr style=\"text-align: right;\">\n",
       "      <th></th>\n",
       "      <th>user_id</th>\n",
       "      <th>first_date</th>\n",
       "      <th>region</th>\n",
       "      <th>device</th>\n",
       "      <th>group</th>\n",
       "      <th>ab_test</th>\n",
       "    </tr>\n",
       "  </thead>\n",
       "  <tbody>\n",
       "    <tr>\n",
       "      <th>14</th>\n",
       "      <td>E6DE857AFBDC6102</td>\n",
       "      <td>2020-12-07</td>\n",
       "      <td>EU</td>\n",
       "      <td>PC</td>\n",
       "      <td>B</td>\n",
       "      <td>interface_eu_test</td>\n",
       "    </tr>\n",
       "    <tr>\n",
       "      <th>231</th>\n",
       "      <td>2B06EB547B7AAD08</td>\n",
       "      <td>2020-12-07</td>\n",
       "      <td>EU</td>\n",
       "      <td>PC</td>\n",
       "      <td>A</td>\n",
       "      <td>interface_eu_test</td>\n",
       "    </tr>\n",
       "    <tr>\n",
       "      <th>259</th>\n",
       "      <td>D755F72C453BF6A7</td>\n",
       "      <td>2020-12-07</td>\n",
       "      <td>EU</td>\n",
       "      <td>Mac</td>\n",
       "      <td>B</td>\n",
       "      <td>interface_eu_test</td>\n",
       "    </tr>\n",
       "    <tr>\n",
       "      <th>288</th>\n",
       "      <td>DF40EF85F55A958D</td>\n",
       "      <td>2020-12-07</td>\n",
       "      <td>EU</td>\n",
       "      <td>Mac</td>\n",
       "      <td>B</td>\n",
       "      <td>interface_eu_test</td>\n",
       "    </tr>\n",
       "    <tr>\n",
       "      <th>300</th>\n",
       "      <td>2E30DF2649604771</td>\n",
       "      <td>2020-12-07</td>\n",
       "      <td>EU</td>\n",
       "      <td>iPhone</td>\n",
       "      <td>B</td>\n",
       "      <td>interface_eu_test</td>\n",
       "    </tr>\n",
       "    <tr>\n",
       "      <th>...</th>\n",
       "      <td>...</td>\n",
       "      <td>...</td>\n",
       "      <td>...</td>\n",
       "      <td>...</td>\n",
       "      <td>...</td>\n",
       "      <td>...</td>\n",
       "    </tr>\n",
       "    <tr>\n",
       "      <th>57804</th>\n",
       "      <td>A3BEB02A027BA3C4</td>\n",
       "      <td>2020-12-20</td>\n",
       "      <td>EU</td>\n",
       "      <td>Android</td>\n",
       "      <td>A</td>\n",
       "      <td>interface_eu_test</td>\n",
       "    </tr>\n",
       "    <tr>\n",
       "      <th>57820</th>\n",
       "      <td>8D406B3B500671BD</td>\n",
       "      <td>2020-12-20</td>\n",
       "      <td>EU</td>\n",
       "      <td>PC</td>\n",
       "      <td>A</td>\n",
       "      <td>interface_eu_test</td>\n",
       "    </tr>\n",
       "    <tr>\n",
       "      <th>57898</th>\n",
       "      <td>FA8706D1E274805E</td>\n",
       "      <td>2020-12-20</td>\n",
       "      <td>EU</td>\n",
       "      <td>iPhone</td>\n",
       "      <td>B</td>\n",
       "      <td>interface_eu_test</td>\n",
       "    </tr>\n",
       "    <tr>\n",
       "      <th>57973</th>\n",
       "      <td>C27F677720E68EA4</td>\n",
       "      <td>2020-12-20</td>\n",
       "      <td>EU</td>\n",
       "      <td>Android</td>\n",
       "      <td>A</td>\n",
       "      <td>interface_eu_test</td>\n",
       "    </tr>\n",
       "    <tr>\n",
       "      <th>58024</th>\n",
       "      <td>A09DFE27D4CFF8E8</td>\n",
       "      <td>2020-12-20</td>\n",
       "      <td>EU</td>\n",
       "      <td>Android</td>\n",
       "      <td>B</td>\n",
       "      <td>interface_eu_test</td>\n",
       "    </tr>\n",
       "  </tbody>\n",
       "</table>\n",
       "<p>826 rows × 6 columns</p>\n",
       "</div>"
      ],
      "text/plain": [
       "                user_id first_date region   device group            ab_test\n",
       "14     E6DE857AFBDC6102 2020-12-07     EU       PC     B  interface_eu_test\n",
       "231    2B06EB547B7AAD08 2020-12-07     EU       PC     A  interface_eu_test\n",
       "259    D755F72C453BF6A7 2020-12-07     EU      Mac     B  interface_eu_test\n",
       "288    DF40EF85F55A958D 2020-12-07     EU      Mac     B  interface_eu_test\n",
       "300    2E30DF2649604771 2020-12-07     EU   iPhone     B  interface_eu_test\n",
       "...                 ...        ...    ...      ...   ...                ...\n",
       "57804  A3BEB02A027BA3C4 2020-12-20     EU  Android     A  interface_eu_test\n",
       "57820  8D406B3B500671BD 2020-12-20     EU       PC     A  interface_eu_test\n",
       "57898  FA8706D1E274805E 2020-12-20     EU   iPhone     B  interface_eu_test\n",
       "57973  C27F677720E68EA4 2020-12-20     EU  Android     A  interface_eu_test\n",
       "58024  A09DFE27D4CFF8E8 2020-12-20     EU  Android     B  interface_eu_test\n",
       "\n",
       "[826 rows x 6 columns]"
      ]
     },
     "execution_count": 40,
     "metadata": {},
     "output_type": "execute_result"
    }
   ],
   "source": [
    "users_part_3[users_part_3.duplicated(['user_id', 'group'])]"
   ]
  },
  {
   "cell_type": "code",
   "execution_count": 41,
   "metadata": {},
   "outputs": [
    {
     "data": {
      "text/html": [
       "<div>\n",
       "<style scoped>\n",
       "    .dataframe tbody tr th:only-of-type {\n",
       "        vertical-align: middle;\n",
       "    }\n",
       "\n",
       "    .dataframe tbody tr th {\n",
       "        vertical-align: top;\n",
       "    }\n",
       "\n",
       "    .dataframe thead th {\n",
       "        text-align: right;\n",
       "    }\n",
       "</style>\n",
       "<table border=\"1\" class=\"dataframe\">\n",
       "  <thead>\n",
       "    <tr style=\"text-align: right;\">\n",
       "      <th></th>\n",
       "      <th>user_id</th>\n",
       "      <th>first_date</th>\n",
       "      <th>region</th>\n",
       "      <th>device</th>\n",
       "      <th>group</th>\n",
       "      <th>ab_test</th>\n",
       "    </tr>\n",
       "  </thead>\n",
       "  <tbody>\n",
       "    <tr>\n",
       "      <th>13</th>\n",
       "      <td>E6DE857AFBDC6102</td>\n",
       "      <td>2020-12-07</td>\n",
       "      <td>EU</td>\n",
       "      <td>PC</td>\n",
       "      <td>B</td>\n",
       "      <td>recommender_system_test</td>\n",
       "    </tr>\n",
       "    <tr>\n",
       "      <th>14</th>\n",
       "      <td>E6DE857AFBDC6102</td>\n",
       "      <td>2020-12-07</td>\n",
       "      <td>EU</td>\n",
       "      <td>PC</td>\n",
       "      <td>B</td>\n",
       "      <td>interface_eu_test</td>\n",
       "    </tr>\n",
       "  </tbody>\n",
       "</table>\n",
       "</div>"
      ],
      "text/plain": [
       "             user_id first_date region device group                  ab_test\n",
       "13  E6DE857AFBDC6102 2020-12-07     EU     PC     B  recommender_system_test\n",
       "14  E6DE857AFBDC6102 2020-12-07     EU     PC     B        interface_eu_test"
      ]
     },
     "execution_count": 41,
     "metadata": {},
     "output_type": "execute_result"
    }
   ],
   "source": [
    "users_part_3.loc[users_part_3['user_id']=='E6DE857AFBDC6102']"
   ]
  },
  {
   "cell_type": "code",
   "execution_count": 42,
   "metadata": {},
   "outputs": [
    {
     "data": {
      "text/html": [
       "<div>\n",
       "<style scoped>\n",
       "    .dataframe tbody tr th:only-of-type {\n",
       "        vertical-align: middle;\n",
       "    }\n",
       "\n",
       "    .dataframe tbody tr th {\n",
       "        vertical-align: top;\n",
       "    }\n",
       "\n",
       "    .dataframe thead th {\n",
       "        text-align: right;\n",
       "    }\n",
       "</style>\n",
       "<table border=\"1\" class=\"dataframe\">\n",
       "  <thead>\n",
       "    <tr style=\"text-align: right;\">\n",
       "      <th></th>\n",
       "      <th>user_id</th>\n",
       "      <th>first_date</th>\n",
       "      <th>region</th>\n",
       "      <th>device</th>\n",
       "      <th>group</th>\n",
       "      <th>ab_test</th>\n",
       "    </tr>\n",
       "  </thead>\n",
       "  <tbody>\n",
       "    <tr>\n",
       "      <th>57927</th>\n",
       "      <td>549A5092FD1BD5D9</td>\n",
       "      <td>2020-12-20</td>\n",
       "      <td>EU</td>\n",
       "      <td>iPhone</td>\n",
       "      <td>A</td>\n",
       "      <td>recommender_system_test</td>\n",
       "    </tr>\n",
       "    <tr>\n",
       "      <th>57928</th>\n",
       "      <td>549A5092FD1BD5D9</td>\n",
       "      <td>2020-12-20</td>\n",
       "      <td>EU</td>\n",
       "      <td>iPhone</td>\n",
       "      <td>B</td>\n",
       "      <td>interface_eu_test</td>\n",
       "    </tr>\n",
       "  </tbody>\n",
       "</table>\n",
       "</div>"
      ],
      "text/plain": [
       "                user_id first_date region  device group  \\\n",
       "57927  549A5092FD1BD5D9 2020-12-20     EU  iPhone     A   \n",
       "57928  549A5092FD1BD5D9 2020-12-20     EU  iPhone     B   \n",
       "\n",
       "                       ab_test  \n",
       "57927  recommender_system_test  \n",
       "57928        interface_eu_test  "
      ]
     },
     "execution_count": 42,
     "metadata": {},
     "output_type": "execute_result"
    }
   ],
   "source": [
    "users_part_3.loc[users_part_3['user_id']=='549A5092FD1BD5D9']"
   ]
  },
  {
   "cell_type": "markdown",
   "metadata": {},
   "source": [
    "**Участники теста interface_eu_test также входят в группы А и В теста recommender_system_test**"
   ]
  },
  {
   "cell_type": "code",
   "execution_count": 43,
   "metadata": {},
   "outputs": [
    {
     "data": {
      "text/html": [
       "<div>\n",
       "<style scoped>\n",
       "    .dataframe tbody tr th:only-of-type {\n",
       "        vertical-align: middle;\n",
       "    }\n",
       "\n",
       "    .dataframe tbody tr th {\n",
       "        vertical-align: top;\n",
       "    }\n",
       "\n",
       "    .dataframe thead th {\n",
       "        text-align: right;\n",
       "    }\n",
       "</style>\n",
       "<table border=\"1\" class=\"dataframe\">\n",
       "  <thead>\n",
       "    <tr style=\"text-align: right;\">\n",
       "      <th>ab_test</th>\n",
       "      <th>interface_eu_test</th>\n",
       "      <th>recommender_system_test</th>\n",
       "    </tr>\n",
       "    <tr>\n",
       "      <th>group</th>\n",
       "      <th></th>\n",
       "      <th></th>\n",
       "    </tr>\n",
       "  </thead>\n",
       "  <tbody>\n",
       "    <tr>\n",
       "      <th>A</th>\n",
       "      <td>5342</td>\n",
       "      <td>3634</td>\n",
       "    </tr>\n",
       "    <tr>\n",
       "      <th>B</th>\n",
       "      <td>5223</td>\n",
       "      <td>2717</td>\n",
       "    </tr>\n",
       "  </tbody>\n",
       "</table>\n",
       "</div>"
      ],
      "text/plain": [
       "ab_test  interface_eu_test  recommender_system_test\n",
       "group                                              \n",
       "A                     5342                     3634\n",
       "B                     5223                     2717"
      ]
     },
     "execution_count": 43,
     "metadata": {},
     "output_type": "execute_result"
    }
   ],
   "source": [
    "users_part_3.pivot_table(index= 'group', columns = 'ab_test', values = 'user_id', aggfunc ='count')"
   ]
  },
  {
   "cell_type": "markdown",
   "metadata": {},
   "source": [
    "**Распределение количества пользователей из EU по тестам и группам показало, что в тесте recommender_system_test приняли участие 6351 человек, в группу В вошло 2717, что на 25,3 % меньше, чем в группу А (3634)**"
   ]
  },
  {
   "cell_type": "markdown",
   "metadata": {},
   "source": [
    "**Определим, какое количество пользователей из группы B параллельного теста вошло в тест recommender_system_test**"
   ]
  },
  {
   "cell_type": "code",
   "execution_count": 44,
   "metadata": {},
   "outputs": [],
   "source": [
    "users_part_4 = users_part_3.loc[users_part_3['ab_test']=='recommender_system_test']"
   ]
  },
  {
   "cell_type": "code",
   "execution_count": 45,
   "metadata": {},
   "outputs": [],
   "source": [
    "users_part_5 = users_part_3.loc[(users_part_3['ab_test']=='interface_eu_test') & (users_part_3['group']=='B')]\n",
    "users_ie = users_part_5['user_id'].unique()"
   ]
  },
  {
   "cell_type": "code",
   "execution_count": 46,
   "metadata": {},
   "outputs": [
    {
     "data": {
      "text/html": [
       "<div>\n",
       "<style scoped>\n",
       "    .dataframe tbody tr th:only-of-type {\n",
       "        vertical-align: middle;\n",
       "    }\n",
       "\n",
       "    .dataframe tbody tr th {\n",
       "        vertical-align: top;\n",
       "    }\n",
       "\n",
       "    .dataframe thead th {\n",
       "        text-align: right;\n",
       "    }\n",
       "</style>\n",
       "<table border=\"1\" class=\"dataframe\">\n",
       "  <thead>\n",
       "    <tr style=\"text-align: right;\">\n",
       "      <th></th>\n",
       "      <th>group</th>\n",
       "      <th>from_B_ie</th>\n",
       "      <th>in_rec_s</th>\n",
       "      <th>sum</th>\n",
       "      <th>%</th>\n",
       "    </tr>\n",
       "  </thead>\n",
       "  <tbody>\n",
       "    <tr>\n",
       "      <th>0</th>\n",
       "      <td>A</td>\n",
       "      <td>439</td>\n",
       "      <td>3195</td>\n",
       "      <td>3634</td>\n",
       "      <td>12.1</td>\n",
       "    </tr>\n",
       "    <tr>\n",
       "      <th>1</th>\n",
       "      <td>B</td>\n",
       "      <td>344</td>\n",
       "      <td>2373</td>\n",
       "      <td>2717</td>\n",
       "      <td>12.7</td>\n",
       "    </tr>\n",
       "  </tbody>\n",
       "</table>\n",
       "</div>"
      ],
      "text/plain": [
       "  group  from_B_ie  in_rec_s   sum     %\n",
       "0     A        439      3195  3634  12.1\n",
       "1     B        344      2373  2717  12.7"
      ]
     },
     "metadata": {},
     "output_type": "display_data"
    }
   ],
   "source": [
    "users_part_6 = users_part_4[users_part_4['user_id'].isin(users_ie)]\n",
    "from_B_ie = users_part_6.pivot_table(index= 'group', values = 'user_id', aggfunc ='count').reset_index()\n",
    "from_B_ie.columns = ['group','from_B_ie']\n",
    "\n",
    "users_part_7 = users_part_4[~users_part_4['user_id'].isin(users_ie)]\n",
    "notB= users_part_7.pivot_table(index= 'group', values = 'user_id', aggfunc ='count').reset_index()\n",
    "notB.columns = ['group','in_rec_s']\n",
    "\n",
    "result_s = from_B_ie.merge(notB, on ='group')\n",
    "result_s['sum'] = result_s['from_B_ie']+result_s['in_rec_s']\n",
    "result_s['%'] = round((result_s['from_B_ie']/result_s['sum'])*100,1)\n",
    "display(result_s)"
   ]
  },
  {
   "cell_type": "markdown",
   "metadata": {},
   "source": [
    "**Посмотрим, есть ли в тесте пользователи, участвующие в обеих группах одновременно**"
   ]
  },
  {
   "cell_type": "code",
   "execution_count": 47,
   "metadata": {
    "scrolled": true
   },
   "outputs": [
    {
     "data": {
      "text/plain": [
       "0"
      ]
     },
     "execution_count": 47,
     "metadata": {},
     "output_type": "execute_result"
    }
   ],
   "source": [
    "users_part_7['user_id'].duplicated().sum()"
   ]
  },
  {
   "cell_type": "markdown",
   "metadata": {},
   "source": [
    "**пользователей, участвующих в обеих группах  теста одновременно не выявлено**"
   ]
  },
  {
   "cell_type": "code",
   "execution_count": 48,
   "metadata": {},
   "outputs": [
    {
     "data": {
      "image/png": "[encoded data removed]",
      "text/plain": [
       "<Figure size 432x288 with 1 Axes>"
      ]
     },
     "metadata": {
      "needs_background": "light"
     },
     "output_type": "display_data"
    }
   ],
   "source": [
    "plt.figure(figsize=(6, 4))\n",
    "a=sns.barplot(data=notB, x='group', y='in_rec_s', palette = 'Set1')\n",
    "plt.title('Распределение количества участников теста по группам')   \n",
    "plt.xlabel('Группа')\n",
    "plt.ylabel('Количество участников')\n",
    "\n",
    "for p in a.patches:\n",
    "    a.annotate(format(p.get_height(), '.2f'), \n",
    "                   (p.get_x() + p.get_width() / 2., p.get_height()), \n",
    "                   ha = 'center', va = 'center', \n",
    "                   xytext = (0, 9), \n",
    "                   textcoords = 'offset points')\n",
    "plt.show;"
   ]
  },
  {
   "cell_type": "markdown",
   "metadata": {},
   "source": [
    "**Количество участников теста recommender_system_test изначально составляло 6351 человек, после проверки пересечения участников группы В параллельного теста (interface_eu_test) и теста recommender_system_test было обнаружено, что 783 участника группы В теста interface_eu_test входят и в тест recommender_system_test. Их распределение по группам следующее А-439 и В-344, что составляет 12,1 и 12,7 процентов соответственно от начального количества. Процент вхождения примерно одинаков, и можно не удалять данных участников из теста, так как они внесут примерно равный вклад в результат теста, и таким образом общий результат не изменится. Удаление данного количества участников (а это составляет 12,3 от 6351) может уменьшить мощность теста. Для соблюдения чистоты проведения теста и получения более точных результатов, все же удалим данных участников. Таким образо, в тесте участвует 5568 уникальных пользователей (13.2 % от общего количества участников из региона EU), количество участников распределено по группам неравномерно.**"
   ]
  },
  {
   "cell_type": "markdown",
   "metadata": {},
   "source": [
    "### Динамика набора пользователей в группы теста"
   ]
  },
  {
   "cell_type": "code",
   "execution_count": 49,
   "metadata": {},
   "outputs": [
    {
     "data": {
      "image/png": "[encoded data removed]",
      "text/plain": [
       "<Figure size 432x288 with 1 Axes>"
      ]
     },
     "metadata": {
      "needs_background": "light"
     },
     "output_type": "display_data"
    }
   ],
   "source": [
    "sns.histplot(data=users_part_7, x='first_date', hue = 'group', binwidth =1,\n",
    "                 common_norm=False, palette = 'Set1', kde=True)\n",
    "plt.title('Динамика набора участников теста по дням')       \n",
    "plt.xlabel('Дата')\n",
    "plt.ylabel('Количество участников теста')\n",
    "plt.xticks(rotation=90)\n",
    "plt.show;"
   ]
  },
  {
   "cell_type": "markdown",
   "metadata": {},
   "source": [
    "**График показывает, что динамика набора пользователей была циклична, наибольший набор пользователей был на 1,8 и 14 день.Наименьший на 3 и 10 дни. При этом набор по группам был пропорционален. В группу А набиралось чуть больше пользователей, чем в В**"
   ]
  },
  {
   "cell_type": "markdown",
   "metadata": {},
   "source": [
    "### Активность пользователей: все ли зарегистрированные пользователи прошли авторизацию и совершали переход по продуктовой воронке; если есть пользователи, которые не совершали событий после регистрации, изучите их количество и распределение между группами теста; сделайте вывод о необходимости учитывать пользователей без событий при изучении результатов теста"
   ]
  },
  {
   "cell_type": "code",
   "execution_count": 50,
   "metadata": {},
   "outputs": [],
   "source": [
    "final_data = users_part_7.merge(ab_events, on ='user_id')"
   ]
  },
  {
   "cell_type": "code",
   "execution_count": 51,
   "metadata": {},
   "outputs": [
    {
     "data": {
      "text/html": [
       "<div>\n",
       "<style scoped>\n",
       "    .dataframe tbody tr th:only-of-type {\n",
       "        vertical-align: middle;\n",
       "    }\n",
       "\n",
       "    .dataframe tbody tr th {\n",
       "        vertical-align: top;\n",
       "    }\n",
       "\n",
       "    .dataframe thead th {\n",
       "        text-align: right;\n",
       "    }\n",
       "</style>\n",
       "<table border=\"1\" class=\"dataframe\">\n",
       "  <thead>\n",
       "    <tr style=\"text-align: right;\">\n",
       "      <th></th>\n",
       "      <th>user_id</th>\n",
       "      <th>first_date</th>\n",
       "      <th>region</th>\n",
       "      <th>device</th>\n",
       "      <th>group</th>\n",
       "      <th>ab_test</th>\n",
       "      <th>event_dt</th>\n",
       "      <th>event_name</th>\n",
       "      <th>details</th>\n",
       "    </tr>\n",
       "  </thead>\n",
       "  <tbody>\n",
       "    <tr>\n",
       "      <th>0</th>\n",
       "      <td>D72A72121175D8BE</td>\n",
       "      <td>2020-12-07</td>\n",
       "      <td>EU</td>\n",
       "      <td>PC</td>\n",
       "      <td>A</td>\n",
       "      <td>recommender_system_test</td>\n",
       "      <td>2020-12-07 21:52:10</td>\n",
       "      <td>product_page</td>\n",
       "      <td>NaN</td>\n",
       "    </tr>\n",
       "    <tr>\n",
       "      <th>1</th>\n",
       "      <td>D72A72121175D8BE</td>\n",
       "      <td>2020-12-07</td>\n",
       "      <td>EU</td>\n",
       "      <td>PC</td>\n",
       "      <td>A</td>\n",
       "      <td>recommender_system_test</td>\n",
       "      <td>2020-12-07 21:52:07</td>\n",
       "      <td>login</td>\n",
       "      <td>NaN</td>\n",
       "    </tr>\n",
       "    <tr>\n",
       "      <th>2</th>\n",
       "      <td>DD4352CDCF8C3D57</td>\n",
       "      <td>2020-12-07</td>\n",
       "      <td>EU</td>\n",
       "      <td>Android</td>\n",
       "      <td>B</td>\n",
       "      <td>recommender_system_test</td>\n",
       "      <td>2020-12-07 15:32:54</td>\n",
       "      <td>product_page</td>\n",
       "      <td>NaN</td>\n",
       "    </tr>\n",
       "    <tr>\n",
       "      <th>3</th>\n",
       "      <td>DD4352CDCF8C3D57</td>\n",
       "      <td>2020-12-07</td>\n",
       "      <td>EU</td>\n",
       "      <td>Android</td>\n",
       "      <td>B</td>\n",
       "      <td>recommender_system_test</td>\n",
       "      <td>2020-12-08 08:29:31</td>\n",
       "      <td>product_page</td>\n",
       "      <td>NaN</td>\n",
       "    </tr>\n",
       "    <tr>\n",
       "      <th>4</th>\n",
       "      <td>DD4352CDCF8C3D57</td>\n",
       "      <td>2020-12-07</td>\n",
       "      <td>EU</td>\n",
       "      <td>Android</td>\n",
       "      <td>B</td>\n",
       "      <td>recommender_system_test</td>\n",
       "      <td>2020-12-10 18:18:27</td>\n",
       "      <td>product_page</td>\n",
       "      <td>NaN</td>\n",
       "    </tr>\n",
       "    <tr>\n",
       "      <th>...</th>\n",
       "      <td>...</td>\n",
       "      <td>...</td>\n",
       "      <td>...</td>\n",
       "      <td>...</td>\n",
       "      <td>...</td>\n",
       "      <td>...</td>\n",
       "      <td>...</td>\n",
       "      <td>...</td>\n",
       "      <td>...</td>\n",
       "    </tr>\n",
       "    <tr>\n",
       "      <th>20559</th>\n",
       "      <td>0416B34D35C8C8B8</td>\n",
       "      <td>2020-12-20</td>\n",
       "      <td>EU</td>\n",
       "      <td>Android</td>\n",
       "      <td>A</td>\n",
       "      <td>recommender_system_test</td>\n",
       "      <td>2020-12-21 22:28:29</td>\n",
       "      <td>product_page</td>\n",
       "      <td>NaN</td>\n",
       "    </tr>\n",
       "    <tr>\n",
       "      <th>20560</th>\n",
       "      <td>0416B34D35C8C8B8</td>\n",
       "      <td>2020-12-20</td>\n",
       "      <td>EU</td>\n",
       "      <td>Android</td>\n",
       "      <td>A</td>\n",
       "      <td>recommender_system_test</td>\n",
       "      <td>2020-12-24 09:12:51</td>\n",
       "      <td>product_page</td>\n",
       "      <td>NaN</td>\n",
       "    </tr>\n",
       "    <tr>\n",
       "      <th>20561</th>\n",
       "      <td>0416B34D35C8C8B8</td>\n",
       "      <td>2020-12-20</td>\n",
       "      <td>EU</td>\n",
       "      <td>Android</td>\n",
       "      <td>A</td>\n",
       "      <td>recommender_system_test</td>\n",
       "      <td>2020-12-20 20:58:25</td>\n",
       "      <td>login</td>\n",
       "      <td>NaN</td>\n",
       "    </tr>\n",
       "    <tr>\n",
       "      <th>20562</th>\n",
       "      <td>0416B34D35C8C8B8</td>\n",
       "      <td>2020-12-20</td>\n",
       "      <td>EU</td>\n",
       "      <td>Android</td>\n",
       "      <td>A</td>\n",
       "      <td>recommender_system_test</td>\n",
       "      <td>2020-12-21 22:28:29</td>\n",
       "      <td>login</td>\n",
       "      <td>NaN</td>\n",
       "    </tr>\n",
       "    <tr>\n",
       "      <th>20563</th>\n",
       "      <td>0416B34D35C8C8B8</td>\n",
       "      <td>2020-12-20</td>\n",
       "      <td>EU</td>\n",
       "      <td>Android</td>\n",
       "      <td>A</td>\n",
       "      <td>recommender_system_test</td>\n",
       "      <td>2020-12-24 09:12:49</td>\n",
       "      <td>login</td>\n",
       "      <td>NaN</td>\n",
       "    </tr>\n",
       "  </tbody>\n",
       "</table>\n",
       "<p>20564 rows × 9 columns</p>\n",
       "</div>"
      ],
      "text/plain": [
       "                user_id first_date region   device group  \\\n",
       "0      D72A72121175D8BE 2020-12-07     EU       PC     A   \n",
       "1      D72A72121175D8BE 2020-12-07     EU       PC     A   \n",
       "2      DD4352CDCF8C3D57 2020-12-07     EU  Android     B   \n",
       "3      DD4352CDCF8C3D57 2020-12-07     EU  Android     B   \n",
       "4      DD4352CDCF8C3D57 2020-12-07     EU  Android     B   \n",
       "...                 ...        ...    ...      ...   ...   \n",
       "20559  0416B34D35C8C8B8 2020-12-20     EU  Android     A   \n",
       "20560  0416B34D35C8C8B8 2020-12-20     EU  Android     A   \n",
       "20561  0416B34D35C8C8B8 2020-12-20     EU  Android     A   \n",
       "20562  0416B34D35C8C8B8 2020-12-20     EU  Android     A   \n",
       "20563  0416B34D35C8C8B8 2020-12-20     EU  Android     A   \n",
       "\n",
       "                       ab_test            event_dt    event_name  details  \n",
       "0      recommender_system_test 2020-12-07 21:52:10  product_page      NaN  \n",
       "1      recommender_system_test 2020-12-07 21:52:07         login      NaN  \n",
       "2      recommender_system_test 2020-12-07 15:32:54  product_page      NaN  \n",
       "3      recommender_system_test 2020-12-08 08:29:31  product_page      NaN  \n",
       "4      recommender_system_test 2020-12-10 18:18:27  product_page      NaN  \n",
       "...                        ...                 ...           ...      ...  \n",
       "20559  recommender_system_test 2020-12-21 22:28:29  product_page      NaN  \n",
       "20560  recommender_system_test 2020-12-24 09:12:51  product_page      NaN  \n",
       "20561  recommender_system_test 2020-12-20 20:58:25         login      NaN  \n",
       "20562  recommender_system_test 2020-12-21 22:28:29         login      NaN  \n",
       "20563  recommender_system_test 2020-12-24 09:12:49         login      NaN  \n",
       "\n",
       "[20564 rows x 9 columns]"
      ]
     },
     "metadata": {},
     "output_type": "display_data"
    }
   ],
   "source": [
    "display(final_data)"
   ]
  },
  {
   "cell_type": "code",
   "execution_count": 52,
   "metadata": {},
   "outputs": [
    {
     "name": "stdout",
     "output_type": "stream",
     "text": [
      "3050\n"
     ]
    },
    {
     "data": {
      "text/html": [
       "<div>\n",
       "<style scoped>\n",
       "    .dataframe tbody tr th:only-of-type {\n",
       "        vertical-align: middle;\n",
       "    }\n",
       "\n",
       "    .dataframe tbody tr th {\n",
       "        vertical-align: top;\n",
       "    }\n",
       "\n",
       "    .dataframe thead th {\n",
       "        text-align: right;\n",
       "    }\n",
       "</style>\n",
       "<table border=\"1\" class=\"dataframe\">\n",
       "  <thead>\n",
       "    <tr style=\"text-align: right;\">\n",
       "      <th></th>\n",
       "      <th>user_id</th>\n",
       "      <th>first_date</th>\n",
       "      <th>region</th>\n",
       "      <th>device</th>\n",
       "      <th>group</th>\n",
       "      <th>ab_test</th>\n",
       "      <th>event_dt</th>\n",
       "      <th>event_name</th>\n",
       "      <th>details</th>\n",
       "    </tr>\n",
       "  </thead>\n",
       "  <tbody>\n",
       "    <tr>\n",
       "      <th>1</th>\n",
       "      <td>D72A72121175D8BE</td>\n",
       "      <td>2020-12-07</td>\n",
       "      <td>EU</td>\n",
       "      <td>PC</td>\n",
       "      <td>A</td>\n",
       "      <td>recommender_system_test</td>\n",
       "      <td>2020-12-07 21:52:07</td>\n",
       "      <td>login</td>\n",
       "      <td>NaN</td>\n",
       "    </tr>\n",
       "    <tr>\n",
       "      <th>8</th>\n",
       "      <td>DD4352CDCF8C3D57</td>\n",
       "      <td>2020-12-07</td>\n",
       "      <td>EU</td>\n",
       "      <td>Android</td>\n",
       "      <td>B</td>\n",
       "      <td>recommender_system_test</td>\n",
       "      <td>2020-12-07 15:32:53</td>\n",
       "      <td>login</td>\n",
       "      <td>NaN</td>\n",
       "    </tr>\n",
       "    <tr>\n",
       "      <th>9</th>\n",
       "      <td>DD4352CDCF8C3D57</td>\n",
       "      <td>2020-12-07</td>\n",
       "      <td>EU</td>\n",
       "      <td>Android</td>\n",
       "      <td>B</td>\n",
       "      <td>recommender_system_test</td>\n",
       "      <td>2020-12-08 08:29:27</td>\n",
       "      <td>login</td>\n",
       "      <td>NaN</td>\n",
       "    </tr>\n",
       "    <tr>\n",
       "      <th>10</th>\n",
       "      <td>DD4352CDCF8C3D57</td>\n",
       "      <td>2020-12-07</td>\n",
       "      <td>EU</td>\n",
       "      <td>Android</td>\n",
       "      <td>B</td>\n",
       "      <td>recommender_system_test</td>\n",
       "      <td>2020-12-10 18:18:24</td>\n",
       "      <td>login</td>\n",
       "      <td>NaN</td>\n",
       "    </tr>\n",
       "    <tr>\n",
       "      <th>11</th>\n",
       "      <td>DD4352CDCF8C3D57</td>\n",
       "      <td>2020-12-07</td>\n",
       "      <td>EU</td>\n",
       "      <td>Android</td>\n",
       "      <td>B</td>\n",
       "      <td>recommender_system_test</td>\n",
       "      <td>2020-12-16 20:35:47</td>\n",
       "      <td>login</td>\n",
       "      <td>NaN</td>\n",
       "    </tr>\n",
       "    <tr>\n",
       "      <th>...</th>\n",
       "      <td>...</td>\n",
       "      <td>...</td>\n",
       "      <td>...</td>\n",
       "      <td>...</td>\n",
       "      <td>...</td>\n",
       "      <td>...</td>\n",
       "      <td>...</td>\n",
       "      <td>...</td>\n",
       "      <td>...</td>\n",
       "    </tr>\n",
       "    <tr>\n",
       "      <th>20553</th>\n",
       "      <td>574ACBC674BC385D</td>\n",
       "      <td>2020-12-20</td>\n",
       "      <td>EU</td>\n",
       "      <td>Mac</td>\n",
       "      <td>A</td>\n",
       "      <td>recommender_system_test</td>\n",
       "      <td>2020-12-20 04:15:43</td>\n",
       "      <td>login</td>\n",
       "      <td>NaN</td>\n",
       "    </tr>\n",
       "    <tr>\n",
       "      <th>20554</th>\n",
       "      <td>574ACBC674BC385D</td>\n",
       "      <td>2020-12-20</td>\n",
       "      <td>EU</td>\n",
       "      <td>Mac</td>\n",
       "      <td>A</td>\n",
       "      <td>recommender_system_test</td>\n",
       "      <td>2020-12-26 04:55:27</td>\n",
       "      <td>login</td>\n",
       "      <td>NaN</td>\n",
       "    </tr>\n",
       "    <tr>\n",
       "      <th>20561</th>\n",
       "      <td>0416B34D35C8C8B8</td>\n",
       "      <td>2020-12-20</td>\n",
       "      <td>EU</td>\n",
       "      <td>Android</td>\n",
       "      <td>A</td>\n",
       "      <td>recommender_system_test</td>\n",
       "      <td>2020-12-20 20:58:25</td>\n",
       "      <td>login</td>\n",
       "      <td>NaN</td>\n",
       "    </tr>\n",
       "    <tr>\n",
       "      <th>20562</th>\n",
       "      <td>0416B34D35C8C8B8</td>\n",
       "      <td>2020-12-20</td>\n",
       "      <td>EU</td>\n",
       "      <td>Android</td>\n",
       "      <td>A</td>\n",
       "      <td>recommender_system_test</td>\n",
       "      <td>2020-12-21 22:28:29</td>\n",
       "      <td>login</td>\n",
       "      <td>NaN</td>\n",
       "    </tr>\n",
       "    <tr>\n",
       "      <th>20563</th>\n",
       "      <td>0416B34D35C8C8B8</td>\n",
       "      <td>2020-12-20</td>\n",
       "      <td>EU</td>\n",
       "      <td>Android</td>\n",
       "      <td>A</td>\n",
       "      <td>recommender_system_test</td>\n",
       "      <td>2020-12-24 09:12:49</td>\n",
       "      <td>login</td>\n",
       "      <td>NaN</td>\n",
       "    </tr>\n",
       "  </tbody>\n",
       "</table>\n",
       "<p>9306 rows × 9 columns</p>\n",
       "</div>"
      ],
      "text/plain": [
       "                user_id first_date region   device group  \\\n",
       "1      D72A72121175D8BE 2020-12-07     EU       PC     A   \n",
       "8      DD4352CDCF8C3D57 2020-12-07     EU  Android     B   \n",
       "9      DD4352CDCF8C3D57 2020-12-07     EU  Android     B   \n",
       "10     DD4352CDCF8C3D57 2020-12-07     EU  Android     B   \n",
       "11     DD4352CDCF8C3D57 2020-12-07     EU  Android     B   \n",
       "...                 ...        ...    ...      ...   ...   \n",
       "20553  574ACBC674BC385D 2020-12-20     EU      Mac     A   \n",
       "20554  574ACBC674BC385D 2020-12-20     EU      Mac     A   \n",
       "20561  0416B34D35C8C8B8 2020-12-20     EU  Android     A   \n",
       "20562  0416B34D35C8C8B8 2020-12-20     EU  Android     A   \n",
       "20563  0416B34D35C8C8B8 2020-12-20     EU  Android     A   \n",
       "\n",
       "                       ab_test            event_dt event_name  details  \n",
       "1      recommender_system_test 2020-12-07 21:52:07      login      NaN  \n",
       "8      recommender_system_test 2020-12-07 15:32:53      login      NaN  \n",
       "9      recommender_system_test 2020-12-08 08:29:27      login      NaN  \n",
       "10     recommender_system_test 2020-12-10 18:18:24      login      NaN  \n",
       "11     recommender_system_test 2020-12-16 20:35:47      login      NaN  \n",
       "...                        ...                 ...        ...      ...  \n",
       "20553  recommender_system_test 2020-12-20 04:15:43      login      NaN  \n",
       "20554  recommender_system_test 2020-12-26 04:55:27      login      NaN  \n",
       "20561  recommender_system_test 2020-12-20 20:58:25      login      NaN  \n",
       "20562  recommender_system_test 2020-12-21 22:28:29      login      NaN  \n",
       "20563  recommender_system_test 2020-12-24 09:12:49      login      NaN  \n",
       "\n",
       "[9306 rows x 9 columns]"
      ]
     },
     "metadata": {},
     "output_type": "display_data"
    }
   ],
   "source": [
    "s = final_data.loc[final_data['event_name']=='login']\n",
    "print(s['user_id'].nunique())\n",
    "display(s)"
   ]
  },
  {
   "cell_type": "code",
   "execution_count": 53,
   "metadata": {},
   "outputs": [
    {
     "data": {
      "text/html": [
       "<div>\n",
       "<style scoped>\n",
       "    .dataframe tbody tr th:only-of-type {\n",
       "        vertical-align: middle;\n",
       "    }\n",
       "\n",
       "    .dataframe tbody tr th {\n",
       "        vertical-align: top;\n",
       "    }\n",
       "\n",
       "    .dataframe thead th {\n",
       "        text-align: right;\n",
       "    }\n",
       "</style>\n",
       "<table border=\"1\" class=\"dataframe\">\n",
       "  <thead>\n",
       "    <tr style=\"text-align: right;\">\n",
       "      <th></th>\n",
       "      <th>group</th>\n",
       "      <th>users</th>\n",
       "    </tr>\n",
       "  </thead>\n",
       "  <tbody>\n",
       "    <tr>\n",
       "      <th>0</th>\n",
       "      <td>A</td>\n",
       "      <td>2279</td>\n",
       "    </tr>\n",
       "    <tr>\n",
       "      <th>1</th>\n",
       "      <td>B</td>\n",
       "      <td>771</td>\n",
       "    </tr>\n",
       "  </tbody>\n",
       "</table>\n",
       "</div>"
      ],
      "text/plain": [
       "  group  users\n",
       "0     A   2279\n",
       "1     B    771"
      ]
     },
     "execution_count": 53,
     "metadata": {},
     "output_type": "execute_result"
    }
   ],
   "source": [
    "s.groupby('group').agg(users = ('user_id', 'nunique')).reset_index()"
   ]
  },
  {
   "cell_type": "markdown",
   "metadata": {},
   "source": [
    "**Авторизировались в системе только 3050 пользователей: 2279 из группы А и 771 из В. При этом 2518 (45,2 %) пользователей никаких действий в системе после регистрации не совершали**"
   ]
  },
  {
   "cell_type": "markdown",
   "metadata": {},
   "source": [
    "### Горизонт анализа: оставьте только те события, которые были совершены в первые 14 дней с момента регистрации; оцените когда пользователи совершают свои первые события каждого вида."
   ]
  },
  {
   "cell_type": "code",
   "execution_count": 54,
   "metadata": {},
   "outputs": [],
   "source": [
    "final_data ['time_d'] = (final_data['event_dt'] - final_data['first_date']).dt.total_seconds()\n",
    "life_time = 60*60*24*14\n",
    "final_data = final_data.query('time_d <= @life_time')\n",
    "final_data['day_d']=final_data['time_d']/(60*60*24)"
   ]
  },
  {
   "cell_type": "code",
   "execution_count": 55,
   "metadata": {},
   "outputs": [
    {
     "data": {
      "text/html": [
       "<div>\n",
       "<style scoped>\n",
       "    .dataframe tbody tr th:only-of-type {\n",
       "        vertical-align: middle;\n",
       "    }\n",
       "\n",
       "    .dataframe tbody tr th {\n",
       "        vertical-align: top;\n",
       "    }\n",
       "\n",
       "    .dataframe thead th {\n",
       "        text-align: right;\n",
       "    }\n",
       "</style>\n",
       "<table border=\"1\" class=\"dataframe\">\n",
       "  <thead>\n",
       "    <tr style=\"text-align: right;\">\n",
       "      <th></th>\n",
       "      <th>event_name</th>\n",
       "      <th>A_mn</th>\n",
       "      <th>B_mn</th>\n",
       "      <th>A_md</th>\n",
       "      <th>B_md</th>\n",
       "    </tr>\n",
       "  </thead>\n",
       "  <tbody>\n",
       "    <tr>\n",
       "      <th>0</th>\n",
       "      <td>login</td>\n",
       "      <td>3.379187</td>\n",
       "      <td>3.167943</td>\n",
       "      <td>2.091615</td>\n",
       "      <td>1.777269</td>\n",
       "    </tr>\n",
       "    <tr>\n",
       "      <th>1</th>\n",
       "      <td>product_cart</td>\n",
       "      <td>3.370582</td>\n",
       "      <td>3.119625</td>\n",
       "      <td>2.096725</td>\n",
       "      <td>1.724063</td>\n",
       "    </tr>\n",
       "    <tr>\n",
       "      <th>2</th>\n",
       "      <td>product_page</td>\n",
       "      <td>3.380387</td>\n",
       "      <td>3.087935</td>\n",
       "      <td>2.084005</td>\n",
       "      <td>1.685764</td>\n",
       "    </tr>\n",
       "    <tr>\n",
       "      <th>3</th>\n",
       "      <td>purchase</td>\n",
       "      <td>3.340959</td>\n",
       "      <td>3.083979</td>\n",
       "      <td>2.061441</td>\n",
       "      <td>1.617824</td>\n",
       "    </tr>\n",
       "  </tbody>\n",
       "</table>\n",
       "</div>"
      ],
      "text/plain": [
       "     event_name      A_mn      B_mn      A_md      B_md\n",
       "0         login  3.379187  3.167943  2.091615  1.777269\n",
       "1  product_cart  3.370582  3.119625  2.096725  1.724063\n",
       "2  product_page  3.380387  3.087935  2.084005  1.685764\n",
       "3      purchase  3.340959  3.083979  2.061441  1.617824"
      ]
     },
     "metadata": {},
     "output_type": "display_data"
    }
   ],
   "source": [
    "m = final_data.pivot_table(index = 'event_name', columns = 'group', values = 'day_d', aggfunc = ['mean','median']).reset_index()\n",
    "m.columns = ['event_name', 'A_mn', 'B_mn', 'A_md', 'B_md']\n",
    "display(m)"
   ]
  },
  {
   "cell_type": "markdown",
   "metadata": {},
   "source": [
    "**Среднее и медианное время совершения действия внутри группы А или В, указывают на то, что добавление в корзину товара происходило раньше, чем авторизация**"
   ]
  },
  {
   "cell_type": "code",
   "execution_count": 56,
   "metadata": {},
   "outputs": [
    {
     "data": {
      "text/plain": [
       "count    19849.000000\n",
       "mean         3.322655\n",
       "std          3.330313\n",
       "min          0.000046\n",
       "25%          0.737245\n",
       "50%          1.998993\n",
       "75%          5.045347\n",
       "max         13.995046\n",
       "Name: time_d, dtype: float64"
      ]
     },
     "execution_count": 56,
     "metadata": {},
     "output_type": "execute_result"
    }
   ],
   "source": [
    "(final_data['time_d']/(60*60*24)).describe()"
   ]
  },
  {
   "cell_type": "markdown",
   "metadata": {},
   "source": [
    "**Свои первые события каждого вида половина пользователей совершает спустя в два дня после регистрации. Четверти пользователей нужно менее одного дня до совершения собития, и четверти более пяти дней. Среднее время совершения действия составляет 3 дня.  При этом медианное значение совершения каждого действия в группе В меньше (т.е.событие наступает чуть быстрее), чем у пользователей из группы А.**"
   ]
  },
  {
   "cell_type": "code",
   "execution_count": 57,
   "metadata": {},
   "outputs": [
    {
     "data": {
      "text/html": [
       "<div>\n",
       "<style scoped>\n",
       "    .dataframe tbody tr th:only-of-type {\n",
       "        vertical-align: middle;\n",
       "    }\n",
       "\n",
       "    .dataframe tbody tr th {\n",
       "        vertical-align: top;\n",
       "    }\n",
       "\n",
       "    .dataframe thead th {\n",
       "        text-align: right;\n",
       "    }\n",
       "</style>\n",
       "<table border=\"1\" class=\"dataframe\">\n",
       "  <thead>\n",
       "    <tr style=\"text-align: right;\">\n",
       "      <th></th>\n",
       "      <th>user_id</th>\n",
       "      <th>event_name</th>\n",
       "      <th>m_day</th>\n",
       "    </tr>\n",
       "  </thead>\n",
       "  <tbody>\n",
       "    <tr>\n",
       "      <th>0</th>\n",
       "      <td>0010A1C096941592</td>\n",
       "      <td>login</td>\n",
       "      <td>3.611042</td>\n",
       "    </tr>\n",
       "    <tr>\n",
       "      <th>1</th>\n",
       "      <td>0010A1C096941592</td>\n",
       "      <td>product_page</td>\n",
       "      <td>3.611050</td>\n",
       "    </tr>\n",
       "    <tr>\n",
       "      <th>2</th>\n",
       "      <td>0010A1C096941592</td>\n",
       "      <td>purchase</td>\n",
       "      <td>3.611042</td>\n",
       "    </tr>\n",
       "    <tr>\n",
       "      <th>3</th>\n",
       "      <td>00341D8401F0F665</td>\n",
       "      <td>login</td>\n",
       "      <td>1.989878</td>\n",
       "    </tr>\n",
       "    <tr>\n",
       "      <th>4</th>\n",
       "      <td>003DF44D7589BBD4</td>\n",
       "      <td>login</td>\n",
       "      <td>3.594137</td>\n",
       "    </tr>\n",
       "    <tr>\n",
       "      <th>...</th>\n",
       "      <td>...</td>\n",
       "      <td>...</td>\n",
       "      <td>...</td>\n",
       "    </tr>\n",
       "    <tr>\n",
       "      <th>6802</th>\n",
       "      <td>FFAE9489C76F352B</td>\n",
       "      <td>login</td>\n",
       "      <td>3.368927</td>\n",
       "    </tr>\n",
       "    <tr>\n",
       "      <th>6803</th>\n",
       "      <td>FFAE9489C76F352B</td>\n",
       "      <td>product_page</td>\n",
       "      <td>3.368951</td>\n",
       "    </tr>\n",
       "    <tr>\n",
       "      <th>6804</th>\n",
       "      <td>FFF28D02B1EACBE1</td>\n",
       "      <td>login</td>\n",
       "      <td>4.675031</td>\n",
       "    </tr>\n",
       "    <tr>\n",
       "      <th>6805</th>\n",
       "      <td>FFF28D02B1EACBE1</td>\n",
       "      <td>product_cart</td>\n",
       "      <td>4.675050</td>\n",
       "    </tr>\n",
       "    <tr>\n",
       "      <th>6806</th>\n",
       "      <td>FFF28D02B1EACBE1</td>\n",
       "      <td>product_page</td>\n",
       "      <td>4.675050</td>\n",
       "    </tr>\n",
       "  </tbody>\n",
       "</table>\n",
       "<p>6807 rows × 3 columns</p>\n",
       "</div>"
      ],
      "text/plain": [
       "               user_id    event_name     m_day\n",
       "0     0010A1C096941592         login  3.611042\n",
       "1     0010A1C096941592  product_page  3.611050\n",
       "2     0010A1C096941592      purchase  3.611042\n",
       "3     00341D8401F0F665         login  1.989878\n",
       "4     003DF44D7589BBD4         login  3.594137\n",
       "...                ...           ...       ...\n",
       "6802  FFAE9489C76F352B         login  3.368927\n",
       "6803  FFAE9489C76F352B  product_page  3.368951\n",
       "6804  FFF28D02B1EACBE1         login  4.675031\n",
       "6805  FFF28D02B1EACBE1  product_cart  4.675050\n",
       "6806  FFF28D02B1EACBE1  product_page  4.675050\n",
       "\n",
       "[6807 rows x 3 columns]"
      ]
     },
     "metadata": {},
     "output_type": "display_data"
    }
   ],
   "source": [
    "f = final_data.groupby(['user_id', 'event_name']).agg({'day_d': ['mean']}). reset_index()\n",
    "f.columns = ['user_id', 'event_name', 'm_day']\n",
    "display(f)"
   ]
  },
  {
   "cell_type": "code",
   "execution_count": 58,
   "metadata": {},
   "outputs": [
    {
     "data": {
      "image/png": "[encoded data removed]",
      "text/plain": [
       "<Figure size 576x432 with 1 Axes>"
      ]
     },
     "metadata": {
      "needs_background": "light"
     },
     "output_type": "display_data"
    }
   ],
   "source": [
    "plt.figure(figsize=(8, 6))\n",
    "sns.ecdfplot(data=f, x=\"m_day\", hue=\"event_name\", stat=\"count\")\n",
    "plt.title('Распределение количества пользователей по среденму времени совершения действия')   \n",
    "plt.xlabel('Среднее время совершения действия, дни')\n",
    "plt.ylabel('Количество пользователей')\n",
    "plt.show;"
   ]
  },
  {
   "cell_type": "markdown",
   "metadata": {},
   "source": [
    "**График показывает, что на каждом этапе (авторизация-просмотр страниц товаров-покупка-корзина) пользователей становится все меньше и меньше**"
   ]
  },
  {
   "cell_type": "markdown",
   "metadata": {},
   "source": [
    "### ПРОМЕЖУТОЧНЫЙ ВЫВОД"
   ]
  },
  {
   "cell_type": "markdown",
   "metadata": {},
   "source": [
    "\n",
    "В процессе подготовки данных было выполнено следующее:\n",
    "* 1. Изучена общая информация о датасетах;\n",
    "* 2. Проверено соответствие типов данных;\n",
    "* 3. Проведено исследование пропущенных значений;\n",
    "* 4. Исследованы данные на дублирующие значения\n",
    "\n",
    "В процессе оценки корректности проведения теста были замечены следующие несоответствия данных техническому заданию:\n",
    "\n",
    "* 1. Период набора пользователей в тест согласно датафрейму с 7 декабря по 23 декабря 2020 года. При этом согласно техническому заданию период набора с 7 декабря по 21 декабря 2020 года (лишние данные были удалены).\n",
    "* 2. Период проведения теста согласно датафрейму с 7 декабря по 30 декабря 2020 года. При этом согласно техническому заданию период проведения теста с 7 декабря 2020 года по 4 января 2021 года.\n",
    "* 3. Во время проведения теста в регионах EU, N.America проводилась маркетинговая акция \"Christmas&New Year Promo\". Возможно, это может отразиться на результатах теста.\n",
    "* 4. Распределение количества пользователей из EU (начальное количество в тесте соответствует 15% от общего количества) по тестам и группам показало, что в тесте recommender_system_test приняли участие 6351 человек, в группу В вошло 2717, что на 25,3 % меньше, чем в группу А (3634).\n",
    "* 5. Количество участников теста recommender_system_test изначально составляло 6351 человек, после проверки пересечения участников группы В параллельного теста (interface_eu_test) и теста recommender_system_test было обнаружено, что 783 участника группы В теста interface_eu_test входят и в тест recommender_system_test. Их распределение по группам следующее А-439 и В-344, что составляет 12,1 и 12,7 процентов соответственно от начального количества.  Для соблюдения чистоты проведения теста и получения более точных результатов, было принято решение удалить данных участников. Таким образом, в тесте участвует 5568 уникальных пользователей (13.2 % от общего количества участников из региона EU), количество участников распределено по группам неравномерно. Пользователей, участвующих в обеих группах  теста одновременно не выявлено.\n",
    "* 6. Предварительный анализ динамики набора пользователей  показал, что набор был цикличен, наибольший набор пользователей был на 1,8 и 14 день.Наименьший на 3 и 10 дни. При этом набор по группам был пропорционален. В группу А набиралось чуть больше пользователей, чем в Вю\n",
    "* 7. Было выявлено, что авторизировались в системе только 3050 пользователей: 2279 из группы А и 771 из В. При этом 2518 (45,2 %) пользователей никаких действий в системе после регистрации не совершали.\n",
    "* 8. Свои первые события каждого вида половина пользователей совершает спустя в два дня после регистрации. Четверти пользователей нужно менее одного дня до совершения собития, и четверти более пяти дней. Среднее время совершения действия составляет 3 дня.  При этом медианное значение совершения каждого действия в группе В меньше (т.е.событие наступает чуть быстрее), чем у пользователей из группы А. \n",
    "* 9. Распределение количества пользователей по среденму времени совершения действия показывает, что на каждом этапе (авторизация-просмотр страниц товаров-покупка-корзина) пользователей становится все меньше и меньше."
   ]
  },
  {
   "cell_type": "markdown",
   "metadata": {},
   "source": [
    "## ИССЛЕДОВАТЕЛЬСКИЙ АНАЛИЗ ДАННЫХ\n",
    "<a id=\"part_4\"></a> "
   ]
  },
  {
   "cell_type": "markdown",
   "metadata": {},
   "source": [
    "### Распределение количества событий на пользователя в разрезе групп теста: постройте гистограмму распределения этой величины в разрезе групп и сравните её средние значения между собой у групп теста;"
   ]
  },
  {
   "cell_type": "code",
   "execution_count": 59,
   "metadata": {},
   "outputs": [
    {
     "data": {
      "image/png": "[encoded data removed]",
      "text/plain": [
       "<Figure size 576x432 with 1 Axes>"
      ]
     },
     "metadata": {
      "needs_background": "light"
     },
     "output_type": "display_data"
    }
   ],
   "source": [
    "w = final_data.groupby(['user_id', 'group']).agg({'event_name': ['count']}). reset_index()\n",
    "w.columns = ['user_id', 'event_name', 'm_day']\n",
    "plt.figure(figsize=(8, 6))\n",
    "sns.ecdfplot(data=w, x=\"m_day\", hue=\"event_name\", stat=\"count\")\n",
    "plt.title('Распределение количества пользователей по количеству совершаемых действий')   \n",
    "plt.xlabel('Количество действий')\n",
    "plt.ylabel('Количество пользователей')\n",
    "plt.show;"
   ]
  },
  {
   "cell_type": "markdown",
   "metadata": {},
   "source": [
    "**График распределения количества пользователей от количества действий показывает, что отношение количества пользователей к количеству действий в группе А в 3 раза выше, чем в группе Б. При этом суммарное количество действий по обеим группам превышает 20, а это говорит о том, что либо на каком-то этапе у пользователей возникают сложности в техническом плане (например не могут пройти авторизацию, и авторизуются несколько раз, либо имеются сомнения в выборе товара и смотрят несколько раз страницу, или же опять же испытывают технические или иные затруднения на этапе покупки и прохождения к корзине)**"
   ]
  },
  {
   "cell_type": "code",
   "execution_count": 60,
   "metadata": {},
   "outputs": [
    {
     "data": {
      "image/png": "[encoded data removed]",
      "text/plain": [
       "<Figure size 576x432 with 1 Axes>"
      ]
     },
     "metadata": {
      "needs_background": "light"
     },
     "output_type": "display_data"
    }
   ],
   "source": [
    "t = final_data.pivot_table(index = 'event_name', columns = 'group', values = 'user_id', aggfunc = 'count').reset_index()\n",
    "plt.figure(figsize=(8, 6))\n",
    "a=sns.countplot(data=final_data, x=\"event_name\", hue=\"group\")\n",
    "plt.title('Распределение количества действий пользователей по видам совершения действия')   \n",
    "plt.xlabel('Вид действия')\n",
    "plt.ylabel('Количество действий')\n",
    "for p in a.patches:\n",
    "    a.annotate(format(p.get_height(), '.0f'), \n",
    "                   (p.get_x() + p.get_width() / 2., p.get_height()), \n",
    "                   ha = 'center', va = 'center', \n",
    "                   xytext = (0, 9), \n",
    "                   textcoords = 'offset points')\n",
    "plt.show;"
   ]
  },
  {
   "cell_type": "code",
   "execution_count": 61,
   "metadata": {},
   "outputs": [
    {
     "data": {
      "image/png": "[encoded data removed]",
      "text/plain": [
       "<Figure size 504x360 with 1 Axes>"
      ]
     },
     "metadata": {
      "needs_background": "light"
     },
     "output_type": "display_data"
    }
   ],
   "source": [
    "plt.figure(figsize=(7, 5))\n",
    "sns.histplot(data=final_data, hue='group', x='event_name', stat='density', \n",
    "                 common_norm=False, palette = 'Set1')\n",
    "plt.title('Распределение пользователей по видам действий')       \n",
    "plt.xlabel('Вид действия')\n",
    "plt.ylabel('Нормализация по количеству пользователей')\n",
    "plt.show;"
   ]
  },
  {
   "cell_type": "markdown",
   "metadata": {},
   "source": [
    "**График показывает, что очень много действий совершено пользователями группы В на этапе авторизации. На последующих пользователи группы А были активнее.**"
   ]
  },
  {
   "cell_type": "code",
   "execution_count": 62,
   "metadata": {},
   "outputs": [],
   "source": [
    "w = final_data.query('event_name==\"login\"').groupby(['user_id', 'group']).agg({'event_name': ['count']}). reset_index()\n",
    "w.columns = ['user_id', 'group', 'count']\n",
    "\n",
    "e = final_data.query('event_name==\"product_page\"').groupby(['user_id', 'group']).agg({'event_name': ['count']}). reset_index()\n",
    "e.columns = ['user_id', 'group', 'count']\n",
    "\n",
    "f = final_data.query('event_name==\"product_cart\"').groupby(['user_id', 'group']).agg({'event_name': ['count']}). reset_index()\n",
    "f.columns = ['user_id', 'group', 'count']\n",
    "\n",
    "d = final_data.query('event_name==\"purchase\"').groupby(['user_id', 'group']).agg({'event_name': ['count']}). reset_index()\n",
    "d.columns = ['user_id', 'group', 'count']\n"
   ]
  },
  {
   "cell_type": "code",
   "execution_count": 63,
   "metadata": {},
   "outputs": [
    {
     "data": {
      "image/png": "[encoded data removed]",
      "text/plain": [
       "<Figure size 1008x1008 with 4 Axes>"
      ]
     },
     "metadata": {
      "needs_background": "light"
     },
     "output_type": "display_data"
    }
   ],
   "source": [
    "plt.subplots(2, 2, figsize=(14, 14))\n",
    "\n",
    "plt.subplot(2, 2, 1)\n",
    "sns.histplot(data=w, x=\"count\", hue = 'group', kde=True, binwidth =1, stat='density', common_norm=False)\n",
    "plt.title('Авторизация')   \n",
    "plt.xlabel('Количество действий')\n",
    "plt.ylabel('Количество пользователей')\n",
    "plt.subplot(2, 2, 2)\n",
    "sns.histplot(data=e, x=\"count\", hue = 'group', kde=True, binwidth =1, stat='density', common_norm=False)\n",
    "plt.title('Просмотр страницы товаров')   \n",
    "plt.xlabel('Количество действий')\n",
    "plt.ylabel('Количество пользователей')\n",
    "plt.subplot(2, 2, 3)\n",
    "sns.histplot(data=f, x=\"count\", hue = 'group', kde=True, binwidth =1, stat='density', common_norm=False)\n",
    "plt.title('Просмотр корзины')   \n",
    "plt.xlabel('Количество действий')\n",
    "plt.ylabel('Количество пользователей')\n",
    "plt.subplot(2, 2, 4)\n",
    "sns.histplot(data=d, x=\"count\", hue = 'group', kde=True, binwidth =1, stat='density', common_norm=False)\n",
    "plt.title('Покупка')   \n",
    "plt.xlabel('Количество действий')\n",
    "plt.ylabel('Количество пользователей')\n",
    "\n",
    "plt.suptitle('Распределение количества пользователей по количеству совершаемых действий')\n",
    "plt.show();"
   ]
  },
  {
   "cell_type": "markdown",
   "metadata": {},
   "source": [
    "**График показывает, что на каждом этапе большинство пользователи группы В совершали от 1 до 3 действий, в то время как большая часть пользователей группы А от 3 до 6. Кажется, у большей части либо что-то не получалось, либо они были очень активны. Это посмотрим в продуктовой воронке**"
   ]
  },
  {
   "cell_type": "markdown",
   "metadata": {},
   "source": [
    "### Динамика количества событий в группах теста по дням: изучите распределение числа событий по дням и сравните динамику групп теста между собой. Убедитесь, что время проведения теста не совпадает с маркетинговыми и другими активностями. Настройте автоматическую проверку, выдающую список событий, пересекающихся с тестом. "
   ]
  },
  {
   "cell_type": "code",
   "execution_count": 64,
   "metadata": {},
   "outputs": [
    {
     "data": {
      "image/png": "[encoded data removed]",
      "text/plain": [
       "<Figure size 576x432 with 1 Axes>"
      ]
     },
     "metadata": {
      "needs_background": "light"
     },
     "output_type": "display_data"
    }
   ],
   "source": [
    "plt.figure(figsize=(8, 6))\n",
    "sns.histplot(data=final_data, x='event_dt', hue = 'group', binwidth =1, kde=True)\n",
    "n = m_events.loc[(m_events['start_dt']>'2020-12-7') & (m_events['start_dt']<'2020-12-30')]\n",
    "plt.vlines(x=n['start_dt'], ymin = 0, ymax = 1700, color='blue', linestyle='--')\n",
    "z = m_events.loc[m_events['finish_dt']<'2020-12-31']\n",
    "plt.vlines(x=n['finish_dt'], ymin = 0, ymax = 1700, color='red', linestyle='--')\n",
    "plt.title('Динамика количества событий в группах по дням')       \n",
    "plt.xlabel('Количество событий')\n",
    "plt.ylabel('Количество участников теста')\n",
    "plt.xticks(rotation=90)\n",
    "plt.show;"
   ]
  },
  {
   "cell_type": "markdown",
   "metadata": {},
   "source": [
    "**Динамика количества событий по дням показывает, что пользователи группы А были наиболее активны, при этом пик активности пришелся с 15 по 24 декабря (время предновогодних покупок). Активность пользователей группы В меньше и более равномерна, нет ярко выраженного всплеска событий. После 24 декабря в обех группах можно проследить уменьшение активности. Так же можно увидеть, что с 25 декабря по 3 января в регионах EU проводилась маркетинговая акция \"Christmas&New Year Promo\", в рамки проведения которой частично попал наш тест. Никаких всплесков и выбросов данная рекламная акция не дала, на графике видно уменьшение активности, что вполне отражает покупательскую деятельность пользователей после Рождества. Праздники закончились - активность должна снизиться.**"
   ]
  },
  {
   "cell_type": "markdown",
   "metadata": {},
   "source": [
    "### Продуктовая воронка: постройте простые продуктовые воронки для двух групп теста с учетом логической последовательности совершения событий; изучите изменение конверсии в продуктовой воронке тестовой группы, по сравнению с контрольной: наблюдается ли ожидаемый эффект увеличения конверсии в группе В на 10 процентных пунктов, относительно конверсии в группе А?"
   ]
  },
  {
   "cell_type": "code",
   "execution_count": 65,
   "metadata": {},
   "outputs": [
    {
     "data": {
      "text/html": [
       "<div>\n",
       "<style scoped>\n",
       "    .dataframe tbody tr th:only-of-type {\n",
       "        vertical-align: middle;\n",
       "    }\n",
       "\n",
       "    .dataframe tbody tr th {\n",
       "        vertical-align: top;\n",
       "    }\n",
       "\n",
       "    .dataframe thead th {\n",
       "        text-align: right;\n",
       "    }\n",
       "</style>\n",
       "<table border=\"1\" class=\"dataframe\">\n",
       "  <thead>\n",
       "    <tr style=\"text-align: right;\">\n",
       "      <th>event_name</th>\n",
       "      <th>login</th>\n",
       "      <th>product_cart</th>\n",
       "      <th>product_page</th>\n",
       "      <th>purchase</th>\n",
       "      <th>0-1</th>\n",
       "      <th>1-2</th>\n",
       "      <th>2-3</th>\n",
       "      <th>3-4</th>\n",
       "      <th>1-3</th>\n",
       "      <th>1-4</th>\n",
       "    </tr>\n",
       "    <tr>\n",
       "      <th>group</th>\n",
       "      <th></th>\n",
       "      <th></th>\n",
       "      <th></th>\n",
       "      <th></th>\n",
       "      <th></th>\n",
       "      <th></th>\n",
       "      <th></th>\n",
       "      <th></th>\n",
       "      <th></th>\n",
       "      <th></th>\n",
       "    </tr>\n",
       "  </thead>\n",
       "  <tbody>\n",
       "    <tr>\n",
       "      <th>A</th>\n",
       "      <td>2279</td>\n",
       "      <td>686</td>\n",
       "      <td>1476</td>\n",
       "      <td>734</td>\n",
       "      <td>71.13</td>\n",
       "      <td>64.77</td>\n",
       "      <td>46.48</td>\n",
       "      <td>107.00</td>\n",
       "      <td>30.10</td>\n",
       "      <td>32.21</td>\n",
       "    </tr>\n",
       "    <tr>\n",
       "      <th>B</th>\n",
       "      <td>770</td>\n",
       "      <td>214</td>\n",
       "      <td>429</td>\n",
       "      <td>219</td>\n",
       "      <td>32.45</td>\n",
       "      <td>55.71</td>\n",
       "      <td>49.88</td>\n",
       "      <td>102.34</td>\n",
       "      <td>27.79</td>\n",
       "      <td>28.44</td>\n",
       "    </tr>\n",
       "  </tbody>\n",
       "</table>\n",
       "</div>"
      ],
      "text/plain": [
       "event_name  login  product_cart  product_page  purchase    0-1    1-2    2-3  \\\n",
       "group                                                                          \n",
       "A            2279           686          1476       734  71.13  64.77  46.48   \n",
       "B             770           214           429       219  32.45  55.71  49.88   \n",
       "\n",
       "event_name     3-4    1-3    1-4  \n",
       "group                             \n",
       "A           107.00  30.10  32.21  \n",
       "B           102.34  27.79  28.44  "
      ]
     },
     "metadata": {},
     "output_type": "display_data"
    }
   ],
   "source": [
    "users_count = final_data.pivot_table(index='group', columns='event_name', values = 'user_id', aggfunc=lambda x: len(x.unique()))\n",
    "users_count['0-1'] = [71.13, 32.45]\n",
    "users_count['1-2'] = round(users_count['product_page']*100/users_count['login'],2)\n",
    "users_count['2-3'] = round(users_count['product_cart']*100/users_count['product_page'],2)\n",
    "users_count['3-4'] = round(users_count['purchase']*100/users_count['product_cart'],2)\n",
    "users_count['1-2'] = round(users_count['product_page']*100/users_count['login'],2)\n",
    "users_count['1-3'] = round(users_count['product_cart']*100/users_count['login'],2)\n",
    "users_count['1-4'] = round(users_count['purchase']*100/users_count['login'],2)\n",
    "display(users_count) "
   ]
  },
  {
   "cell_type": "code",
   "execution_count": null,
   "metadata": {},
   "outputs": [],
   "source": [
    "pio.templates.default = \"plotly_white\"\n",
    "stages = [\"Website visit\", \"Login\", \"Product_page\", \"Product_cart\", \"Purchase\"]\n",
    "number=[3195, 2279, 1476, 686, 734]\n",
    "number_1=[2373, 770, 429, 214, 219]\n",
    "fig = go.Figure(go.Funnel(y=stages, x=number, textposition='inside', textinfo='value', name=\"A\"))\n",
    "fig.add_trace(go.Funnel(y=stages, x=number_1, textposition='inside', textinfo='value', name=\"В\"))\n",
    "fig.update_layout( title=\"Воронка продаж\", funnelmode=\"stack\")\n",
    "fig.show()"
   ]
  },
  {
   "cell_type": "markdown",
   "metadata": {},
   "source": [
    "**Конверсия у пользователей группы А (отношение количества покупок к количеству зарегистрированных пользователей) составила 32.2 %, группы В - 28.44, что дает разницу в 3.77%. При этом процент перехода из зашедших на сайт к авторизованным выше у А - 71%, В - 32% (разница - 39%), но при этом процент перехода уже от \"просмотр товара-корзина\" выше у группы В на 3.4%. Так же можно заметить, что количество покупок больше количества просмотров корзины в обеих группах, это может означать, что пользователи делают покупку, минуя стадию просмотра корзины. Ожидаемый эффект увеличения конверсии в группе В на 10 процентных пунктов, относительно конверсии в группе А не наблюдается.**"
   ]
  },
  {
   "cell_type": "markdown",
   "metadata": {},
   "source": [
    "## ОЦЕНКА РЕЗУЛЬТАТОВ A/B-ТЕСТИРОВАНИЯ\n",
    "<a id=\"part_5\"></a> "
   ]
  },
  {
   "cell_type": "markdown",
   "metadata": {},
   "source": [
    "**Проверим три гипотезы о равенстве долей уникальных пользователей в группах А и В при конверсии в:**\n",
    "\n",
    "* просмотр карточек товаров (product_page)\n",
    "* просмотр корзины (product_cart)\n",
    "* покупке (purchase)"
   ]
  },
  {
   "cell_type": "markdown",
   "metadata": {},
   "source": [
    "**Основная и альтернативная гипотезы следующие:**\n",
    "* H_0 : доли уникальных посетителей на n этапе воронки одинаковы\n",
    "* H_1 : доли уникальных посетителей на n этапе воронки отличаются"
   ]
  },
  {
   "cell_type": "code",
   "execution_count": null,
   "metadata": {},
   "outputs": [],
   "source": [
    "def z_test(u_1, u_2, event):\n",
    "         \n",
    "    alpha = 0.05/3\n",
    " \n",
    "    # число пользователей в группе A и B:\n",
    "    leads = np.array([u_1['user_id'].nunique(), \n",
    "                      u_2['user_id'].nunique()])\n",
    "\n",
    "    # число пользователей, совершивших событие в группе A и B\n",
    "    success = np.array([u_1[u_1['event_name'] == event]['user_id'].nunique(), \n",
    "                        u_2[u_2['event_name'] == event]['user_id'].nunique()])\n",
    "\n",
    "    # пропорции успехов в группах:\n",
    "    p1 = success[0]/leads[0]\n",
    "    p2 = success[1]/leads[1]\n",
    "    \n",
    "    print(leads[0], leads[1])\n",
    "    \n",
    "    # пропорция успехов в комбинированном датасете:\n",
    "    p_combined = (success[0] + success[1]) / (leads[0] + leads[1])\n",
    "    \n",
    "    # разница пропорций в датасетах\n",
    "    difference = p1 - p2 \n",
    "    \n",
    "    # считаем статистику в ст.отклонениях нормального распределения\n",
    "    z_value = difference / mth.sqrt(p_combined * (1 - p_combined) * (1/leads[0] + 1/leads[1]))\n",
    "    \n",
    "    # задаём нормальное распределение (среднее 0, ст.отклонение 1)\n",
    "    distr = st.norm(0, 1)  \n",
    "\n",
    "    p_value = (1 - distr.cdf(abs(z_value))) * 2   # тест двусторонний, удваиваем результат\n",
    "    \n",
    "    print('Событие:', event)\n",
    "    print('p_значение: ', p_value)\n",
    "\n",
    "    if p_value < alpha:\n",
    "        print('Отвергаем нулевую гипотезу: между долями есть разница')\n",
    "    else:\n",
    "        print(\n",
    "        'Не получилось отвергнуть нулевую гипотезу, нет оснований считать доли разными')"
   ]
  },
  {
   "cell_type": "markdown",
   "metadata": {},
   "source": []
  },
  {
   "cell_type": "code",
   "execution_count": null,
   "metadata": {
    "scrolled": true
   },
   "outputs": [],
   "source": [
    "for event in ['product_page', 'product_cart', 'purchase']:\n",
    "    z_test(final_data.query('group ==\"A\"'), final_data.query('group ==\"B\"'), event)\n",
    "    print()"
   ]
  },
  {
   "cell_type": "markdown",
   "metadata": {},
   "source": [
    "## ВЫВОД:\n",
    "<a id=\"part_6\"></a> "
   ]
  },
  {
   "cell_type": "markdown",
   "metadata": {},
   "source": [
    "В процессе оценки корректности проведения теста были замечены следующие несоответствия данных техническому заданию:\n",
    "\n",
    "* 1. Период набора пользователей в тест согласно датафрейму с 7 декабря по 23 декабря 2020 года. При этом согласно техническому заданию период набора с 7 декабря по 21 декабря 2020 года (лишние данные были удалены).\n",
    "* 2. Период проведения теста согласно датафрейму с 7 декабря по 30 декабря 2020 года. При этом согласно техническому заданию период проведения теста с 7 декабря 2020 года по 4 января 2021 года.\n",
    "* 3. Во время проведения теста в регионах EU, N.America проводилась маркетинговая акция \"Christmas&New Year Promo\". Возможно, это может отразиться на результатах теста.\n",
    "* 4. Распределение количества пользователей из EU (начальное количество в тесте соответствует 15% от общего количества) по тестам и группам показало, что в тесте recommender_system_test приняли участие 6351 человек, в группу В вошло 2717, что на 25,3 % меньше, чем в группу А (3634).\n",
    "* 5. Количество участников теста recommender_system_test изначально составляло 6351 человек, после проверки пересечения участников группы В параллельного теста (interface_eu_test) и теста recommender_system_test было обнаружено, что 783 участника группы В теста interface_eu_test входят и в тест recommender_system_test. Их распределение по группам следующее А-439 и В-344, что составляет 12,1 и 12,7 процентов соответственно от начального количества.  Для соблюдения чистоты проведения теста и получения более точных результатов, было принято решение удалить данных участников. Таким образом, в тесте участвует 5568 уникальных пользователей (13.2 % от общего количества участников из региона EU), количество участников распределено по группам неравномерно. Пользователей, участвующих в обеих группах  теста одновременно не выявлено.\n",
    "* 6. Предварительный анализ динамики набора пользователей  показал, что набор был цикличен, наибольший набор пользователей был на 1,8 и 14 день.Наименьший на 3 и 10 дни. При этом набор по группам был пропорционален. В группу А набиралось чуть больше пользователей, чем в В.\n",
    "* 7. Было выявлено, что авторизировались в системе только 3050 пользователей: 2279 из группы А и 771 из В. При этом 2518 (45,2 %) пользователей никаких действий в системе после регистрации не совершали.\n",
    "* 8. Свои первые события каждого вида половина пользователей совершает спустя в два дня после регистрации. Четверти пользователей нужно менее одного дня до совершения собития, и четверти более пяти дней. Среднее время совершения действия составляет 3 дня.  При этом медианное значение совершения каждого действия в группе В меньше (т.е.событие наступает чуть быстрее), чем у пользователей из группы А. \n",
    "* 9. Распределение количества пользователей по среденму времени совершения действия показывает, что на каждом этапе (авторизация-просмотр страниц товаров-покупка-корзина) пользователей становится все меньше и меньше.\n",
    "* 10. График распределения количества пользователей от количества действий показывает, что отношение количества пользователей к количеству действий в группе А в 3 раза выше, чем в группе Б. При этом суммарное количество действий по обеим группам превышает 20, а это говорит о том, что либо на каком-то этапе у пользователей возникают сложности в техническом плане (например не могут пройти авторизацию, и авторизуются несколько раз, либо имеются сомнения в выборе товара и смотрят несколько раз страницу, или же опять же испытывают технические или иные затруднения на этапе покупки и прохождения к корзине)\n",
    "* 11. Динамика количества событий по дням показывает, что пользователи группы А были наиболее активны, при этом пик активности пришелся с 15 по 24 декабря (время предновогодних покупок). Активность пользователей группы В меньше и более равномерна, нет ярко выраженного всплеска событий. После 24 декабря в обех группах можно проследить уменьшение активности. Так же можно увидеть, что с 25 декабря по 3 января в регионах EU проводилась маркетинговая акция \"Christmas&New Year Promo\", в рамки проведения которой частично попал наш тест. Никаких всплесков и выбросов данная рекламная акция не дала, на графике видно уменьшение активности, что вполне отражает покупательскую деятельность пользователей после Рождества. Праздники закончились - активность должна снизиться.\n",
    "* 11. Конверсия у пользователей группы А (отношение количества покупок к количеству зарегистрированных пользователей) составила 32.2 %, группы В - 28.44, что дает разницу в 3.77%. При этом процент перехода из зашедших на сайт к авторизованным выше у А - 71%, В - 32% (разница - 39%), но при этом процент перехода уже от \"просмотр товара-корзина\" выше у группы В на 3.4%. Так же можно заметить, что количество покупок больше количества просмотров корзины в обеих группах, это может означать, что пользователи делают покупку, минуя стадию просмотра корзины. Ожидаемый эффект увеличения конверсии в группе В на 10 процентных пунктов, относительно конверсии в группе А не наблюдается.\n",
    "* 12. Проверка гипотез о равенстве долей уникальных пользователей двух групп показала следующее: доли уникальных пользователей, побывавших на этапе Просмотр товара, отличаются. Отсутствует статистически значимая разница в долях уникальных пользователей между группами А и В при конверсии в Просмотр корзины и в Покупку. Согласно полученным результатам анализа, новая рекомендательная система целевые метрики не улучшила.\n",
    "\n",
    "* Рекомендуется доработать механизм формирования тестовых групп и запустить тест заново\n"
   ]
  }
 ],
 "metadata": {
  "ExecuteTimeLog": [
   {
    "duration": 445,
    "start_time": "2023-09-08T10:19:48.645Z"
   },
   {
    "duration": 949,
    "start_time": "2023-09-08T10:19:56.446Z"
   },
   {
    "duration": 4,
    "start_time": "2023-09-08T10:20:02.876Z"
   },
   {
    "duration": 155,
    "start_time": "2023-09-08T10:20:26.679Z"
   },
   {
    "duration": 89,
    "start_time": "2023-09-08T10:21:41.614Z"
   },
   {
    "duration": 12,
    "start_time": "2023-09-08T10:22:05.607Z"
   },
   {
    "duration": 6,
    "start_time": "2023-09-08T10:22:26.727Z"
   },
   {
    "duration": 6,
    "start_time": "2023-09-08T10:22:46.294Z"
   },
   {
    "duration": 1663,
    "start_time": "2023-09-08T10:24:00.839Z"
   },
   {
    "duration": 76,
    "start_time": "2023-09-08T10:24:15.129Z"
   },
   {
    "duration": 3454,
    "start_time": "2023-09-08T10:24:41.623Z"
   },
   {
    "duration": 193,
    "start_time": "2023-09-08T10:25:03.551Z"
   },
   {
    "duration": 24,
    "start_time": "2023-09-08T10:25:25.212Z"
   },
   {
    "duration": 8,
    "start_time": "2023-09-08T10:25:43.800Z"
   },
   {
    "duration": 253,
    "start_time": "2023-09-08T10:26:53.040Z"
   },
   {
    "duration": 21,
    "start_time": "2023-09-08T10:27:03.784Z"
   },
   {
    "duration": 131,
    "start_time": "2023-09-08T10:27:12.977Z"
   },
   {
    "duration": 377,
    "start_time": "2023-09-08T10:27:28.448Z"
   },
   {
    "duration": 30,
    "start_time": "2023-09-08T10:27:43.719Z"
   },
   {
    "duration": 15,
    "start_time": "2023-09-08T10:27:50.241Z"
   },
   {
    "duration": 8,
    "start_time": "2023-09-08T10:28:09.152Z"
   },
   {
    "duration": 7,
    "start_time": "2023-09-08T10:28:26.608Z"
   },
   {
    "duration": 7,
    "start_time": "2023-09-08T10:28:45.681Z"
   },
   {
    "duration": 5,
    "start_time": "2023-09-08T10:28:55.792Z"
   },
   {
    "duration": 5,
    "start_time": "2023-09-08T10:29:01.944Z"
   },
   {
    "duration": 149,
    "start_time": "2023-09-08T10:29:59.059Z"
   },
   {
    "duration": 12,
    "start_time": "2023-09-08T10:30:11.384Z"
   },
   {
    "duration": 11,
    "start_time": "2023-09-08T10:30:29.065Z"
   },
   {
    "duration": 4,
    "start_time": "2023-09-08T10:30:44.561Z"
   },
   {
    "duration": 6,
    "start_time": "2023-09-08T10:31:02.255Z"
   },
   {
    "duration": 5,
    "start_time": "2023-09-08T10:31:46.705Z"
   },
   {
    "duration": 7,
    "start_time": "2023-09-08T10:32:03.858Z"
   },
   {
    "duration": 10,
    "start_time": "2023-09-08T10:32:33.115Z"
   },
   {
    "duration": 21,
    "start_time": "2023-09-08T10:32:50.602Z"
   },
   {
    "duration": 27,
    "start_time": "2023-09-08T10:32:57.313Z"
   },
   {
    "duration": 194,
    "start_time": "2023-09-08T10:33:05.991Z"
   },
   {
    "duration": 12,
    "start_time": "2023-09-08T10:33:26.570Z"
   },
   {
    "duration": 48,
    "start_time": "2023-09-09T08:24:51.793Z"
   },
   {
    "duration": 366,
    "start_time": "2023-09-09T08:24:58.853Z"
   },
   {
    "duration": 930,
    "start_time": "2023-09-09T08:24:59.223Z"
   },
   {
    "duration": 3,
    "start_time": "2023-09-09T08:25:00.155Z"
   },
   {
    "duration": 119,
    "start_time": "2023-09-09T08:25:00.160Z"
   },
   {
    "duration": 13,
    "start_time": "2023-09-09T08:25:00.280Z"
   },
   {
    "duration": 83,
    "start_time": "2023-09-09T08:25:00.296Z"
   },
   {
    "duration": 47,
    "start_time": "2023-09-09T08:25:00.381Z"
   },
   {
    "duration": 741,
    "start_time": "2023-09-09T08:25:00.430Z"
   },
   {
    "duration": 67,
    "start_time": "2023-09-09T08:25:01.173Z"
   },
   {
    "duration": 3409,
    "start_time": "2023-09-09T08:25:01.242Z"
   },
   {
    "duration": 177,
    "start_time": "2023-09-09T08:25:04.652Z"
   },
   {
    "duration": 23,
    "start_time": "2023-09-09T08:25:04.830Z"
   },
   {
    "duration": 12,
    "start_time": "2023-09-09T08:25:04.855Z"
   },
   {
    "duration": 190,
    "start_time": "2023-09-09T08:25:04.869Z"
   },
   {
    "duration": 19,
    "start_time": "2023-09-09T08:25:05.060Z"
   },
   {
    "duration": 370,
    "start_time": "2023-09-09T08:25:05.081Z"
   },
   {
    "duration": 28,
    "start_time": "2023-09-09T08:25:05.452Z"
   },
   {
    "duration": 13,
    "start_time": "2023-09-09T08:25:05.481Z"
   },
   {
    "duration": 7,
    "start_time": "2023-09-09T08:25:05.496Z"
   },
   {
    "duration": 25,
    "start_time": "2023-09-09T08:25:05.504Z"
   },
   {
    "duration": 7,
    "start_time": "2023-09-09T08:25:05.530Z"
   },
   {
    "duration": 8,
    "start_time": "2023-09-09T08:25:05.538Z"
   },
   {
    "duration": 5,
    "start_time": "2023-09-09T08:25:05.547Z"
   },
   {
    "duration": 81,
    "start_time": "2023-09-09T08:25:05.554Z"
   },
   {
    "duration": 11,
    "start_time": "2023-09-09T08:25:05.637Z"
   },
   {
    "duration": 15,
    "start_time": "2023-09-09T08:25:05.650Z"
   },
   {
    "duration": 5,
    "start_time": "2023-09-09T08:25:05.667Z"
   },
   {
    "duration": 5,
    "start_time": "2023-09-09T08:25:05.675Z"
   },
   {
    "duration": 4,
    "start_time": "2023-09-09T08:25:05.682Z"
   },
   {
    "duration": 9,
    "start_time": "2023-09-09T08:25:05.688Z"
   },
   {
    "duration": 33,
    "start_time": "2023-09-09T08:25:05.698Z"
   },
   {
    "duration": 10,
    "start_time": "2023-09-09T08:25:05.733Z"
   },
   {
    "duration": 29,
    "start_time": "2023-09-09T08:25:05.744Z"
   },
   {
    "duration": 24,
    "start_time": "2023-09-09T08:25:05.775Z"
   },
   {
    "duration": 203,
    "start_time": "2023-09-09T08:25:05.801Z"
   },
   {
    "duration": 26,
    "start_time": "2023-09-09T08:25:06.007Z"
   },
   {
    "duration": 19,
    "start_time": "2023-09-09T08:29:08.652Z"
   },
   {
    "duration": 62,
    "start_time": "2023-09-09T08:32:09.894Z"
   },
   {
    "duration": 15,
    "start_time": "2023-09-09T08:32:32.804Z"
   },
   {
    "duration": 8,
    "start_time": "2023-09-09T08:38:51.501Z"
   },
   {
    "duration": 11,
    "start_time": "2023-09-09T08:38:58.578Z"
   },
   {
    "duration": 24,
    "start_time": "2023-09-09T08:39:16.221Z"
   },
   {
    "duration": 14,
    "start_time": "2023-09-09T08:40:56.938Z"
   },
   {
    "duration": 22,
    "start_time": "2023-09-09T08:41:34.013Z"
   },
   {
    "duration": 107,
    "start_time": "2023-09-09T08:43:06.162Z"
   },
   {
    "duration": 15,
    "start_time": "2023-09-09T08:43:11.866Z"
   },
   {
    "duration": 35,
    "start_time": "2023-09-09T08:43:47.009Z"
   },
   {
    "duration": 10,
    "start_time": "2023-09-09T08:47:23.245Z"
   },
   {
    "duration": 11,
    "start_time": "2023-09-09T08:47:30.116Z"
   },
   {
    "duration": 24,
    "start_time": "2023-09-09T08:47:30.645Z"
   },
   {
    "duration": 24,
    "start_time": "2023-09-09T08:48:07.786Z"
   },
   {
    "duration": 432,
    "start_time": "2023-09-09T08:48:47.664Z"
   },
   {
    "duration": 884,
    "start_time": "2023-09-09T08:48:48.099Z"
   },
   {
    "duration": 3,
    "start_time": "2023-09-09T08:48:48.985Z"
   },
   {
    "duration": 144,
    "start_time": "2023-09-09T08:48:48.990Z"
   },
   {
    "duration": 234,
    "start_time": "2023-09-09T08:48:49.140Z"
   },
   {
    "duration": 147,
    "start_time": "2023-09-09T08:48:49.376Z"
   },
   {
    "duration": 42,
    "start_time": "2023-09-09T08:48:49.525Z"
   },
   {
    "duration": 637,
    "start_time": "2023-09-09T08:48:49.568Z"
   },
   {
    "duration": 85,
    "start_time": "2023-09-09T08:48:50.206Z"
   },
   {
    "duration": 3844,
    "start_time": "2023-09-09T08:48:50.294Z"
   },
   {
    "duration": 188,
    "start_time": "2023-09-09T08:48:54.140Z"
   },
   {
    "duration": 28,
    "start_time": "2023-09-09T08:48:54.329Z"
   },
   {
    "duration": 115,
    "start_time": "2023-09-09T08:48:54.359Z"
   },
   {
    "duration": 102,
    "start_time": "2023-09-09T08:48:54.476Z"
   },
   {
    "duration": 20,
    "start_time": "2023-09-09T08:48:54.580Z"
   },
   {
    "duration": 407,
    "start_time": "2023-09-09T08:48:54.601Z"
   },
   {
    "duration": 48,
    "start_time": "2023-09-09T08:48:55.010Z"
   },
   {
    "duration": 18,
    "start_time": "2023-09-09T08:48:55.061Z"
   },
   {
    "duration": 100,
    "start_time": "2023-09-09T08:48:55.081Z"
   },
   {
    "duration": 83,
    "start_time": "2023-09-09T08:48:55.183Z"
   },
   {
    "duration": 94,
    "start_time": "2023-09-09T08:48:55.268Z"
   },
   {
    "duration": 42,
    "start_time": "2023-09-09T08:48:55.363Z"
   },
   {
    "duration": 18,
    "start_time": "2023-09-09T08:48:55.406Z"
   },
   {
    "duration": 90,
    "start_time": "2023-09-09T08:48:55.427Z"
   },
   {
    "duration": 23,
    "start_time": "2023-09-09T08:48:55.518Z"
   },
   {
    "duration": 43,
    "start_time": "2023-09-09T08:48:55.543Z"
   },
   {
    "duration": 6,
    "start_time": "2023-09-09T08:48:55.588Z"
   },
   {
    "duration": 51,
    "start_time": "2023-09-09T08:48:55.599Z"
   },
   {
    "duration": 43,
    "start_time": "2023-09-09T08:48:55.652Z"
   },
   {
    "duration": 57,
    "start_time": "2023-09-09T08:48:55.697Z"
   },
   {
    "duration": 142,
    "start_time": "2023-09-09T08:48:55.756Z"
   },
   {
    "duration": 83,
    "start_time": "2023-09-09T08:48:55.900Z"
   },
   {
    "duration": 98,
    "start_time": "2023-09-09T08:48:55.985Z"
   },
   {
    "duration": 71,
    "start_time": "2023-09-09T08:48:56.085Z"
   },
   {
    "duration": 14,
    "start_time": "2023-09-09T08:48:56.158Z"
   },
   {
    "duration": 138,
    "start_time": "2023-09-09T08:48:56.174Z"
   },
   {
    "duration": 35,
    "start_time": "2023-09-09T08:48:56.314Z"
   },
   {
    "duration": 52,
    "start_time": "2023-09-09T08:48:56.351Z"
   },
   {
    "duration": 9,
    "start_time": "2023-09-09T08:48:56.405Z"
   },
   {
    "duration": 56,
    "start_time": "2023-09-09T08:48:56.415Z"
   },
   {
    "duration": 65,
    "start_time": "2023-09-09T08:48:56.474Z"
   },
   {
    "duration": 39,
    "start_time": "2023-09-09T08:48:56.541Z"
   },
   {
    "duration": 191,
    "start_time": "2023-09-09T08:48:56.581Z"
   },
   {
    "duration": 11,
    "start_time": "2023-09-09T08:48:56.774Z"
   },
   {
    "duration": 13,
    "start_time": "2023-09-09T08:49:12.954Z"
   },
   {
    "duration": 28,
    "start_time": "2023-09-09T08:49:22.251Z"
   },
   {
    "duration": 5,
    "start_time": "2023-09-09T08:58:18.566Z"
   },
   {
    "duration": 42,
    "start_time": "2023-09-09T13:59:09.443Z"
   },
   {
    "duration": 372,
    "start_time": "2023-09-09T13:59:15.098Z"
   },
   {
    "duration": 894,
    "start_time": "2023-09-09T13:59:15.472Z"
   },
   {
    "duration": 3,
    "start_time": "2023-09-09T13:59:16.367Z"
   },
   {
    "duration": 82,
    "start_time": "2023-09-09T13:59:16.372Z"
   },
   {
    "duration": 10,
    "start_time": "2023-09-09T13:59:16.456Z"
   },
   {
    "duration": 9,
    "start_time": "2023-09-09T13:59:16.467Z"
   },
   {
    "duration": 10,
    "start_time": "2023-09-09T13:59:16.477Z"
   },
   {
    "duration": 1550,
    "start_time": "2023-09-09T13:59:16.489Z"
   },
   {
    "duration": 68,
    "start_time": "2023-09-09T13:59:18.041Z"
   },
   {
    "duration": 3424,
    "start_time": "2023-09-09T13:59:18.111Z"
   },
   {
    "duration": 159,
    "start_time": "2023-09-09T13:59:21.537Z"
   },
   {
    "duration": 24,
    "start_time": "2023-09-09T13:59:21.697Z"
   },
   {
    "duration": 23,
    "start_time": "2023-09-09T13:59:21.722Z"
   },
   {
    "duration": 227,
    "start_time": "2023-09-09T13:59:21.746Z"
   },
   {
    "duration": 19,
    "start_time": "2023-09-09T13:59:21.975Z"
   },
   {
    "duration": 379,
    "start_time": "2023-09-09T13:59:21.996Z"
   },
   {
    "duration": 26,
    "start_time": "2023-09-09T13:59:22.377Z"
   },
   {
    "duration": 16,
    "start_time": "2023-09-09T13:59:22.404Z"
   },
   {
    "duration": 24,
    "start_time": "2023-09-09T13:59:22.422Z"
   },
   {
    "duration": 15,
    "start_time": "2023-09-09T13:59:22.448Z"
   },
   {
    "duration": 7,
    "start_time": "2023-09-09T13:59:22.465Z"
   },
   {
    "duration": 12,
    "start_time": "2023-09-09T13:59:22.473Z"
   },
   {
    "duration": 7,
    "start_time": "2023-09-09T13:59:22.487Z"
   },
   {
    "duration": 155,
    "start_time": "2023-09-09T13:59:22.496Z"
   },
   {
    "duration": 11,
    "start_time": "2023-09-09T13:59:22.653Z"
   },
   {
    "duration": 16,
    "start_time": "2023-09-09T13:59:22.665Z"
   },
   {
    "duration": 6,
    "start_time": "2023-09-09T13:59:22.683Z"
   },
   {
    "duration": 27,
    "start_time": "2023-09-09T13:59:22.691Z"
   },
   {
    "duration": 14,
    "start_time": "2023-09-09T13:59:22.719Z"
   },
   {
    "duration": 25,
    "start_time": "2023-09-09T13:59:22.734Z"
   },
   {
    "duration": 22,
    "start_time": "2023-09-09T13:59:22.760Z"
   },
   {
    "duration": 11,
    "start_time": "2023-09-09T13:59:22.784Z"
   },
   {
    "duration": 21,
    "start_time": "2023-09-09T13:59:22.797Z"
   },
   {
    "duration": 46,
    "start_time": "2023-09-09T13:59:22.820Z"
   },
   {
    "duration": 14,
    "start_time": "2023-09-09T13:59:22.868Z"
   },
   {
    "duration": 18,
    "start_time": "2023-09-09T13:59:22.883Z"
   },
   {
    "duration": 28,
    "start_time": "2023-09-09T13:59:22.903Z"
   },
   {
    "duration": 25,
    "start_time": "2023-09-09T13:59:22.932Z"
   },
   {
    "duration": 11,
    "start_time": "2023-09-09T13:59:22.958Z"
   },
   {
    "duration": 28,
    "start_time": "2023-09-09T13:59:22.971Z"
   },
   {
    "duration": 11,
    "start_time": "2023-09-09T13:59:23.000Z"
   },
   {
    "duration": 36,
    "start_time": "2023-09-09T13:59:23.013Z"
   },
   {
    "duration": 36,
    "start_time": "2023-09-09T13:59:23.051Z"
   },
   {
    "duration": 165,
    "start_time": "2023-09-09T13:59:23.088Z"
   },
   {
    "duration": 11,
    "start_time": "2023-09-09T13:59:23.255Z"
   },
   {
    "duration": 4,
    "start_time": "2023-09-09T14:03:10.876Z"
   },
   {
    "duration": 7,
    "start_time": "2023-09-09T14:04:02.819Z"
   },
   {
    "duration": 8,
    "start_time": "2023-09-09T14:04:12.552Z"
   },
   {
    "duration": 12,
    "start_time": "2023-09-09T14:04:30.650Z"
   },
   {
    "duration": 15,
    "start_time": "2023-09-09T14:06:20.083Z"
   },
   {
    "duration": 14,
    "start_time": "2023-09-09T14:06:42.027Z"
   },
   {
    "duration": 11,
    "start_time": "2023-09-09T14:07:31.933Z"
   },
   {
    "duration": 14,
    "start_time": "2023-09-09T14:08:04.149Z"
   },
   {
    "duration": 17,
    "start_time": "2023-09-09T14:11:45.476Z"
   },
   {
    "duration": 11,
    "start_time": "2023-09-09T14:21:45.679Z"
   },
   {
    "duration": 13,
    "start_time": "2023-09-09T14:25:24.016Z"
   },
   {
    "duration": 13,
    "start_time": "2023-09-09T14:25:38.861Z"
   },
   {
    "duration": 7,
    "start_time": "2023-09-09T14:40:10.564Z"
   },
   {
    "duration": 473,
    "start_time": "2023-09-09T14:41:27.712Z"
   },
   {
    "duration": 12,
    "start_time": "2023-09-09T14:42:00.697Z"
   },
   {
    "duration": 8,
    "start_time": "2023-09-09T14:44:03.487Z"
   },
   {
    "duration": 7,
    "start_time": "2023-09-09T14:44:07.073Z"
   },
   {
    "duration": 9,
    "start_time": "2023-09-09T14:44:15.792Z"
   },
   {
    "duration": 11,
    "start_time": "2023-09-09T14:47:04.126Z"
   },
   {
    "duration": 9,
    "start_time": "2023-09-09T14:47:35.582Z"
   },
   {
    "duration": 10,
    "start_time": "2023-09-09T14:47:37.510Z"
   },
   {
    "duration": 6,
    "start_time": "2023-09-09T14:51:03.358Z"
   },
   {
    "duration": 7,
    "start_time": "2023-09-09T14:51:34.613Z"
   },
   {
    "duration": 7,
    "start_time": "2023-09-09T14:51:46.503Z"
   },
   {
    "duration": 9,
    "start_time": "2023-09-09T14:51:55.038Z"
   },
   {
    "duration": 9,
    "start_time": "2023-09-09T14:51:58.838Z"
   },
   {
    "duration": 10,
    "start_time": "2023-09-09T14:51:59.324Z"
   },
   {
    "duration": 7,
    "start_time": "2023-09-09T14:51:59.767Z"
   },
   {
    "duration": 7,
    "start_time": "2023-09-09T14:52:11.662Z"
   },
   {
    "duration": 8,
    "start_time": "2023-09-09T14:52:57.376Z"
   },
   {
    "duration": 8,
    "start_time": "2023-09-09T14:54:13.227Z"
   },
   {
    "duration": 8,
    "start_time": "2023-09-09T14:54:23.312Z"
   },
   {
    "duration": 10,
    "start_time": "2023-09-09T14:54:24.264Z"
   },
   {
    "duration": 7,
    "start_time": "2023-09-09T14:54:24.766Z"
   },
   {
    "duration": 9,
    "start_time": "2023-09-09T14:54:48.257Z"
   },
   {
    "duration": 9,
    "start_time": "2023-09-09T14:55:09.582Z"
   },
   {
    "duration": 129,
    "start_time": "2023-09-09T14:57:43.671Z"
   },
   {
    "duration": 6,
    "start_time": "2023-09-09T14:57:54.854Z"
   },
   {
    "duration": 5,
    "start_time": "2023-09-09T14:58:08.759Z"
   },
   {
    "duration": 6,
    "start_time": "2023-09-09T14:58:46.056Z"
   },
   {
    "duration": 1257,
    "start_time": "2023-09-09T15:00:16.825Z"
   },
   {
    "duration": 1254,
    "start_time": "2023-09-09T15:00:31.057Z"
   },
   {
    "duration": 1281,
    "start_time": "2023-09-09T15:00:49.983Z"
   },
   {
    "duration": 1248,
    "start_time": "2023-09-09T15:01:13.165Z"
   },
   {
    "duration": 1182,
    "start_time": "2023-09-09T15:05:18.001Z"
   },
   {
    "duration": 1234,
    "start_time": "2023-09-09T15:05:30.209Z"
   },
   {
    "duration": 7,
    "start_time": "2023-09-09T15:05:49.282Z"
   },
   {
    "duration": 14,
    "start_time": "2023-09-09T15:06:10.553Z"
   },
   {
    "duration": 13,
    "start_time": "2023-09-09T15:06:16.006Z"
   },
   {
    "duration": 13,
    "start_time": "2023-09-09T15:09:46.817Z"
   },
   {
    "duration": 942,
    "start_time": "2023-09-09T15:10:47.329Z"
   },
   {
    "duration": 1065,
    "start_time": "2023-09-09T15:11:12.833Z"
   },
   {
    "duration": 12,
    "start_time": "2023-09-09T15:14:18.818Z"
   },
   {
    "duration": 15,
    "start_time": "2023-09-09T15:14:23.634Z"
   },
   {
    "duration": 16,
    "start_time": "2023-09-09T15:15:24.386Z"
   },
   {
    "duration": 5,
    "start_time": "2023-09-09T15:25:34.511Z"
   },
   {
    "duration": 129,
    "start_time": "2023-09-09T15:25:35.348Z"
   },
   {
    "duration": 10,
    "start_time": "2023-09-09T15:25:47.953Z"
   },
   {
    "duration": 17,
    "start_time": "2023-09-09T15:25:49.195Z"
   },
   {
    "duration": 14,
    "start_time": "2023-09-09T15:25:50.731Z"
   },
   {
    "duration": 9,
    "start_time": "2023-09-09T15:28:08.958Z"
   },
   {
    "duration": 13,
    "start_time": "2023-09-09T15:28:10.680Z"
   },
   {
    "duration": 8,
    "start_time": "2023-09-09T15:28:36.462Z"
   },
   {
    "duration": 13,
    "start_time": "2023-09-09T15:28:38.355Z"
   },
   {
    "duration": 10,
    "start_time": "2023-09-09T15:28:40.413Z"
   },
   {
    "duration": 8,
    "start_time": "2023-09-09T15:28:40.925Z"
   },
   {
    "duration": 12,
    "start_time": "2023-09-09T15:28:41.598Z"
   },
   {
    "duration": 379,
    "start_time": "2023-09-09T15:28:52.148Z"
   },
   {
    "duration": 692,
    "start_time": "2023-09-09T15:28:52.529Z"
   },
   {
    "duration": 3,
    "start_time": "2023-09-09T15:28:53.222Z"
   },
   {
    "duration": 43,
    "start_time": "2023-09-09T15:28:53.226Z"
   },
   {
    "duration": 9,
    "start_time": "2023-09-09T15:28:53.271Z"
   },
   {
    "duration": 7,
    "start_time": "2023-09-09T15:28:53.281Z"
   },
   {
    "duration": 6,
    "start_time": "2023-09-09T15:28:53.289Z"
   },
   {
    "duration": 466,
    "start_time": "2023-09-09T15:28:53.296Z"
   },
   {
    "duration": 67,
    "start_time": "2023-09-09T15:28:53.763Z"
   },
   {
    "duration": 3269,
    "start_time": "2023-09-09T15:28:53.845Z"
   },
   {
    "duration": 156,
    "start_time": "2023-09-09T15:28:57.116Z"
   },
   {
    "duration": 22,
    "start_time": "2023-09-09T15:28:57.275Z"
   },
   {
    "duration": 7,
    "start_time": "2023-09-09T15:28:57.298Z"
   },
   {
    "duration": 91,
    "start_time": "2023-09-09T15:28:57.307Z"
   },
   {
    "duration": 17,
    "start_time": "2023-09-09T15:28:57.400Z"
   },
   {
    "duration": 345,
    "start_time": "2023-09-09T15:28:57.418Z"
   },
   {
    "duration": 26,
    "start_time": "2023-09-09T15:28:57.764Z"
   },
   {
    "duration": 11,
    "start_time": "2023-09-09T15:28:57.791Z"
   },
   {
    "duration": 8,
    "start_time": "2023-09-09T15:28:57.803Z"
   },
   {
    "duration": 6,
    "start_time": "2023-09-09T15:28:57.812Z"
   },
   {
    "duration": 26,
    "start_time": "2023-09-09T15:28:57.819Z"
   },
   {
    "duration": 4,
    "start_time": "2023-09-09T15:28:57.846Z"
   },
   {
    "duration": 10,
    "start_time": "2023-09-09T15:28:57.851Z"
   },
   {
    "duration": 32,
    "start_time": "2023-09-09T15:28:57.862Z"
   },
   {
    "duration": 10,
    "start_time": "2023-09-09T15:28:57.895Z"
   },
   {
    "duration": 14,
    "start_time": "2023-09-09T15:28:57.906Z"
   },
   {
    "duration": 5,
    "start_time": "2023-09-09T15:28:57.922Z"
   },
   {
    "duration": 19,
    "start_time": "2023-09-09T15:28:57.928Z"
   },
   {
    "duration": 3,
    "start_time": "2023-09-09T15:28:57.948Z"
   },
   {
    "duration": 6,
    "start_time": "2023-09-09T15:28:57.953Z"
   },
   {
    "duration": 8,
    "start_time": "2023-09-09T15:28:57.961Z"
   },
   {
    "duration": 9,
    "start_time": "2023-09-09T15:28:57.970Z"
   },
   {
    "duration": 25,
    "start_time": "2023-09-09T15:28:57.981Z"
   },
   {
    "duration": 76,
    "start_time": "2023-09-09T15:28:58.007Z"
   },
   {
    "duration": 13,
    "start_time": "2023-09-09T15:28:58.084Z"
   },
   {
    "duration": 8,
    "start_time": "2023-09-09T15:28:58.098Z"
   },
   {
    "duration": 39,
    "start_time": "2023-09-09T15:28:58.108Z"
   },
   {
    "duration": 21,
    "start_time": "2023-09-09T15:28:58.148Z"
   },
   {
    "duration": 11,
    "start_time": "2023-09-09T15:28:58.170Z"
   },
   {
    "duration": 14,
    "start_time": "2023-09-09T15:28:58.182Z"
   },
   {
    "duration": 47,
    "start_time": "2023-09-09T15:28:58.198Z"
   },
   {
    "duration": 5,
    "start_time": "2023-09-09T15:28:58.249Z"
   },
   {
    "duration": 9,
    "start_time": "2023-09-09T15:28:58.256Z"
   },
   {
    "duration": 17,
    "start_time": "2023-09-09T15:28:58.267Z"
   },
   {
    "duration": 13,
    "start_time": "2023-09-09T15:28:58.285Z"
   },
   {
    "duration": 17,
    "start_time": "2023-09-09T15:28:58.300Z"
   },
   {
    "duration": 43,
    "start_time": "2023-09-09T15:28:58.318Z"
   },
   {
    "duration": 150,
    "start_time": "2023-09-09T15:28:58.362Z"
   },
   {
    "duration": 11,
    "start_time": "2023-09-09T15:28:58.513Z"
   },
   {
    "duration": 352,
    "start_time": "2023-09-09T15:29:12.880Z"
   },
   {
    "duration": 688,
    "start_time": "2023-09-09T15:29:13.234Z"
   },
   {
    "duration": 2,
    "start_time": "2023-09-09T15:29:13.924Z"
   },
   {
    "duration": 43,
    "start_time": "2023-09-09T15:29:13.928Z"
   },
   {
    "duration": 10,
    "start_time": "2023-09-09T15:29:13.972Z"
   },
   {
    "duration": 11,
    "start_time": "2023-09-09T15:29:13.983Z"
   },
   {
    "duration": 7,
    "start_time": "2023-09-09T15:29:13.996Z"
   },
   {
    "duration": 542,
    "start_time": "2023-09-09T15:29:14.005Z"
   },
   {
    "duration": 62,
    "start_time": "2023-09-09T15:29:14.549Z"
   },
   {
    "duration": 3497,
    "start_time": "2023-09-09T15:29:14.614Z"
   },
   {
    "duration": 171,
    "start_time": "2023-09-09T15:29:18.113Z"
   },
   {
    "duration": 25,
    "start_time": "2023-09-09T15:29:18.286Z"
   },
   {
    "duration": 8,
    "start_time": "2023-09-09T15:29:18.312Z"
   },
   {
    "duration": 83,
    "start_time": "2023-09-09T15:29:18.322Z"
   },
   {
    "duration": 20,
    "start_time": "2023-09-09T15:29:18.407Z"
   },
   {
    "duration": 385,
    "start_time": "2023-09-09T15:29:18.429Z"
   },
   {
    "duration": 35,
    "start_time": "2023-09-09T15:29:18.815Z"
   },
   {
    "duration": 11,
    "start_time": "2023-09-09T15:29:18.852Z"
   },
   {
    "duration": 12,
    "start_time": "2023-09-09T15:29:18.865Z"
   },
   {
    "duration": 13,
    "start_time": "2023-09-09T15:29:18.878Z"
   },
   {
    "duration": 8,
    "start_time": "2023-09-09T15:29:18.893Z"
   },
   {
    "duration": 4,
    "start_time": "2023-09-09T15:29:18.903Z"
   },
   {
    "duration": 4,
    "start_time": "2023-09-09T15:29:18.908Z"
   },
   {
    "duration": 41,
    "start_time": "2023-09-09T15:29:18.913Z"
   },
   {
    "duration": 13,
    "start_time": "2023-09-09T15:29:18.955Z"
   },
   {
    "duration": 10,
    "start_time": "2023-09-09T15:29:18.970Z"
   },
   {
    "duration": 4,
    "start_time": "2023-09-09T15:29:18.982Z"
   },
   {
    "duration": 5,
    "start_time": "2023-09-09T15:29:18.989Z"
   },
   {
    "duration": 3,
    "start_time": "2023-09-09T15:29:18.996Z"
   },
   {
    "duration": 5,
    "start_time": "2023-09-09T15:29:19.001Z"
   },
   {
    "duration": 44,
    "start_time": "2023-09-09T15:29:19.008Z"
   },
   {
    "duration": 11,
    "start_time": "2023-09-09T15:29:19.054Z"
   },
   {
    "duration": 18,
    "start_time": "2023-09-09T15:29:19.066Z"
   },
   {
    "duration": 67,
    "start_time": "2023-09-09T15:29:19.085Z"
   },
   {
    "duration": 13,
    "start_time": "2023-09-09T15:29:19.154Z"
   },
   {
    "duration": 9,
    "start_time": "2023-09-09T15:29:19.168Z"
   },
   {
    "duration": 24,
    "start_time": "2023-09-09T15:29:19.179Z"
   },
   {
    "duration": 52,
    "start_time": "2023-09-09T15:29:19.204Z"
   },
   {
    "duration": 12,
    "start_time": "2023-09-09T15:29:19.258Z"
   },
   {
    "duration": 28,
    "start_time": "2023-09-09T15:29:19.272Z"
   },
   {
    "duration": 29,
    "start_time": "2023-09-09T15:29:19.302Z"
   },
   {
    "duration": 6,
    "start_time": "2023-09-09T15:29:19.333Z"
   },
   {
    "duration": 10,
    "start_time": "2023-09-09T15:29:19.344Z"
   },
   {
    "duration": 19,
    "start_time": "2023-09-09T15:29:19.356Z"
   },
   {
    "duration": 14,
    "start_time": "2023-09-09T15:29:19.377Z"
   },
   {
    "duration": 20,
    "start_time": "2023-09-09T15:29:19.392Z"
   },
   {
    "duration": 54,
    "start_time": "2023-09-09T15:29:19.413Z"
   },
   {
    "duration": 179,
    "start_time": "2023-09-09T15:29:19.469Z"
   },
   {
    "duration": 12,
    "start_time": "2023-09-09T15:29:19.650Z"
   },
   {
    "duration": 378,
    "start_time": "2023-09-09T15:30:27.211Z"
   },
   {
    "duration": 713,
    "start_time": "2023-09-09T15:30:27.591Z"
   },
   {
    "duration": 2,
    "start_time": "2023-09-09T15:30:28.305Z"
   },
   {
    "duration": 41,
    "start_time": "2023-09-09T15:30:28.309Z"
   },
   {
    "duration": 9,
    "start_time": "2023-09-09T15:30:28.351Z"
   },
   {
    "duration": 6,
    "start_time": "2023-09-09T15:30:28.361Z"
   },
   {
    "duration": 6,
    "start_time": "2023-09-09T15:30:28.368Z"
   },
   {
    "duration": 449,
    "start_time": "2023-09-09T15:30:28.375Z"
   },
   {
    "duration": 62,
    "start_time": "2023-09-09T15:30:28.825Z"
   },
   {
    "duration": 3023,
    "start_time": "2023-09-09T15:30:28.889Z"
   },
   {
    "duration": 151,
    "start_time": "2023-09-09T15:30:31.913Z"
   },
   {
    "duration": 23,
    "start_time": "2023-09-09T15:30:32.065Z"
   },
   {
    "duration": 10,
    "start_time": "2023-09-09T15:30:32.090Z"
   },
   {
    "duration": 93,
    "start_time": "2023-09-09T15:30:32.101Z"
   },
   {
    "duration": 17,
    "start_time": "2023-09-09T15:30:32.196Z"
   },
   {
    "duration": 378,
    "start_time": "2023-09-09T15:30:32.215Z"
   },
   {
    "duration": 27,
    "start_time": "2023-09-09T15:30:32.595Z"
   },
   {
    "duration": 20,
    "start_time": "2023-09-09T15:30:32.624Z"
   },
   {
    "duration": 7,
    "start_time": "2023-09-09T15:30:32.646Z"
   },
   {
    "duration": 9,
    "start_time": "2023-09-09T15:30:32.654Z"
   },
   {
    "duration": 8,
    "start_time": "2023-09-09T15:30:32.665Z"
   },
   {
    "duration": 5,
    "start_time": "2023-09-09T15:30:32.674Z"
   },
   {
    "duration": 7,
    "start_time": "2023-09-09T15:30:32.680Z"
   },
   {
    "duration": 31,
    "start_time": "2023-09-09T15:30:32.689Z"
   },
   {
    "duration": 31,
    "start_time": "2023-09-09T15:30:32.722Z"
   },
   {
    "duration": 24,
    "start_time": "2023-09-09T15:30:32.755Z"
   },
   {
    "duration": 9,
    "start_time": "2023-09-09T15:30:32.781Z"
   },
   {
    "duration": 7,
    "start_time": "2023-09-09T15:30:32.793Z"
   },
   {
    "duration": 8,
    "start_time": "2023-09-09T15:30:32.801Z"
   },
   {
    "duration": 6,
    "start_time": "2023-09-09T15:30:32.810Z"
   },
   {
    "duration": 16,
    "start_time": "2023-09-09T15:30:32.818Z"
   },
   {
    "duration": 19,
    "start_time": "2023-09-09T15:30:32.836Z"
   },
   {
    "duration": 20,
    "start_time": "2023-09-09T15:30:32.856Z"
   },
   {
    "duration": 51,
    "start_time": "2023-09-09T15:30:32.878Z"
   },
   {
    "duration": 24,
    "start_time": "2023-09-09T15:30:32.930Z"
   },
   {
    "duration": 8,
    "start_time": "2023-09-09T15:30:32.955Z"
   },
   {
    "duration": 20,
    "start_time": "2023-09-09T15:30:32.965Z"
   },
   {
    "duration": 19,
    "start_time": "2023-09-09T15:30:32.986Z"
   },
   {
    "duration": 11,
    "start_time": "2023-09-09T15:30:33.006Z"
   },
   {
    "duration": 31,
    "start_time": "2023-09-09T15:30:33.018Z"
   },
   {
    "duration": 25,
    "start_time": "2023-09-09T15:30:33.051Z"
   },
   {
    "duration": 6,
    "start_time": "2023-09-09T15:30:33.077Z"
   },
   {
    "duration": 10,
    "start_time": "2023-09-09T15:30:33.084Z"
   },
   {
    "duration": 25,
    "start_time": "2023-09-09T15:30:33.095Z"
   },
   {
    "duration": 25,
    "start_time": "2023-09-09T15:30:33.121Z"
   },
   {
    "duration": 6,
    "start_time": "2023-09-09T15:30:33.148Z"
   },
   {
    "duration": 10,
    "start_time": "2023-09-09T15:30:33.156Z"
   },
   {
    "duration": 25,
    "start_time": "2023-09-09T15:30:33.168Z"
   },
   {
    "duration": 23,
    "start_time": "2023-09-09T15:30:33.194Z"
   },
   {
    "duration": 165,
    "start_time": "2023-09-09T15:30:33.218Z"
   },
   {
    "duration": 11,
    "start_time": "2023-09-09T15:30:33.385Z"
   },
   {
    "duration": 7,
    "start_time": "2023-09-09T15:31:10.398Z"
   },
   {
    "duration": 389,
    "start_time": "2023-09-09T15:31:16.808Z"
   },
   {
    "duration": 751,
    "start_time": "2023-09-09T15:31:17.199Z"
   },
   {
    "duration": 2,
    "start_time": "2023-09-09T15:31:17.952Z"
   },
   {
    "duration": 41,
    "start_time": "2023-09-09T15:31:17.957Z"
   },
   {
    "duration": 10,
    "start_time": "2023-09-09T15:31:17.999Z"
   },
   {
    "duration": 12,
    "start_time": "2023-09-09T15:31:18.011Z"
   },
   {
    "duration": 20,
    "start_time": "2023-09-09T15:31:18.025Z"
   },
   {
    "duration": 497,
    "start_time": "2023-09-09T15:31:18.047Z"
   },
   {
    "duration": 65,
    "start_time": "2023-09-09T15:31:18.546Z"
   },
   {
    "duration": 3350,
    "start_time": "2023-09-09T15:31:18.619Z"
   },
   {
    "duration": 158,
    "start_time": "2023-09-09T15:31:21.971Z"
   },
   {
    "duration": 27,
    "start_time": "2023-09-09T15:31:22.130Z"
   },
   {
    "duration": 8,
    "start_time": "2023-09-09T15:31:22.158Z"
   },
   {
    "duration": 90,
    "start_time": "2023-09-09T15:31:22.167Z"
   },
   {
    "duration": 17,
    "start_time": "2023-09-09T15:31:22.259Z"
   },
   {
    "duration": 353,
    "start_time": "2023-09-09T15:31:22.278Z"
   },
   {
    "duration": 29,
    "start_time": "2023-09-09T15:31:22.633Z"
   },
   {
    "duration": 11,
    "start_time": "2023-09-09T15:31:22.664Z"
   },
   {
    "duration": 8,
    "start_time": "2023-09-09T15:31:22.676Z"
   },
   {
    "duration": 7,
    "start_time": "2023-09-09T15:31:22.685Z"
   },
   {
    "duration": 12,
    "start_time": "2023-09-09T15:31:22.693Z"
   },
   {
    "duration": 3,
    "start_time": "2023-09-09T15:31:22.707Z"
   },
   {
    "duration": 36,
    "start_time": "2023-09-09T15:31:22.712Z"
   },
   {
    "duration": 30,
    "start_time": "2023-09-09T15:31:22.750Z"
   },
   {
    "duration": 11,
    "start_time": "2023-09-09T15:31:22.781Z"
   },
   {
    "duration": 19,
    "start_time": "2023-09-09T15:31:22.794Z"
   },
   {
    "duration": 12,
    "start_time": "2023-09-09T15:31:22.814Z"
   },
   {
    "duration": 5,
    "start_time": "2023-09-09T15:31:22.830Z"
   },
   {
    "duration": 7,
    "start_time": "2023-09-09T15:31:22.837Z"
   },
   {
    "duration": 7,
    "start_time": "2023-09-09T15:31:22.846Z"
   },
   {
    "duration": 12,
    "start_time": "2023-09-09T15:31:22.854Z"
   },
   {
    "duration": 10,
    "start_time": "2023-09-09T15:31:22.868Z"
   },
   {
    "duration": 36,
    "start_time": "2023-09-09T15:31:22.879Z"
   },
   {
    "duration": 44,
    "start_time": "2023-09-09T15:31:22.916Z"
   },
   {
    "duration": 15,
    "start_time": "2023-09-09T15:31:22.962Z"
   },
   {
    "duration": 8,
    "start_time": "2023-09-09T15:31:22.978Z"
   },
   {
    "duration": 24,
    "start_time": "2023-09-09T15:31:22.987Z"
   },
   {
    "duration": 41,
    "start_time": "2023-09-09T15:31:23.013Z"
   },
   {
    "duration": 11,
    "start_time": "2023-09-09T15:31:23.055Z"
   },
   {
    "duration": 14,
    "start_time": "2023-09-09T15:31:23.067Z"
   },
   {
    "duration": 21,
    "start_time": "2023-09-09T15:31:23.082Z"
   },
   {
    "duration": 5,
    "start_time": "2023-09-09T15:31:23.104Z"
   },
   {
    "duration": 14,
    "start_time": "2023-09-09T15:31:23.110Z"
   },
   {
    "duration": 32,
    "start_time": "2023-09-09T15:31:23.125Z"
   },
   {
    "duration": 19,
    "start_time": "2023-09-09T15:31:23.158Z"
   },
   {
    "duration": 8,
    "start_time": "2023-09-09T15:31:23.178Z"
   },
   {
    "duration": 11,
    "start_time": "2023-09-09T15:31:23.187Z"
   },
   {
    "duration": 17,
    "start_time": "2023-09-09T15:31:23.200Z"
   },
   {
    "duration": 41,
    "start_time": "2023-09-09T15:31:23.218Z"
   },
   {
    "duration": 155,
    "start_time": "2023-09-09T15:31:23.261Z"
   },
   {
    "duration": 12,
    "start_time": "2023-09-09T15:31:23.418Z"
   },
   {
    "duration": 370,
    "start_time": "2023-09-09T15:32:58.871Z"
   },
   {
    "duration": 698,
    "start_time": "2023-09-09T15:32:59.242Z"
   },
   {
    "duration": 3,
    "start_time": "2023-09-09T15:32:59.942Z"
   },
   {
    "duration": 46,
    "start_time": "2023-09-09T15:32:59.947Z"
   },
   {
    "duration": 10,
    "start_time": "2023-09-09T15:32:59.996Z"
   },
   {
    "duration": 68,
    "start_time": "2023-09-09T15:33:00.008Z"
   },
   {
    "duration": 31,
    "start_time": "2023-09-09T15:33:00.078Z"
   },
   {
    "duration": 519,
    "start_time": "2023-09-09T15:33:00.111Z"
   },
   {
    "duration": 64,
    "start_time": "2023-09-09T15:33:00.631Z"
   },
   {
    "duration": 3300,
    "start_time": "2023-09-09T15:33:00.696Z"
   },
   {
    "duration": 199,
    "start_time": "2023-09-09T15:33:03.997Z"
   },
   {
    "duration": 26,
    "start_time": "2023-09-09T15:33:04.198Z"
   },
   {
    "duration": 20,
    "start_time": "2023-09-09T15:33:04.226Z"
   },
   {
    "duration": 73,
    "start_time": "2023-09-09T15:33:04.250Z"
   },
   {
    "duration": 16,
    "start_time": "2023-09-09T15:33:04.325Z"
   },
   {
    "duration": 337,
    "start_time": "2023-09-09T15:33:04.343Z"
   },
   {
    "duration": 25,
    "start_time": "2023-09-09T15:33:04.681Z"
   },
   {
    "duration": 10,
    "start_time": "2023-09-09T15:33:04.707Z"
   },
   {
    "duration": 11,
    "start_time": "2023-09-09T15:33:04.718Z"
   },
   {
    "duration": 16,
    "start_time": "2023-09-09T15:33:04.730Z"
   },
   {
    "duration": 15,
    "start_time": "2023-09-09T15:33:04.747Z"
   },
   {
    "duration": 5,
    "start_time": "2023-09-09T15:33:04.763Z"
   },
   {
    "duration": 7,
    "start_time": "2023-09-09T15:33:04.769Z"
   },
   {
    "duration": 31,
    "start_time": "2023-09-09T15:33:04.777Z"
   },
   {
    "duration": 11,
    "start_time": "2023-09-09T15:33:04.810Z"
   },
   {
    "duration": 23,
    "start_time": "2023-09-09T15:33:04.822Z"
   },
   {
    "duration": 5,
    "start_time": "2023-09-09T15:33:04.846Z"
   },
   {
    "duration": 7,
    "start_time": "2023-09-09T15:33:04.852Z"
   },
   {
    "duration": 11,
    "start_time": "2023-09-09T15:33:04.861Z"
   },
   {
    "duration": 9,
    "start_time": "2023-09-09T15:33:04.874Z"
   },
   {
    "duration": 9,
    "start_time": "2023-09-09T15:33:04.884Z"
   },
   {
    "duration": 9,
    "start_time": "2023-09-09T15:33:04.894Z"
   },
   {
    "duration": 16,
    "start_time": "2023-09-09T15:33:04.905Z"
   },
   {
    "duration": 49,
    "start_time": "2023-09-09T15:33:04.944Z"
   },
   {
    "duration": 12,
    "start_time": "2023-09-09T15:33:04.995Z"
   },
   {
    "duration": 7,
    "start_time": "2023-09-09T15:33:05.009Z"
   },
   {
    "duration": 46,
    "start_time": "2023-09-09T15:33:05.017Z"
   },
   {
    "duration": 21,
    "start_time": "2023-09-09T15:33:05.065Z"
   },
   {
    "duration": 16,
    "start_time": "2023-09-09T15:33:05.088Z"
   },
   {
    "duration": 23,
    "start_time": "2023-09-09T15:33:05.105Z"
   },
   {
    "duration": 43,
    "start_time": "2023-09-09T15:33:05.132Z"
   },
   {
    "duration": 5,
    "start_time": "2023-09-09T15:33:05.177Z"
   },
   {
    "duration": 20,
    "start_time": "2023-09-09T15:33:05.184Z"
   },
   {
    "duration": 17,
    "start_time": "2023-09-09T15:33:05.205Z"
   },
   {
    "duration": 21,
    "start_time": "2023-09-09T15:33:05.224Z"
   },
   {
    "duration": 17,
    "start_time": "2023-09-09T15:33:05.247Z"
   },
   {
    "duration": 14,
    "start_time": "2023-09-09T15:33:05.265Z"
   },
   {
    "duration": 17,
    "start_time": "2023-09-09T15:33:05.280Z"
   },
   {
    "duration": 31,
    "start_time": "2023-09-09T15:33:05.298Z"
   },
   {
    "duration": 158,
    "start_time": "2023-09-09T15:33:05.331Z"
   },
   {
    "duration": 11,
    "start_time": "2023-09-09T15:33:05.490Z"
   },
   {
    "duration": 12,
    "start_time": "2023-09-09T15:33:37.301Z"
   },
   {
    "duration": 12,
    "start_time": "2023-09-09T15:33:48.341Z"
   },
   {
    "duration": 17,
    "start_time": "2023-09-09T15:34:18.614Z"
   },
   {
    "duration": 19,
    "start_time": "2023-09-09T15:34:36.312Z"
   },
   {
    "duration": 484,
    "start_time": "2023-09-09T15:41:04.889Z"
   },
   {
    "duration": 16,
    "start_time": "2023-09-09T15:41:23.527Z"
   },
   {
    "duration": 19,
    "start_time": "2023-09-09T15:41:43.205Z"
   },
   {
    "duration": 324,
    "start_time": "2023-09-09T15:41:49.831Z"
   },
   {
    "duration": 15,
    "start_time": "2023-09-09T15:42:03.895Z"
   },
   {
    "duration": 10,
    "start_time": "2023-09-09T15:42:16.671Z"
   },
   {
    "duration": 15,
    "start_time": "2023-09-09T15:42:17.371Z"
   },
   {
    "duration": 305,
    "start_time": "2023-09-09T15:42:22.630Z"
   },
   {
    "duration": 322,
    "start_time": "2023-09-09T15:42:44.792Z"
   },
   {
    "duration": 18,
    "start_time": "2023-09-09T15:42:54.460Z"
   },
   {
    "duration": 21,
    "start_time": "2023-09-09T15:43:01.015Z"
   },
   {
    "duration": 328,
    "start_time": "2023-09-09T15:46:23.473Z"
   },
   {
    "duration": 15,
    "start_time": "2023-09-09T15:46:49.467Z"
   },
   {
    "duration": 15,
    "start_time": "2023-09-09T15:46:53.278Z"
   },
   {
    "duration": 24,
    "start_time": "2023-09-09T15:47:06.551Z"
   },
   {
    "duration": 18,
    "start_time": "2023-09-09T15:48:48.008Z"
   },
   {
    "duration": 19,
    "start_time": "2023-09-09T15:49:15.807Z"
   },
   {
    "duration": 331,
    "start_time": "2023-09-09T15:50:15.130Z"
   },
   {
    "duration": 17,
    "start_time": "2023-09-09T15:50:30.818Z"
   },
   {
    "duration": 17,
    "start_time": "2023-09-09T15:53:15.657Z"
   },
   {
    "duration": 13,
    "start_time": "2023-09-09T15:53:29.150Z"
   },
   {
    "duration": 378,
    "start_time": "2023-09-09T15:54:33.358Z"
   },
   {
    "duration": 870,
    "start_time": "2023-09-09T15:54:33.738Z"
   },
   {
    "duration": 3,
    "start_time": "2023-09-09T15:54:34.609Z"
   },
   {
    "duration": 47,
    "start_time": "2023-09-09T15:54:34.613Z"
   },
   {
    "duration": 9,
    "start_time": "2023-09-09T15:54:34.662Z"
   },
   {
    "duration": 17,
    "start_time": "2023-09-09T15:54:34.672Z"
   },
   {
    "duration": 8,
    "start_time": "2023-09-09T15:54:34.691Z"
   },
   {
    "duration": 479,
    "start_time": "2023-09-09T15:54:34.700Z"
   },
   {
    "duration": 77,
    "start_time": "2023-09-09T15:54:35.181Z"
   },
   {
    "duration": 3422,
    "start_time": "2023-09-09T15:54:35.260Z"
   },
   {
    "duration": 165,
    "start_time": "2023-09-09T15:54:38.684Z"
   },
   {
    "duration": 26,
    "start_time": "2023-09-09T15:54:38.853Z"
   },
   {
    "duration": 7,
    "start_time": "2023-09-09T15:54:38.880Z"
   },
   {
    "duration": 77,
    "start_time": "2023-09-09T15:54:38.890Z"
   },
   {
    "duration": 18,
    "start_time": "2023-09-09T15:54:38.969Z"
   },
   {
    "duration": 388,
    "start_time": "2023-09-09T15:54:38.989Z"
   },
   {
    "duration": 26,
    "start_time": "2023-09-09T15:54:39.378Z"
   },
   {
    "duration": 12,
    "start_time": "2023-09-09T15:54:39.406Z"
   },
   {
    "duration": 35,
    "start_time": "2023-09-09T15:54:39.419Z"
   },
   {
    "duration": 7,
    "start_time": "2023-09-09T15:54:39.455Z"
   },
   {
    "duration": 8,
    "start_time": "2023-09-09T15:54:39.463Z"
   },
   {
    "duration": 8,
    "start_time": "2023-09-09T15:54:39.473Z"
   },
   {
    "duration": 4,
    "start_time": "2023-09-09T15:54:39.482Z"
   },
   {
    "duration": 31,
    "start_time": "2023-09-09T15:54:39.487Z"
   },
   {
    "duration": 10,
    "start_time": "2023-09-09T15:54:39.520Z"
   },
   {
    "duration": 25,
    "start_time": "2023-09-09T15:54:39.531Z"
   },
   {
    "duration": 5,
    "start_time": "2023-09-09T15:54:39.558Z"
   },
   {
    "duration": 6,
    "start_time": "2023-09-09T15:54:39.564Z"
   },
   {
    "duration": 6,
    "start_time": "2023-09-09T15:54:39.571Z"
   },
   {
    "duration": 5,
    "start_time": "2023-09-09T15:54:39.579Z"
   },
   {
    "duration": 9,
    "start_time": "2023-09-09T15:54:39.585Z"
   },
   {
    "duration": 12,
    "start_time": "2023-09-09T15:54:39.595Z"
   },
   {
    "duration": 50,
    "start_time": "2023-09-09T15:54:39.608Z"
   },
   {
    "duration": 51,
    "start_time": "2023-09-09T15:54:39.659Z"
   },
   {
    "duration": 13,
    "start_time": "2023-09-09T15:54:39.711Z"
   },
   {
    "duration": 46,
    "start_time": "2023-09-09T15:54:39.725Z"
   },
   {
    "duration": 20,
    "start_time": "2023-09-09T15:54:39.773Z"
   },
   {
    "duration": 22,
    "start_time": "2023-09-09T15:54:39.795Z"
   },
   {
    "duration": 12,
    "start_time": "2023-09-09T15:54:39.819Z"
   },
   {
    "duration": 24,
    "start_time": "2023-09-09T15:54:39.833Z"
   },
   {
    "duration": 23,
    "start_time": "2023-09-09T15:54:39.861Z"
   },
   {
    "duration": 6,
    "start_time": "2023-09-09T15:54:39.885Z"
   },
   {
    "duration": 21,
    "start_time": "2023-09-09T15:54:39.892Z"
   },
   {
    "duration": 24,
    "start_time": "2023-09-09T15:54:39.914Z"
   },
   {
    "duration": 33,
    "start_time": "2023-09-09T15:54:39.939Z"
   },
   {
    "duration": 104,
    "start_time": "2023-09-09T15:54:39.973Z"
   },
   {
    "duration": 0,
    "start_time": "2023-09-09T15:54:40.078Z"
   },
   {
    "duration": 0,
    "start_time": "2023-09-09T15:54:40.079Z"
   },
   {
    "duration": 0,
    "start_time": "2023-09-09T15:54:40.080Z"
   },
   {
    "duration": 0,
    "start_time": "2023-09-09T15:54:40.081Z"
   },
   {
    "duration": 14,
    "start_time": "2023-09-09T15:56:34.874Z"
   },
   {
    "duration": 17,
    "start_time": "2023-09-09T15:58:07.277Z"
   },
   {
    "duration": 19,
    "start_time": "2023-09-09T15:58:07.931Z"
   },
   {
    "duration": 13,
    "start_time": "2023-09-09T15:58:09.203Z"
   },
   {
    "duration": 21,
    "start_time": "2023-09-09T15:58:44.032Z"
   },
   {
    "duration": 20,
    "start_time": "2023-09-09T15:58:44.590Z"
   },
   {
    "duration": 14,
    "start_time": "2023-09-09T15:58:45.492Z"
   },
   {
    "duration": 26,
    "start_time": "2023-09-09T15:58:56.267Z"
   },
   {
    "duration": 14,
    "start_time": "2023-09-09T15:58:56.893Z"
   },
   {
    "duration": 15,
    "start_time": "2023-09-09T15:59:17.858Z"
   },
   {
    "duration": 24,
    "start_time": "2023-09-09T16:01:31.438Z"
   },
   {
    "duration": 14,
    "start_time": "2023-09-09T16:01:42.427Z"
   },
   {
    "duration": 10,
    "start_time": "2023-09-09T16:03:05.493Z"
   },
   {
    "duration": 22,
    "start_time": "2023-09-09T16:03:43.076Z"
   },
   {
    "duration": 8,
    "start_time": "2023-09-09T16:04:07.932Z"
   },
   {
    "duration": 19,
    "start_time": "2023-09-09T16:04:40.437Z"
   },
   {
    "duration": 24,
    "start_time": "2023-09-09T16:04:41.036Z"
   },
   {
    "duration": 9,
    "start_time": "2023-09-09T16:04:41.540Z"
   },
   {
    "duration": 392,
    "start_time": "2023-09-09T16:04:46.556Z"
   },
   {
    "duration": 732,
    "start_time": "2023-09-09T16:04:46.950Z"
   },
   {
    "duration": 3,
    "start_time": "2023-09-09T16:04:47.683Z"
   },
   {
    "duration": 44,
    "start_time": "2023-09-09T16:04:47.687Z"
   },
   {
    "duration": 9,
    "start_time": "2023-09-09T16:04:47.734Z"
   },
   {
    "duration": 15,
    "start_time": "2023-09-09T16:04:47.746Z"
   },
   {
    "duration": 8,
    "start_time": "2023-09-09T16:04:47.762Z"
   },
   {
    "duration": 524,
    "start_time": "2023-09-09T16:04:47.771Z"
   },
   {
    "duration": 82,
    "start_time": "2023-09-09T16:04:48.297Z"
   },
   {
    "duration": 3375,
    "start_time": "2023-09-09T16:04:48.380Z"
   },
   {
    "duration": 162,
    "start_time": "2023-09-09T16:04:51.756Z"
   },
   {
    "duration": 33,
    "start_time": "2023-09-09T16:04:51.919Z"
   },
   {
    "duration": 17,
    "start_time": "2023-09-09T16:04:51.953Z"
   },
   {
    "duration": 96,
    "start_time": "2023-09-09T16:04:51.972Z"
   },
   {
    "duration": 18,
    "start_time": "2023-09-09T16:04:52.070Z"
   },
   {
    "duration": 392,
    "start_time": "2023-09-09T16:04:52.089Z"
   },
   {
    "duration": 26,
    "start_time": "2023-09-09T16:04:52.482Z"
   },
   {
    "duration": 10,
    "start_time": "2023-09-09T16:04:52.510Z"
   },
   {
    "duration": 35,
    "start_time": "2023-09-09T16:04:52.522Z"
   },
   {
    "duration": 7,
    "start_time": "2023-09-09T16:04:52.558Z"
   },
   {
    "duration": 14,
    "start_time": "2023-09-09T16:04:52.566Z"
   },
   {
    "duration": 5,
    "start_time": "2023-09-09T16:04:52.581Z"
   },
   {
    "duration": 9,
    "start_time": "2023-09-09T16:04:52.587Z"
   },
   {
    "duration": 44,
    "start_time": "2023-09-09T16:04:52.597Z"
   },
   {
    "duration": 17,
    "start_time": "2023-09-09T16:04:52.642Z"
   },
   {
    "duration": 13,
    "start_time": "2023-09-09T16:04:52.661Z"
   },
   {
    "duration": 3,
    "start_time": "2023-09-09T16:04:52.676Z"
   },
   {
    "duration": 7,
    "start_time": "2023-09-09T16:04:52.681Z"
   },
   {
    "duration": 15,
    "start_time": "2023-09-09T16:04:52.690Z"
   },
   {
    "duration": 22,
    "start_time": "2023-09-09T16:04:52.706Z"
   },
   {
    "duration": 10,
    "start_time": "2023-09-09T16:04:52.729Z"
   },
   {
    "duration": 24,
    "start_time": "2023-09-09T16:04:52.740Z"
   },
   {
    "duration": 20,
    "start_time": "2023-09-09T16:04:52.766Z"
   },
   {
    "duration": 56,
    "start_time": "2023-09-09T16:04:52.787Z"
   },
   {
    "duration": 17,
    "start_time": "2023-09-09T16:04:52.846Z"
   },
   {
    "duration": 27,
    "start_time": "2023-09-09T16:04:52.865Z"
   },
   {
    "duration": 28,
    "start_time": "2023-09-09T16:04:52.894Z"
   },
   {
    "duration": 19,
    "start_time": "2023-09-09T16:04:52.923Z"
   },
   {
    "duration": 22,
    "start_time": "2023-09-09T16:04:52.943Z"
   },
   {
    "duration": 33,
    "start_time": "2023-09-09T16:04:52.966Z"
   },
   {
    "duration": 45,
    "start_time": "2023-09-09T16:04:53.002Z"
   },
   {
    "duration": 13,
    "start_time": "2023-09-09T16:04:53.052Z"
   },
   {
    "duration": 31,
    "start_time": "2023-09-09T16:04:53.067Z"
   },
   {
    "duration": 21,
    "start_time": "2023-09-09T16:04:53.099Z"
   },
   {
    "duration": 15,
    "start_time": "2023-09-09T16:04:53.122Z"
   },
   {
    "duration": 117,
    "start_time": "2023-09-09T16:04:53.138Z"
   },
   {
    "duration": 0,
    "start_time": "2023-09-09T16:04:53.257Z"
   },
   {
    "duration": 0,
    "start_time": "2023-09-09T16:04:53.258Z"
   },
   {
    "duration": 0,
    "start_time": "2023-09-09T16:04:53.262Z"
   },
   {
    "duration": 0,
    "start_time": "2023-09-09T16:04:53.263Z"
   },
   {
    "duration": 8,
    "start_time": "2023-09-09T16:05:43.330Z"
   },
   {
    "duration": 9,
    "start_time": "2023-09-09T16:05:56.456Z"
   },
   {
    "duration": 316,
    "start_time": "2023-09-09T16:07:06.627Z"
   },
   {
    "duration": 15,
    "start_time": "2023-09-09T16:07:34.598Z"
   },
   {
    "duration": 16,
    "start_time": "2023-09-09T16:07:46.894Z"
   },
   {
    "duration": 18,
    "start_time": "2023-09-09T16:07:47.957Z"
   },
   {
    "duration": 11,
    "start_time": "2023-09-09T16:08:10.574Z"
   },
   {
    "duration": 8,
    "start_time": "2023-09-09T16:08:23.531Z"
   },
   {
    "duration": 375,
    "start_time": "2023-09-09T16:08:51.357Z"
   },
   {
    "duration": 706,
    "start_time": "2023-09-09T16:08:51.734Z"
   },
   {
    "duration": 6,
    "start_time": "2023-09-09T16:08:52.445Z"
   },
   {
    "duration": 40,
    "start_time": "2023-09-09T16:08:52.455Z"
   },
   {
    "duration": 8,
    "start_time": "2023-09-09T16:08:52.497Z"
   },
   {
    "duration": 6,
    "start_time": "2023-09-09T16:08:52.507Z"
   },
   {
    "duration": 7,
    "start_time": "2023-09-09T16:08:52.514Z"
   },
   {
    "duration": 479,
    "start_time": "2023-09-09T16:08:52.522Z"
   },
   {
    "duration": 76,
    "start_time": "2023-09-09T16:08:53.002Z"
   },
   {
    "duration": 3429,
    "start_time": "2023-09-09T16:08:53.081Z"
   },
   {
    "duration": 173,
    "start_time": "2023-09-09T16:08:56.511Z"
   },
   {
    "duration": 23,
    "start_time": "2023-09-09T16:08:56.685Z"
   },
   {
    "duration": 5,
    "start_time": "2023-09-09T16:08:56.710Z"
   },
   {
    "duration": 79,
    "start_time": "2023-09-09T16:08:56.716Z"
   },
   {
    "duration": 18,
    "start_time": "2023-09-09T16:08:56.797Z"
   },
   {
    "duration": 370,
    "start_time": "2023-09-09T16:08:56.816Z"
   },
   {
    "duration": 25,
    "start_time": "2023-09-09T16:08:57.187Z"
   },
   {
    "duration": 12,
    "start_time": "2023-09-09T16:08:57.213Z"
   },
   {
    "duration": 23,
    "start_time": "2023-09-09T16:08:57.226Z"
   },
   {
    "duration": 14,
    "start_time": "2023-09-09T16:08:57.250Z"
   },
   {
    "duration": 6,
    "start_time": "2023-09-09T16:08:57.265Z"
   },
   {
    "duration": 13,
    "start_time": "2023-09-09T16:08:57.273Z"
   },
   {
    "duration": 6,
    "start_time": "2023-09-09T16:08:57.287Z"
   },
   {
    "duration": 38,
    "start_time": "2023-09-09T16:08:57.294Z"
   },
   {
    "duration": 11,
    "start_time": "2023-09-09T16:08:57.333Z"
   },
   {
    "duration": 19,
    "start_time": "2023-09-09T16:08:57.345Z"
   },
   {
    "duration": 18,
    "start_time": "2023-09-09T16:08:57.365Z"
   },
   {
    "duration": 26,
    "start_time": "2023-09-09T16:08:57.386Z"
   },
   {
    "duration": 24,
    "start_time": "2023-09-09T16:08:57.413Z"
   },
   {
    "duration": 31,
    "start_time": "2023-09-09T16:08:57.438Z"
   },
   {
    "duration": 35,
    "start_time": "2023-09-09T16:08:57.471Z"
   },
   {
    "duration": 19,
    "start_time": "2023-09-09T16:08:57.507Z"
   },
   {
    "duration": 39,
    "start_time": "2023-09-09T16:08:57.528Z"
   },
   {
    "duration": 48,
    "start_time": "2023-09-09T16:08:57.568Z"
   },
   {
    "duration": 14,
    "start_time": "2023-09-09T16:08:57.618Z"
   },
   {
    "duration": 14,
    "start_time": "2023-09-09T16:08:57.648Z"
   },
   {
    "duration": 27,
    "start_time": "2023-09-09T16:08:57.663Z"
   },
   {
    "duration": 33,
    "start_time": "2023-09-09T16:08:57.692Z"
   },
   {
    "duration": 12,
    "start_time": "2023-09-09T16:08:57.727Z"
   },
   {
    "duration": 24,
    "start_time": "2023-09-09T16:08:57.740Z"
   },
   {
    "duration": 24,
    "start_time": "2023-09-09T16:08:57.766Z"
   },
   {
    "duration": 5,
    "start_time": "2023-09-09T16:08:57.792Z"
   },
   {
    "duration": 11,
    "start_time": "2023-09-09T16:08:57.798Z"
   },
   {
    "duration": 13,
    "start_time": "2023-09-09T16:08:57.810Z"
   },
   {
    "duration": 34,
    "start_time": "2023-09-09T16:08:57.824Z"
   },
   {
    "duration": 96,
    "start_time": "2023-09-09T16:08:57.860Z"
   },
   {
    "duration": 0,
    "start_time": "2023-09-09T16:08:57.958Z"
   },
   {
    "duration": 0,
    "start_time": "2023-09-09T16:08:57.960Z"
   },
   {
    "duration": 0,
    "start_time": "2023-09-09T16:08:57.961Z"
   },
   {
    "duration": 0,
    "start_time": "2023-09-09T16:08:57.962Z"
   },
   {
    "duration": 19,
    "start_time": "2023-09-09T16:09:08.349Z"
   },
   {
    "duration": 13,
    "start_time": "2023-09-09T16:09:22.110Z"
   },
   {
    "duration": 17,
    "start_time": "2023-09-09T16:09:22.630Z"
   },
   {
    "duration": 7,
    "start_time": "2023-09-09T16:09:23.112Z"
   },
   {
    "duration": 13,
    "start_time": "2023-09-09T16:10:36.649Z"
   },
   {
    "duration": 13,
    "start_time": "2023-09-09T16:11:33.678Z"
   },
   {
    "duration": 15,
    "start_time": "2023-09-09T16:12:07.965Z"
   },
   {
    "duration": 14,
    "start_time": "2023-09-09T16:12:08.523Z"
   },
   {
    "duration": 9,
    "start_time": "2023-09-09T16:12:09.295Z"
   },
   {
    "duration": 10,
    "start_time": "2023-09-09T16:13:41.487Z"
   },
   {
    "duration": 10,
    "start_time": "2023-09-09T16:13:48.017Z"
   },
   {
    "duration": 12,
    "start_time": "2023-09-09T16:15:15.959Z"
   },
   {
    "duration": 20,
    "start_time": "2023-09-09T16:15:42.036Z"
   },
   {
    "duration": 13,
    "start_time": "2023-09-09T16:16:06.480Z"
   },
   {
    "duration": 13,
    "start_time": "2023-09-09T16:16:29.399Z"
   },
   {
    "duration": 12,
    "start_time": "2023-09-09T16:16:39.315Z"
   },
   {
    "duration": 29,
    "start_time": "2023-09-09T16:17:28.430Z"
   },
   {
    "duration": 6,
    "start_time": "2023-09-09T16:17:46.579Z"
   },
   {
    "duration": 14,
    "start_time": "2023-09-09T16:17:47.018Z"
   },
   {
    "duration": 37,
    "start_time": "2023-09-09T16:17:47.425Z"
   },
   {
    "duration": 175,
    "start_time": "2023-09-09T16:44:56.589Z"
   },
   {
    "duration": 1566,
    "start_time": "2023-09-09T16:45:45.565Z"
   },
   {
    "duration": 119,
    "start_time": "2023-09-09T16:50:07.382Z"
   },
   {
    "duration": 117,
    "start_time": "2023-09-09T16:51:04.858Z"
   },
   {
    "duration": 21,
    "start_time": "2023-09-09T16:53:25.734Z"
   },
   {
    "duration": 24,
    "start_time": "2023-09-09T16:53:26.494Z"
   },
   {
    "duration": 25,
    "start_time": "2023-09-09T16:54:29.295Z"
   },
   {
    "duration": 142,
    "start_time": "2023-09-09T16:55:05.800Z"
   },
   {
    "duration": 11,
    "start_time": "2023-09-09T16:57:16.184Z"
   },
   {
    "duration": 388,
    "start_time": "2023-09-09T16:57:30.439Z"
   },
   {
    "duration": 751,
    "start_time": "2023-09-09T16:57:30.828Z"
   },
   {
    "duration": 2,
    "start_time": "2023-09-09T16:57:31.581Z"
   },
   {
    "duration": 64,
    "start_time": "2023-09-09T16:57:31.585Z"
   },
   {
    "duration": 12,
    "start_time": "2023-09-09T16:57:31.653Z"
   },
   {
    "duration": 33,
    "start_time": "2023-09-09T16:57:31.666Z"
   },
   {
    "duration": 23,
    "start_time": "2023-09-09T16:57:31.700Z"
   },
   {
    "duration": 499,
    "start_time": "2023-09-09T16:57:31.725Z"
   },
   {
    "duration": 76,
    "start_time": "2023-09-09T16:57:32.226Z"
   },
   {
    "duration": 3483,
    "start_time": "2023-09-09T16:57:32.304Z"
   },
   {
    "duration": 175,
    "start_time": "2023-09-09T16:57:35.788Z"
   },
   {
    "duration": 21,
    "start_time": "2023-09-09T16:57:35.965Z"
   },
   {
    "duration": 7,
    "start_time": "2023-09-09T16:57:35.988Z"
   },
   {
    "duration": 78,
    "start_time": "2023-09-09T16:57:35.997Z"
   },
   {
    "duration": 19,
    "start_time": "2023-09-09T16:57:36.077Z"
   },
   {
    "duration": 392,
    "start_time": "2023-09-09T16:57:36.097Z"
   },
   {
    "duration": 28,
    "start_time": "2023-09-09T16:57:36.491Z"
   },
   {
    "duration": 38,
    "start_time": "2023-09-09T16:57:36.520Z"
   },
   {
    "duration": 8,
    "start_time": "2023-09-09T16:57:36.560Z"
   },
   {
    "duration": 10,
    "start_time": "2023-09-09T16:57:36.570Z"
   },
   {
    "duration": 5,
    "start_time": "2023-09-09T16:57:36.582Z"
   },
   {
    "duration": 4,
    "start_time": "2023-09-09T16:57:36.589Z"
   },
   {
    "duration": 5,
    "start_time": "2023-09-09T16:57:36.594Z"
   },
   {
    "duration": 31,
    "start_time": "2023-09-09T16:57:36.600Z"
   },
   {
    "duration": 18,
    "start_time": "2023-09-09T16:57:36.643Z"
   },
   {
    "duration": 10,
    "start_time": "2023-09-09T16:57:36.663Z"
   },
   {
    "duration": 4,
    "start_time": "2023-09-09T16:57:36.675Z"
   },
   {
    "duration": 5,
    "start_time": "2023-09-09T16:57:36.682Z"
   },
   {
    "duration": 6,
    "start_time": "2023-09-09T16:57:36.688Z"
   },
   {
    "duration": 7,
    "start_time": "2023-09-09T16:57:36.699Z"
   },
   {
    "duration": 60,
    "start_time": "2023-09-09T16:57:36.708Z"
   },
   {
    "duration": 11,
    "start_time": "2023-09-09T16:57:36.769Z"
   },
   {
    "duration": 37,
    "start_time": "2023-09-09T16:57:36.781Z"
   },
   {
    "duration": 166,
    "start_time": "2023-09-09T16:57:36.819Z"
   },
   {
    "duration": 29,
    "start_time": "2023-09-09T16:57:36.987Z"
   },
   {
    "duration": 85,
    "start_time": "2023-09-09T16:57:37.018Z"
   },
   {
    "duration": 15,
    "start_time": "2023-09-09T16:57:37.105Z"
   },
   {
    "duration": 8,
    "start_time": "2023-09-09T16:57:37.121Z"
   },
   {
    "duration": 25,
    "start_time": "2023-09-09T16:57:37.147Z"
   },
   {
    "duration": 22,
    "start_time": "2023-09-09T16:57:37.173Z"
   },
   {
    "duration": 12,
    "start_time": "2023-09-09T16:57:37.197Z"
   },
   {
    "duration": 11,
    "start_time": "2023-09-09T16:57:37.210Z"
   },
   {
    "duration": 32,
    "start_time": "2023-09-09T16:57:37.245Z"
   },
   {
    "duration": 5,
    "start_time": "2023-09-09T16:57:37.279Z"
   },
   {
    "duration": 11,
    "start_time": "2023-09-09T16:57:37.286Z"
   },
   {
    "duration": 35,
    "start_time": "2023-09-09T16:57:37.298Z"
   },
   {
    "duration": 124,
    "start_time": "2023-09-09T16:57:37.346Z"
   },
   {
    "duration": 21,
    "start_time": "2023-09-09T16:57:37.471Z"
   },
   {
    "duration": 24,
    "start_time": "2023-09-09T16:57:37.494Z"
   },
   {
    "duration": 164,
    "start_time": "2023-09-09T16:57:37.520Z"
   },
   {
    "duration": 11,
    "start_time": "2023-09-09T16:57:37.686Z"
   },
   {
    "duration": 12,
    "start_time": "2023-09-09T16:58:06.711Z"
   },
   {
    "duration": 14,
    "start_time": "2023-09-09T16:58:25.757Z"
   },
   {
    "duration": 13,
    "start_time": "2023-09-09T16:59:19.681Z"
   },
   {
    "duration": 13,
    "start_time": "2023-09-09T16:59:45.761Z"
   },
   {
    "duration": 12,
    "start_time": "2023-09-09T17:00:06.873Z"
   },
   {
    "duration": 13,
    "start_time": "2023-09-09T17:06:47.466Z"
   },
   {
    "duration": 253,
    "start_time": "2023-09-09T17:11:39.401Z"
   },
   {
    "duration": 186,
    "start_time": "2023-09-09T17:12:34.304Z"
   },
   {
    "duration": 268,
    "start_time": "2023-09-09T17:12:49.425Z"
   },
   {
    "duration": 207,
    "start_time": "2023-09-09T17:13:02.368Z"
   },
   {
    "duration": 199,
    "start_time": "2023-09-09T17:14:21.315Z"
   },
   {
    "duration": 183,
    "start_time": "2023-09-09T17:15:26.924Z"
   },
   {
    "duration": 243,
    "start_time": "2023-09-09T17:16:40.764Z"
   },
   {
    "duration": 89,
    "start_time": "2023-09-09T18:05:36.399Z"
   },
   {
    "duration": 5,
    "start_time": "2023-09-09T18:05:47.490Z"
   },
   {
    "duration": 113,
    "start_time": "2023-09-09T18:17:37.277Z"
   },
   {
    "duration": 16,
    "start_time": "2023-09-09T18:17:51.893Z"
   },
   {
    "duration": 105,
    "start_time": "2023-09-09T18:18:58.561Z"
   },
   {
    "duration": 17,
    "start_time": "2023-09-09T18:18:59.080Z"
   },
   {
    "duration": 95,
    "start_time": "2023-09-09T18:19:34.965Z"
   },
   {
    "duration": 18,
    "start_time": "2023-09-09T18:19:35.489Z"
   },
   {
    "duration": 21,
    "start_time": "2023-09-09T18:24:31.157Z"
   },
   {
    "duration": 6,
    "start_time": "2023-09-09T18:26:37.417Z"
   },
   {
    "duration": 6,
    "start_time": "2023-09-09T18:27:08.764Z"
   },
   {
    "duration": 23,
    "start_time": "2023-09-09T18:28:14.185Z"
   },
   {
    "duration": 11,
    "start_time": "2023-09-09T18:30:53.480Z"
   },
   {
    "duration": 20,
    "start_time": "2023-09-09T18:32:56.518Z"
   },
   {
    "duration": 22,
    "start_time": "2023-09-09T18:33:11.448Z"
   },
   {
    "duration": 11,
    "start_time": "2023-09-09T18:34:10.519Z"
   },
   {
    "duration": 11,
    "start_time": "2023-09-09T18:34:16.053Z"
   },
   {
    "duration": 16,
    "start_time": "2023-09-09T18:35:17.601Z"
   },
   {
    "duration": 25,
    "start_time": "2023-09-09T19:01:49.722Z"
   },
   {
    "duration": 21,
    "start_time": "2023-09-09T19:02:24.698Z"
   },
   {
    "duration": 15,
    "start_time": "2023-09-09T19:03:12.131Z"
   },
   {
    "duration": 8,
    "start_time": "2023-09-09T19:07:19.466Z"
   },
   {
    "duration": 8,
    "start_time": "2023-09-09T19:07:26.586Z"
   },
   {
    "duration": 13,
    "start_time": "2023-09-09T19:07:36.490Z"
   },
   {
    "duration": 154,
    "start_time": "2023-09-09T19:10:24.761Z"
   },
   {
    "duration": 19,
    "start_time": "2023-09-09T19:10:48.300Z"
   },
   {
    "duration": 21,
    "start_time": "2023-09-09T19:10:58.087Z"
   },
   {
    "duration": 23,
    "start_time": "2023-09-09T19:11:21.522Z"
   },
   {
    "duration": 23,
    "start_time": "2023-09-09T19:11:38.170Z"
   },
   {
    "duration": 347,
    "start_time": "2023-09-09T19:13:07.263Z"
   },
   {
    "duration": 19,
    "start_time": "2023-09-09T19:13:39.446Z"
   },
   {
    "duration": 25,
    "start_time": "2023-09-09T19:14:04.178Z"
   },
   {
    "duration": 21,
    "start_time": "2023-09-09T19:14:56.521Z"
   },
   {
    "duration": 32,
    "start_time": "2023-09-09T19:15:46.994Z"
   },
   {
    "duration": 23,
    "start_time": "2023-09-09T19:15:52.811Z"
   },
   {
    "duration": 9,
    "start_time": "2023-09-09T19:24:25.866Z"
   },
   {
    "duration": 311,
    "start_time": "2023-09-09T19:35:46.724Z"
   },
   {
    "duration": 31,
    "start_time": "2023-09-09T19:37:33.557Z"
   },
   {
    "duration": 312,
    "start_time": "2023-09-09T19:37:51.603Z"
   },
   {
    "duration": 30,
    "start_time": "2023-09-09T19:44:11.036Z"
   },
   {
    "duration": 33,
    "start_time": "2023-09-09T19:44:32.669Z"
   },
   {
    "duration": 443,
    "start_time": "2023-09-09T19:44:42.017Z"
   },
   {
    "duration": 21,
    "start_time": "2023-09-09T19:46:13.771Z"
   },
   {
    "duration": 27,
    "start_time": "2023-09-09T19:46:32.384Z"
   },
   {
    "duration": 15,
    "start_time": "2023-09-09T19:48:07.762Z"
   },
   {
    "duration": 31,
    "start_time": "2023-09-09T19:48:20.046Z"
   },
   {
    "duration": 184,
    "start_time": "2023-09-09T19:48:43.280Z"
   },
   {
    "duration": 11,
    "start_time": "2023-09-09T19:57:01.166Z"
   },
   {
    "duration": 21,
    "start_time": "2023-09-09T19:58:03.758Z"
   },
   {
    "duration": 289,
    "start_time": "2023-09-09T20:02:29.508Z"
   },
   {
    "duration": 19,
    "start_time": "2023-09-09T20:05:15.219Z"
   },
   {
    "duration": 32,
    "start_time": "2023-09-09T20:06:05.259Z"
   },
   {
    "duration": 194,
    "start_time": "2023-09-09T20:15:37.293Z"
   },
   {
    "duration": 192,
    "start_time": "2023-09-09T20:16:49.525Z"
   },
   {
    "duration": 194,
    "start_time": "2023-09-09T20:17:09.211Z"
   },
   {
    "duration": 21,
    "start_time": "2023-09-09T20:43:42.201Z"
   },
   {
    "duration": 380,
    "start_time": "2023-09-09T20:44:08.068Z"
   },
   {
    "duration": 676,
    "start_time": "2023-09-09T20:44:08.453Z"
   },
   {
    "duration": 2,
    "start_time": "2023-09-09T20:44:09.130Z"
   },
   {
    "duration": 50,
    "start_time": "2023-09-09T20:44:09.134Z"
   },
   {
    "duration": 9,
    "start_time": "2023-09-09T20:44:09.186Z"
   },
   {
    "duration": 7,
    "start_time": "2023-09-09T20:44:09.196Z"
   },
   {
    "duration": 8,
    "start_time": "2023-09-09T20:44:09.204Z"
   },
   {
    "duration": 468,
    "start_time": "2023-09-09T20:44:09.213Z"
   },
   {
    "duration": 67,
    "start_time": "2023-09-09T20:44:09.683Z"
   },
   {
    "duration": 3075,
    "start_time": "2023-09-09T20:44:09.751Z"
   },
   {
    "duration": 172,
    "start_time": "2023-09-09T20:44:12.828Z"
   },
   {
    "duration": 22,
    "start_time": "2023-09-09T20:44:13.001Z"
   },
   {
    "duration": 20,
    "start_time": "2023-09-09T20:44:13.025Z"
   },
   {
    "duration": 74,
    "start_time": "2023-09-09T20:44:13.048Z"
   },
   {
    "duration": 18,
    "start_time": "2023-09-09T20:44:13.123Z"
   },
   {
    "duration": 335,
    "start_time": "2023-09-09T20:44:13.143Z"
   },
   {
    "duration": 27,
    "start_time": "2023-09-09T20:44:13.479Z"
   },
   {
    "duration": 11,
    "start_time": "2023-09-09T20:44:13.507Z"
   },
   {
    "duration": 24,
    "start_time": "2023-09-09T20:44:13.520Z"
   },
   {
    "duration": 6,
    "start_time": "2023-09-09T20:44:13.546Z"
   },
   {
    "duration": 5,
    "start_time": "2023-09-09T20:44:13.553Z"
   },
   {
    "duration": 27,
    "start_time": "2023-09-09T20:44:13.559Z"
   },
   {
    "duration": 4,
    "start_time": "2023-09-09T20:44:13.588Z"
   },
   {
    "duration": 32,
    "start_time": "2023-09-09T20:44:13.594Z"
   },
   {
    "duration": 10,
    "start_time": "2023-09-09T20:44:13.628Z"
   },
   {
    "duration": 11,
    "start_time": "2023-09-09T20:44:13.639Z"
   },
   {
    "duration": 4,
    "start_time": "2023-09-09T20:44:13.651Z"
   },
   {
    "duration": 5,
    "start_time": "2023-09-09T20:44:13.656Z"
   },
   {
    "duration": 5,
    "start_time": "2023-09-09T20:44:13.662Z"
   },
   {
    "duration": 6,
    "start_time": "2023-09-09T20:44:13.668Z"
   },
   {
    "duration": 8,
    "start_time": "2023-09-09T20:44:13.676Z"
   },
   {
    "duration": 13,
    "start_time": "2023-09-09T20:44:13.685Z"
   },
   {
    "duration": 57,
    "start_time": "2023-09-09T20:44:13.700Z"
   },
   {
    "duration": 148,
    "start_time": "2023-09-09T20:44:13.759Z"
   },
   {
    "duration": 16,
    "start_time": "2023-09-09T20:44:13.908Z"
   },
   {
    "duration": 57,
    "start_time": "2023-09-09T20:44:13.925Z"
   },
   {
    "duration": 12,
    "start_time": "2023-09-09T20:44:13.983Z"
   },
   {
    "duration": 7,
    "start_time": "2023-09-09T20:44:13.997Z"
   },
   {
    "duration": 42,
    "start_time": "2023-09-09T20:44:14.005Z"
   },
   {
    "duration": 21,
    "start_time": "2023-09-09T20:44:14.049Z"
   },
   {
    "duration": 16,
    "start_time": "2023-09-09T20:44:14.075Z"
   },
   {
    "duration": 21,
    "start_time": "2023-09-09T20:44:14.094Z"
   },
   {
    "duration": 52,
    "start_time": "2023-09-09T20:44:14.117Z"
   },
   {
    "duration": 6,
    "start_time": "2023-09-09T20:44:14.172Z"
   },
   {
    "duration": 13,
    "start_time": "2023-09-09T20:44:14.180Z"
   },
   {
    "duration": 51,
    "start_time": "2023-09-09T20:44:14.195Z"
   },
   {
    "duration": 7,
    "start_time": "2023-09-09T20:44:14.248Z"
   },
   {
    "duration": 140,
    "start_time": "2023-09-09T20:44:14.257Z"
   },
   {
    "duration": 370,
    "start_time": "2023-09-09T20:44:14.399Z"
   },
   {
    "duration": 131,
    "start_time": "2023-09-09T20:44:14.770Z"
   },
   {
    "duration": 18,
    "start_time": "2023-09-09T20:44:14.902Z"
   },
   {
    "duration": 39,
    "start_time": "2023-09-09T20:44:14.921Z"
   },
   {
    "duration": 14,
    "start_time": "2023-09-09T20:44:14.962Z"
   },
   {
    "duration": 9,
    "start_time": "2023-09-09T20:44:14.977Z"
   },
   {
    "duration": 56,
    "start_time": "2023-09-09T20:44:14.988Z"
   },
   {
    "duration": 10,
    "start_time": "2023-09-09T20:44:15.046Z"
   },
   {
    "duration": 29,
    "start_time": "2023-09-09T20:44:15.058Z"
   },
   {
    "duration": 224,
    "start_time": "2023-09-09T20:44:15.088Z"
   },
   {
    "duration": 32,
    "start_time": "2023-09-09T20:44:15.313Z"
   },
   {
    "duration": 29,
    "start_time": "2023-09-09T20:46:33.686Z"
   },
   {
    "duration": 124,
    "start_time": "2023-09-09T20:47:28.104Z"
   },
   {
    "duration": 20,
    "start_time": "2023-09-09T20:48:04.474Z"
   },
   {
    "duration": 20,
    "start_time": "2023-09-09T20:48:24.819Z"
   },
   {
    "duration": 24,
    "start_time": "2023-09-09T20:48:32.390Z"
   },
   {
    "duration": 23,
    "start_time": "2023-09-09T20:50:17.354Z"
   },
   {
    "duration": 22,
    "start_time": "2023-09-09T20:50:29.777Z"
   },
   {
    "duration": 18,
    "start_time": "2023-09-09T20:50:52.857Z"
   },
   {
    "duration": 23,
    "start_time": "2023-09-09T20:51:06.028Z"
   },
   {
    "duration": 167,
    "start_time": "2023-09-09T20:52:29.265Z"
   },
   {
    "duration": 183,
    "start_time": "2023-09-09T20:59:14.726Z"
   },
   {
    "duration": 18,
    "start_time": "2023-09-09T21:01:53.023Z"
   },
   {
    "duration": 16,
    "start_time": "2023-09-09T21:02:23.493Z"
   },
   {
    "duration": 42236,
    "start_time": "2023-09-09T21:04:08.373Z"
   },
   {
    "duration": 38,
    "start_time": "2023-09-09T21:08:47.846Z"
   },
   {
    "duration": 70,
    "start_time": "2023-09-09T21:12:51.961Z"
   },
   {
    "duration": 158,
    "start_time": "2023-09-09T21:14:01.024Z"
   },
   {
    "duration": 154,
    "start_time": "2023-09-09T21:15:27.385Z"
   },
   {
    "duration": 190,
    "start_time": "2023-09-09T21:16:21.051Z"
   },
   {
    "duration": 165,
    "start_time": "2023-09-09T21:18:15.312Z"
   },
   {
    "duration": 195,
    "start_time": "2023-09-09T21:18:22.335Z"
   },
   {
    "duration": 244,
    "start_time": "2023-09-09T21:22:42.440Z"
   },
   {
    "duration": 104,
    "start_time": "2023-09-09T21:23:12.075Z"
   },
   {
    "duration": 287,
    "start_time": "2023-09-09T21:23:47.987Z"
   },
   {
    "duration": 386,
    "start_time": "2023-09-09T21:24:12.849Z"
   },
   {
    "duration": 287,
    "start_time": "2023-09-09T21:24:37.740Z"
   },
   {
    "duration": 329,
    "start_time": "2023-09-09T21:24:56.657Z"
   },
   {
    "duration": 336,
    "start_time": "2023-09-09T21:25:13.594Z"
   },
   {
    "duration": 403,
    "start_time": "2023-09-09T21:25:22.523Z"
   },
   {
    "duration": 362,
    "start_time": "2023-09-09T21:25:52.938Z"
   },
   {
    "duration": 387,
    "start_time": "2023-09-09T21:26:03.556Z"
   },
   {
    "duration": 368,
    "start_time": "2023-09-09T21:26:08.835Z"
   },
   {
    "duration": 533,
    "start_time": "2023-09-09T21:26:36.513Z"
   },
   {
    "duration": 523,
    "start_time": "2023-09-09T21:27:07.874Z"
   },
   {
    "duration": 477,
    "start_time": "2023-09-09T21:27:59.751Z"
   },
   {
    "duration": 21,
    "start_time": "2023-09-09T21:30:57.257Z"
   },
   {
    "duration": 343,
    "start_time": "2023-09-09T21:31:19.152Z"
   },
   {
    "duration": 333,
    "start_time": "2023-09-09T21:31:34.190Z"
   },
   {
    "duration": 367,
    "start_time": "2023-09-09T21:31:40.084Z"
   },
   {
    "duration": 764,
    "start_time": "2023-09-09T21:31:40.453Z"
   },
   {
    "duration": 3,
    "start_time": "2023-09-09T21:31:41.218Z"
   },
   {
    "duration": 37,
    "start_time": "2023-09-09T21:31:41.223Z"
   },
   {
    "duration": 9,
    "start_time": "2023-09-09T21:31:41.262Z"
   },
   {
    "duration": 6,
    "start_time": "2023-09-09T21:31:41.273Z"
   },
   {
    "duration": 7,
    "start_time": "2023-09-09T21:31:41.280Z"
   },
   {
    "duration": 470,
    "start_time": "2023-09-09T21:31:41.288Z"
   },
   {
    "duration": 61,
    "start_time": "2023-09-09T21:31:41.759Z"
   },
   {
    "duration": 3291,
    "start_time": "2023-09-09T21:31:41.823Z"
   },
   {
    "duration": 168,
    "start_time": "2023-09-09T21:31:45.115Z"
   },
   {
    "duration": 23,
    "start_time": "2023-09-09T21:31:45.284Z"
   },
   {
    "duration": 7,
    "start_time": "2023-09-09T21:31:45.309Z"
   },
   {
    "duration": 83,
    "start_time": "2023-09-09T21:31:45.317Z"
   },
   {
    "duration": 23,
    "start_time": "2023-09-09T21:31:45.402Z"
   },
   {
    "duration": 393,
    "start_time": "2023-09-09T21:31:45.427Z"
   },
   {
    "duration": 37,
    "start_time": "2023-09-09T21:31:45.822Z"
   },
   {
    "duration": 11,
    "start_time": "2023-09-09T21:31:45.861Z"
   },
   {
    "duration": 23,
    "start_time": "2023-09-09T21:31:45.873Z"
   },
   {
    "duration": 10,
    "start_time": "2023-09-09T21:31:45.897Z"
   },
   {
    "duration": 6,
    "start_time": "2023-09-09T21:31:45.908Z"
   },
   {
    "duration": 21,
    "start_time": "2023-09-09T21:31:45.915Z"
   },
   {
    "duration": 7,
    "start_time": "2023-09-09T21:31:45.938Z"
   },
   {
    "duration": 32,
    "start_time": "2023-09-09T21:31:45.946Z"
   },
   {
    "duration": 10,
    "start_time": "2023-09-09T21:31:45.980Z"
   },
   {
    "duration": 11,
    "start_time": "2023-09-09T21:31:45.991Z"
   },
   {
    "duration": 3,
    "start_time": "2023-09-09T21:31:46.004Z"
   },
   {
    "duration": 4,
    "start_time": "2023-09-09T21:31:46.011Z"
   },
   {
    "duration": 16,
    "start_time": "2023-09-09T21:31:46.016Z"
   },
   {
    "duration": 5,
    "start_time": "2023-09-09T21:31:46.044Z"
   },
   {
    "duration": 8,
    "start_time": "2023-09-09T21:31:46.051Z"
   },
   {
    "duration": 20,
    "start_time": "2023-09-09T21:31:46.060Z"
   },
   {
    "duration": 28,
    "start_time": "2023-09-09T21:31:46.081Z"
   },
   {
    "duration": 170,
    "start_time": "2023-09-09T21:31:46.111Z"
   },
   {
    "duration": 18,
    "start_time": "2023-09-09T21:31:46.283Z"
   },
   {
    "duration": 64,
    "start_time": "2023-09-09T21:31:46.302Z"
   },
   {
    "duration": 12,
    "start_time": "2023-09-09T21:31:46.367Z"
   },
   {
    "duration": 7,
    "start_time": "2023-09-09T21:31:46.381Z"
   },
   {
    "duration": 27,
    "start_time": "2023-09-09T21:31:46.390Z"
   },
   {
    "duration": 43,
    "start_time": "2023-09-09T21:31:46.419Z"
   },
   {
    "duration": 13,
    "start_time": "2023-09-09T21:31:46.463Z"
   },
   {
    "duration": 17,
    "start_time": "2023-09-09T21:31:46.477Z"
   },
   {
    "duration": 50,
    "start_time": "2023-09-09T21:31:46.495Z"
   },
   {
    "duration": 6,
    "start_time": "2023-09-09T21:31:46.546Z"
   },
   {
    "duration": 15,
    "start_time": "2023-09-09T21:31:46.553Z"
   },
   {
    "duration": 26,
    "start_time": "2023-09-09T21:31:46.569Z"
   },
   {
    "duration": 4,
    "start_time": "2023-09-09T21:31:46.597Z"
   },
   {
    "duration": 125,
    "start_time": "2023-09-09T21:31:46.602Z"
   },
   {
    "duration": 326,
    "start_time": "2023-09-09T21:31:46.729Z"
   },
   {
    "duration": 123,
    "start_time": "2023-09-09T21:31:47.056Z"
   },
   {
    "duration": 18,
    "start_time": "2023-09-09T21:31:47.180Z"
   },
   {
    "duration": 45,
    "start_time": "2023-09-09T21:31:47.200Z"
   },
   {
    "duration": 14,
    "start_time": "2023-09-09T21:31:47.247Z"
   },
   {
    "duration": 10,
    "start_time": "2023-09-09T21:31:47.262Z"
   },
   {
    "duration": 31,
    "start_time": "2023-09-09T21:31:47.273Z"
   },
   {
    "duration": 40,
    "start_time": "2023-09-09T21:31:47.305Z"
   },
   {
    "duration": 23,
    "start_time": "2023-09-09T21:31:47.347Z"
   },
   {
    "duration": 234,
    "start_time": "2023-09-09T21:31:47.371Z"
   },
   {
    "duration": 24,
    "start_time": "2023-09-09T21:31:47.607Z"
   },
   {
    "duration": 191,
    "start_time": "2023-09-09T21:31:47.632Z"
   },
   {
    "duration": 31,
    "start_time": "2023-09-09T21:31:47.824Z"
   },
   {
    "duration": 207,
    "start_time": "2023-09-09T21:31:47.856Z"
   },
   {
    "duration": 18,
    "start_time": "2023-09-09T21:31:48.065Z"
   },
   {
    "duration": 175,
    "start_time": "2023-09-09T21:31:48.084Z"
   },
   {
    "duration": 485,
    "start_time": "2023-09-09T21:31:48.261Z"
   },
   {
    "duration": 325,
    "start_time": "2023-09-09T21:32:06.473Z"
   },
   {
    "duration": 236,
    "start_time": "2023-09-09T21:39:34.358Z"
   },
   {
    "duration": 239,
    "start_time": "2023-09-09T21:40:15.061Z"
   },
   {
    "duration": 200,
    "start_time": "2023-09-09T21:40:30.018Z"
   },
   {
    "duration": 194,
    "start_time": "2023-09-09T21:40:38.528Z"
   },
   {
    "duration": 419,
    "start_time": "2023-09-09T21:44:18.943Z"
   },
   {
    "duration": 559,
    "start_time": "2023-09-09T21:44:52.206Z"
   },
   {
    "duration": 397,
    "start_time": "2023-09-09T21:45:14.793Z"
   },
   {
    "duration": 111,
    "start_time": "2023-09-09T21:45:23.525Z"
   },
   {
    "duration": 109,
    "start_time": "2023-09-09T21:45:29.413Z"
   },
   {
    "duration": 362,
    "start_time": "2023-09-09T21:45:49.040Z"
   },
   {
    "duration": 322,
    "start_time": "2023-09-09T21:48:25.178Z"
   },
   {
    "duration": 338,
    "start_time": "2023-09-09T21:50:01.954Z"
   },
   {
    "duration": 339,
    "start_time": "2023-09-09T21:51:28.953Z"
   },
   {
    "duration": 407,
    "start_time": "2023-09-09T21:51:34.913Z"
   },
   {
    "duration": 725,
    "start_time": "2023-09-09T21:51:35.322Z"
   },
   {
    "duration": 3,
    "start_time": "2023-09-09T21:51:36.048Z"
   },
   {
    "duration": 38,
    "start_time": "2023-09-09T21:51:36.053Z"
   },
   {
    "duration": 9,
    "start_time": "2023-09-09T21:51:36.092Z"
   },
   {
    "duration": 10,
    "start_time": "2023-09-09T21:51:36.102Z"
   },
   {
    "duration": 15,
    "start_time": "2023-09-09T21:51:36.113Z"
   },
   {
    "duration": 486,
    "start_time": "2023-09-09T21:51:36.129Z"
   },
   {
    "duration": 73,
    "start_time": "2023-09-09T21:51:36.617Z"
   },
   {
    "duration": 3026,
    "start_time": "2023-09-09T21:51:36.692Z"
   },
   {
    "duration": 161,
    "start_time": "2023-09-09T21:51:39.719Z"
   },
   {
    "duration": 22,
    "start_time": "2023-09-09T21:51:39.881Z"
   },
   {
    "duration": 6,
    "start_time": "2023-09-09T21:51:39.905Z"
   },
   {
    "duration": 76,
    "start_time": "2023-09-09T21:51:39.912Z"
   },
   {
    "duration": 18,
    "start_time": "2023-09-09T21:51:39.990Z"
   },
   {
    "duration": 359,
    "start_time": "2023-09-09T21:51:40.010Z"
   },
   {
    "duration": 28,
    "start_time": "2023-09-09T21:51:40.371Z"
   },
   {
    "duration": 14,
    "start_time": "2023-09-09T21:51:40.400Z"
   },
   {
    "duration": 9,
    "start_time": "2023-09-09T21:51:40.416Z"
   },
   {
    "duration": 23,
    "start_time": "2023-09-09T21:51:40.426Z"
   },
   {
    "duration": 22,
    "start_time": "2023-09-09T21:51:40.450Z"
   },
   {
    "duration": 5,
    "start_time": "2023-09-09T21:51:40.473Z"
   },
   {
    "duration": 7,
    "start_time": "2023-09-09T21:51:40.480Z"
   },
   {
    "duration": 32,
    "start_time": "2023-09-09T21:51:40.488Z"
   },
   {
    "duration": 11,
    "start_time": "2023-09-09T21:51:40.521Z"
   },
   {
    "duration": 13,
    "start_time": "2023-09-09T21:51:40.534Z"
   },
   {
    "duration": 4,
    "start_time": "2023-09-09T21:51:40.548Z"
   },
   {
    "duration": 7,
    "start_time": "2023-09-09T21:51:40.555Z"
   },
   {
    "duration": 5,
    "start_time": "2023-09-09T21:51:40.563Z"
   },
   {
    "duration": 8,
    "start_time": "2023-09-09T21:51:40.569Z"
   },
   {
    "duration": 7,
    "start_time": "2023-09-09T21:51:40.579Z"
   },
   {
    "duration": 9,
    "start_time": "2023-09-09T21:51:40.588Z"
   },
   {
    "duration": 57,
    "start_time": "2023-09-09T21:51:40.598Z"
   },
   {
    "duration": 154,
    "start_time": "2023-09-09T21:51:40.656Z"
   },
   {
    "duration": 18,
    "start_time": "2023-09-09T21:51:40.812Z"
   },
   {
    "duration": 65,
    "start_time": "2023-09-09T21:51:40.832Z"
   },
   {
    "duration": 14,
    "start_time": "2023-09-09T21:51:40.898Z"
   },
   {
    "duration": 30,
    "start_time": "2023-09-09T21:51:40.914Z"
   },
   {
    "duration": 21,
    "start_time": "2023-09-09T21:51:40.946Z"
   },
   {
    "duration": 21,
    "start_time": "2023-09-09T21:51:40.968Z"
   },
   {
    "duration": 11,
    "start_time": "2023-09-09T21:51:40.991Z"
   },
   {
    "duration": 13,
    "start_time": "2023-09-09T21:51:41.003Z"
   },
   {
    "duration": 53,
    "start_time": "2023-09-09T21:51:41.017Z"
   },
   {
    "duration": 6,
    "start_time": "2023-09-09T21:51:41.073Z"
   },
   {
    "duration": 11,
    "start_time": "2023-09-09T21:51:41.081Z"
   },
   {
    "duration": 24,
    "start_time": "2023-09-09T21:51:41.094Z"
   },
   {
    "duration": 26,
    "start_time": "2023-09-09T21:51:41.119Z"
   },
   {
    "duration": 110,
    "start_time": "2023-09-09T21:51:41.146Z"
   },
   {
    "duration": 311,
    "start_time": "2023-09-09T21:51:41.257Z"
   },
   {
    "duration": 129,
    "start_time": "2023-09-09T21:51:41.570Z"
   },
   {
    "duration": 16,
    "start_time": "2023-09-09T21:51:41.701Z"
   },
   {
    "duration": 33,
    "start_time": "2023-09-09T21:51:41.718Z"
   },
   {
    "duration": 13,
    "start_time": "2023-09-09T21:51:41.752Z"
   },
   {
    "duration": 10,
    "start_time": "2023-09-09T21:51:41.767Z"
   },
   {
    "duration": 28,
    "start_time": "2023-09-09T21:51:41.779Z"
   },
   {
    "duration": 7,
    "start_time": "2023-09-09T21:51:41.808Z"
   },
   {
    "duration": 56,
    "start_time": "2023-09-09T21:51:41.816Z"
   },
   {
    "duration": 208,
    "start_time": "2023-09-09T21:51:41.874Z"
   },
   {
    "duration": 19,
    "start_time": "2023-09-09T21:51:42.084Z"
   },
   {
    "duration": 164,
    "start_time": "2023-09-09T21:51:42.104Z"
   },
   {
    "duration": 19,
    "start_time": "2023-09-09T21:51:42.269Z"
   },
   {
    "duration": 189,
    "start_time": "2023-09-09T21:51:42.289Z"
   },
   {
    "duration": 16,
    "start_time": "2023-09-09T21:51:42.479Z"
   },
   {
    "duration": 152,
    "start_time": "2023-09-09T21:51:42.496Z"
   },
   {
    "duration": 453,
    "start_time": "2023-09-09T21:51:42.650Z"
   },
   {
    "duration": 0,
    "start_time": "2023-09-09T21:51:43.104Z"
   },
   {
    "duration": 0,
    "start_time": "2023-09-09T21:51:43.105Z"
   },
   {
    "duration": 0,
    "start_time": "2023-09-09T21:51:43.106Z"
   },
   {
    "duration": 463,
    "start_time": "2023-09-09T21:52:06.203Z"
   },
   {
    "duration": 394,
    "start_time": "2023-09-09T21:53:09.170Z"
   },
   {
    "duration": 752,
    "start_time": "2023-09-09T21:53:09.566Z"
   },
   {
    "duration": 3,
    "start_time": "2023-09-09T21:53:10.319Z"
   },
   {
    "duration": 54,
    "start_time": "2023-09-09T21:53:10.323Z"
   },
   {
    "duration": 8,
    "start_time": "2023-09-09T21:53:10.379Z"
   },
   {
    "duration": 12,
    "start_time": "2023-09-09T21:53:10.388Z"
   },
   {
    "duration": 15,
    "start_time": "2023-09-09T21:53:10.401Z"
   },
   {
    "duration": 507,
    "start_time": "2023-09-09T21:53:10.418Z"
   },
   {
    "duration": 75,
    "start_time": "2023-09-09T21:53:10.927Z"
   },
   {
    "duration": 3532,
    "start_time": "2023-09-09T21:53:11.004Z"
   },
   {
    "duration": 176,
    "start_time": "2023-09-09T21:53:14.538Z"
   },
   {
    "duration": 31,
    "start_time": "2023-09-09T21:53:14.715Z"
   },
   {
    "duration": 10,
    "start_time": "2023-09-09T21:53:14.749Z"
   },
   {
    "duration": 72,
    "start_time": "2023-09-09T21:53:14.760Z"
   },
   {
    "duration": 24,
    "start_time": "2023-09-09T21:53:14.834Z"
   },
   {
    "duration": 378,
    "start_time": "2023-09-09T21:53:14.860Z"
   },
   {
    "duration": 34,
    "start_time": "2023-09-09T21:53:15.240Z"
   },
   {
    "duration": 12,
    "start_time": "2023-09-09T21:53:15.276Z"
   },
   {
    "duration": 9,
    "start_time": "2023-09-09T21:53:15.290Z"
   },
   {
    "duration": 6,
    "start_time": "2023-09-09T21:53:15.301Z"
   },
   {
    "duration": 4,
    "start_time": "2023-09-09T21:53:15.309Z"
   },
   {
    "duration": 29,
    "start_time": "2023-09-09T21:53:15.315Z"
   },
   {
    "duration": 9,
    "start_time": "2023-09-09T21:53:15.347Z"
   },
   {
    "duration": 30,
    "start_time": "2023-09-09T21:53:15.359Z"
   },
   {
    "duration": 10,
    "start_time": "2023-09-09T21:53:15.391Z"
   },
   {
    "duration": 16,
    "start_time": "2023-09-09T21:53:15.403Z"
   },
   {
    "duration": 5,
    "start_time": "2023-09-09T21:53:15.421Z"
   },
   {
    "duration": 15,
    "start_time": "2023-09-09T21:53:15.429Z"
   },
   {
    "duration": 5,
    "start_time": "2023-09-09T21:53:15.447Z"
   },
   {
    "duration": 13,
    "start_time": "2023-09-09T21:53:15.455Z"
   },
   {
    "duration": 12,
    "start_time": "2023-09-09T21:53:15.470Z"
   },
   {
    "duration": 9,
    "start_time": "2023-09-09T21:53:15.483Z"
   },
   {
    "duration": 23,
    "start_time": "2023-09-09T21:53:15.493Z"
   },
   {
    "duration": 181,
    "start_time": "2023-09-09T21:53:15.518Z"
   },
   {
    "duration": 17,
    "start_time": "2023-09-09T21:53:15.700Z"
   },
   {
    "duration": 73,
    "start_time": "2023-09-09T21:53:15.719Z"
   },
   {
    "duration": 12,
    "start_time": "2023-09-09T21:53:15.794Z"
   },
   {
    "duration": 7,
    "start_time": "2023-09-09T21:53:15.808Z"
   },
   {
    "duration": 42,
    "start_time": "2023-09-09T21:53:15.817Z"
   },
   {
    "duration": 22,
    "start_time": "2023-09-09T21:53:15.861Z"
   },
   {
    "duration": 10,
    "start_time": "2023-09-09T21:53:15.885Z"
   },
   {
    "duration": 16,
    "start_time": "2023-09-09T21:53:15.897Z"
   },
   {
    "duration": 45,
    "start_time": "2023-09-09T21:53:15.914Z"
   },
   {
    "duration": 5,
    "start_time": "2023-09-09T21:53:15.961Z"
   },
   {
    "duration": 11,
    "start_time": "2023-09-09T21:53:15.968Z"
   },
   {
    "duration": 29,
    "start_time": "2023-09-09T21:53:15.981Z"
   },
   {
    "duration": 4,
    "start_time": "2023-09-09T21:53:16.011Z"
   },
   {
    "duration": 122,
    "start_time": "2023-09-09T21:53:16.017Z"
   },
   {
    "duration": 361,
    "start_time": "2023-09-09T21:53:16.140Z"
   },
   {
    "duration": 129,
    "start_time": "2023-09-09T21:53:16.502Z"
   },
   {
    "duration": 28,
    "start_time": "2023-09-09T21:53:16.633Z"
   },
   {
    "duration": 21,
    "start_time": "2023-09-09T21:53:16.662Z"
   },
   {
    "duration": 19,
    "start_time": "2023-09-09T21:53:16.685Z"
   },
   {
    "duration": 12,
    "start_time": "2023-09-09T21:53:16.706Z"
   },
   {
    "duration": 59,
    "start_time": "2023-09-09T21:53:16.719Z"
   },
   {
    "duration": 7,
    "start_time": "2023-09-09T21:53:16.779Z"
   },
   {
    "duration": 24,
    "start_time": "2023-09-09T21:53:16.787Z"
   },
   {
    "duration": 222,
    "start_time": "2023-09-09T21:53:16.812Z"
   },
   {
    "duration": 38,
    "start_time": "2023-09-09T21:53:17.036Z"
   },
   {
    "duration": 161,
    "start_time": "2023-09-09T21:53:17.075Z"
   },
   {
    "duration": 30,
    "start_time": "2023-09-09T21:53:17.237Z"
   },
   {
    "duration": 209,
    "start_time": "2023-09-09T21:53:17.269Z"
   },
   {
    "duration": 16,
    "start_time": "2023-09-09T21:53:17.480Z"
   },
   {
    "duration": 163,
    "start_time": "2023-09-09T21:53:17.498Z"
   },
   {
    "duration": 495,
    "start_time": "2023-09-09T21:53:17.663Z"
   },
   {
    "duration": 0,
    "start_time": "2023-09-09T21:53:18.160Z"
   },
   {
    "duration": 0,
    "start_time": "2023-09-09T21:53:18.161Z"
   },
   {
    "duration": 0,
    "start_time": "2023-09-09T21:53:18.163Z"
   },
   {
    "duration": 426,
    "start_time": "2023-09-09T21:56:55.265Z"
   },
   {
    "duration": 627,
    "start_time": "2023-09-09T21:59:17.621Z"
   },
   {
    "duration": 541,
    "start_time": "2023-09-09T21:59:32.747Z"
   },
   {
    "duration": 793,
    "start_time": "2023-09-09T21:59:51.351Z"
   },
   {
    "duration": 758,
    "start_time": "2023-09-09T22:00:06.283Z"
   },
   {
    "duration": 38,
    "start_time": "2023-09-09T22:00:37.187Z"
   },
   {
    "duration": 714,
    "start_time": "2023-09-09T22:01:06.653Z"
   },
   {
    "duration": 959,
    "start_time": "2023-09-09T22:01:18.699Z"
   },
   {
    "duration": 718,
    "start_time": "2023-09-09T22:01:26.268Z"
   },
   {
    "duration": 716,
    "start_time": "2023-09-09T22:01:34.343Z"
   },
   {
    "duration": 833,
    "start_time": "2023-09-09T22:01:39.021Z"
   },
   {
    "duration": 865,
    "start_time": "2023-09-09T22:01:48.853Z"
   },
   {
    "duration": 736,
    "start_time": "2023-09-09T22:01:58.054Z"
   },
   {
    "duration": 114,
    "start_time": "2023-09-09T22:03:25.486Z"
   },
   {
    "duration": 114,
    "start_time": "2023-09-09T22:03:34.021Z"
   },
   {
    "duration": 113,
    "start_time": "2023-09-09T22:03:40.163Z"
   },
   {
    "duration": 122,
    "start_time": "2023-09-09T22:04:03.301Z"
   },
   {
    "duration": 9,
    "start_time": "2023-09-09T22:04:12.062Z"
   },
   {
    "duration": 10,
    "start_time": "2023-09-09T22:04:18.641Z"
   },
   {
    "duration": 116,
    "start_time": "2023-09-09T22:04:24.550Z"
   },
   {
    "duration": 897,
    "start_time": "2023-09-09T22:04:38.821Z"
   },
   {
    "duration": 1066,
    "start_time": "2023-09-09T22:05:53.671Z"
   },
   {
    "duration": 997,
    "start_time": "2023-09-09T22:06:09.617Z"
   },
   {
    "duration": 965,
    "start_time": "2023-09-09T22:06:28.557Z"
   },
   {
    "duration": 1037,
    "start_time": "2023-09-09T22:06:41.946Z"
   },
   {
    "duration": 928,
    "start_time": "2023-09-09T22:07:01.222Z"
   },
   {
    "duration": 1030,
    "start_time": "2023-09-09T22:08:34.654Z"
   },
   {
    "duration": 1049,
    "start_time": "2023-09-09T22:10:46.469Z"
   },
   {
    "duration": 1021,
    "start_time": "2023-09-09T22:11:38.883Z"
   },
   {
    "duration": 1040,
    "start_time": "2023-09-09T22:13:21.661Z"
   },
   {
    "duration": 916,
    "start_time": "2023-09-09T22:13:45.567Z"
   },
   {
    "duration": 948,
    "start_time": "2023-09-09T22:17:30.424Z"
   },
   {
    "duration": 74,
    "start_time": "2023-09-10T07:27:06.099Z"
   },
   {
    "duration": 430,
    "start_time": "2023-09-10T07:27:11.694Z"
   },
   {
    "duration": 932,
    "start_time": "2023-09-10T07:27:12.126Z"
   },
   {
    "duration": 4,
    "start_time": "2023-09-10T07:27:13.060Z"
   },
   {
    "duration": 123,
    "start_time": "2023-09-10T07:27:13.066Z"
   },
   {
    "duration": 10,
    "start_time": "2023-09-10T07:27:13.192Z"
   },
   {
    "duration": 16,
    "start_time": "2023-09-10T07:27:13.204Z"
   },
   {
    "duration": 8,
    "start_time": "2023-09-10T07:27:13.222Z"
   },
   {
    "duration": 775,
    "start_time": "2023-09-10T07:27:13.232Z"
   },
   {
    "duration": 62,
    "start_time": "2023-09-10T07:27:14.009Z"
   },
   {
    "duration": 3259,
    "start_time": "2023-09-10T07:27:14.073Z"
   },
   {
    "duration": 175,
    "start_time": "2023-09-10T07:27:17.334Z"
   },
   {
    "duration": 22,
    "start_time": "2023-09-10T07:27:17.511Z"
   },
   {
    "duration": 19,
    "start_time": "2023-09-10T07:27:17.535Z"
   },
   {
    "duration": 195,
    "start_time": "2023-09-10T07:27:17.558Z"
   },
   {
    "duration": 18,
    "start_time": "2023-09-10T07:27:17.755Z"
   },
   {
    "duration": 440,
    "start_time": "2023-09-10T07:27:17.774Z"
   },
   {
    "duration": 27,
    "start_time": "2023-09-10T07:27:18.215Z"
   },
   {
    "duration": 18,
    "start_time": "2023-09-10T07:27:18.250Z"
   },
   {
    "duration": 12,
    "start_time": "2023-09-10T07:27:18.270Z"
   },
   {
    "duration": 7,
    "start_time": "2023-09-10T07:27:18.284Z"
   },
   {
    "duration": 7,
    "start_time": "2023-09-10T07:27:18.292Z"
   },
   {
    "duration": 5,
    "start_time": "2023-09-10T07:27:18.301Z"
   },
   {
    "duration": 7,
    "start_time": "2023-09-10T07:27:18.307Z"
   },
   {
    "duration": 111,
    "start_time": "2023-09-10T07:27:18.315Z"
   },
   {
    "duration": 18,
    "start_time": "2023-09-10T07:27:18.429Z"
   },
   {
    "duration": 12,
    "start_time": "2023-09-10T07:27:18.448Z"
   },
   {
    "duration": 7,
    "start_time": "2023-09-10T07:27:18.462Z"
   },
   {
    "duration": 16,
    "start_time": "2023-09-10T07:27:18.471Z"
   },
   {
    "duration": 6,
    "start_time": "2023-09-10T07:27:18.489Z"
   },
   {
    "duration": 9,
    "start_time": "2023-09-10T07:27:18.497Z"
   },
   {
    "duration": 42,
    "start_time": "2023-09-10T07:27:18.508Z"
   },
   {
    "duration": 16,
    "start_time": "2023-09-10T07:27:18.552Z"
   },
   {
    "duration": 33,
    "start_time": "2023-09-10T07:27:18.570Z"
   },
   {
    "duration": 176,
    "start_time": "2023-09-10T07:27:18.605Z"
   },
   {
    "duration": 17,
    "start_time": "2023-09-10T07:27:18.783Z"
   },
   {
    "duration": 83,
    "start_time": "2023-09-10T07:27:18.802Z"
   },
   {
    "duration": 16,
    "start_time": "2023-09-10T07:27:18.887Z"
   },
   {
    "duration": 24,
    "start_time": "2023-09-10T07:27:18.905Z"
   },
   {
    "duration": 31,
    "start_time": "2023-09-10T07:27:18.931Z"
   },
   {
    "duration": 24,
    "start_time": "2023-09-10T07:27:18.964Z"
   },
   {
    "duration": 19,
    "start_time": "2023-09-10T07:27:18.994Z"
   },
   {
    "duration": 37,
    "start_time": "2023-09-10T07:27:19.015Z"
   },
   {
    "duration": 60,
    "start_time": "2023-09-10T07:27:19.054Z"
   },
   {
    "duration": 9,
    "start_time": "2023-09-10T07:27:19.116Z"
   },
   {
    "duration": 138,
    "start_time": "2023-09-10T07:27:19.127Z"
   },
   {
    "duration": 79,
    "start_time": "2023-09-10T07:27:19.267Z"
   },
   {
    "duration": 55,
    "start_time": "2023-09-10T07:27:19.347Z"
   },
   {
    "duration": 130,
    "start_time": "2023-09-10T07:27:19.404Z"
   },
   {
    "duration": 335,
    "start_time": "2023-09-10T07:27:19.536Z"
   },
   {
    "duration": 131,
    "start_time": "2023-09-10T07:27:19.872Z"
   },
   {
    "duration": 19,
    "start_time": "2023-09-10T07:27:20.005Z"
   },
   {
    "duration": 50,
    "start_time": "2023-09-10T07:27:20.026Z"
   },
   {
    "duration": 44,
    "start_time": "2023-09-10T07:27:20.078Z"
   },
   {
    "duration": 16,
    "start_time": "2023-09-10T07:27:20.124Z"
   },
   {
    "duration": 46,
    "start_time": "2023-09-10T07:27:20.142Z"
   },
   {
    "duration": 9,
    "start_time": "2023-09-10T07:27:20.190Z"
   },
   {
    "duration": 38,
    "start_time": "2023-09-10T07:27:20.200Z"
   },
   {
    "duration": 204,
    "start_time": "2023-09-10T07:27:20.240Z"
   },
   {
    "duration": 23,
    "start_time": "2023-09-10T07:27:20.449Z"
   },
   {
    "duration": 246,
    "start_time": "2023-09-10T07:27:20.474Z"
   },
   {
    "duration": 19,
    "start_time": "2023-09-10T07:27:20.721Z"
   },
   {
    "duration": 194,
    "start_time": "2023-09-10T07:27:20.750Z"
   },
   {
    "duration": 19,
    "start_time": "2023-09-10T07:27:20.949Z"
   },
   {
    "duration": 155,
    "start_time": "2023-09-10T07:27:20.969Z"
   },
   {
    "duration": 890,
    "start_time": "2023-09-10T07:27:21.126Z"
   },
   {
    "duration": 272,
    "start_time": "2023-09-10T07:27:22.019Z"
   },
   {
    "duration": 241,
    "start_time": "2023-09-10T07:27:22.293Z"
   },
   {
    "duration": 228,
    "start_time": "2023-09-10T07:27:22.536Z"
   },
   {
    "duration": 16,
    "start_time": "2023-09-10T07:28:04.343Z"
   },
   {
    "duration": 179,
    "start_time": "2023-09-10T07:28:20.620Z"
   },
   {
    "duration": 109,
    "start_time": "2023-09-10T07:32:28.614Z"
   },
   {
    "duration": 180,
    "start_time": "2023-09-10T07:33:25.702Z"
   },
   {
    "duration": 178,
    "start_time": "2023-09-10T07:34:13.547Z"
   },
   {
    "duration": 392,
    "start_time": "2023-09-10T07:35:28.896Z"
   },
   {
    "duration": 206,
    "start_time": "2023-09-10T07:35:49.650Z"
   },
   {
    "duration": 212,
    "start_time": "2023-09-10T07:35:55.703Z"
   },
   {
    "duration": 242,
    "start_time": "2023-09-10T07:36:03.252Z"
   },
   {
    "duration": 335,
    "start_time": "2023-09-10T07:36:11.457Z"
   },
   {
    "duration": 73,
    "start_time": "2023-09-10T07:36:50.094Z"
   },
   {
    "duration": 667,
    "start_time": "2023-09-10T07:41:25.375Z"
   },
   {
    "duration": 867,
    "start_time": "2023-09-10T07:41:38.422Z"
   },
   {
    "duration": 119,
    "start_time": "2023-09-10T07:42:29.915Z"
   },
   {
    "duration": 168,
    "start_time": "2023-09-10T07:42:45.121Z"
   },
   {
    "duration": 209,
    "start_time": "2023-09-10T07:57:51.561Z"
   },
   {
    "duration": 344,
    "start_time": "2023-09-10T08:00:26.820Z"
   },
   {
    "duration": 420,
    "start_time": "2023-09-10T08:00:44.046Z"
   },
   {
    "duration": 466,
    "start_time": "2023-09-10T08:00:59.179Z"
   },
   {
    "duration": 465,
    "start_time": "2023-09-10T08:01:22.965Z"
   },
   {
    "duration": 100,
    "start_time": "2023-09-10T08:01:42.964Z"
   },
   {
    "duration": 547,
    "start_time": "2023-09-10T08:01:48.097Z"
   },
   {
    "duration": 533,
    "start_time": "2023-09-10T08:01:54.018Z"
   },
   {
    "duration": 197,
    "start_time": "2023-09-10T08:02:31.694Z"
   },
   {
    "duration": 195,
    "start_time": "2023-09-10T08:03:28.699Z"
   },
   {
    "duration": 213,
    "start_time": "2023-09-10T08:04:59.665Z"
   },
   {
    "duration": 203,
    "start_time": "2023-09-10T08:05:26.834Z"
   },
   {
    "duration": 221,
    "start_time": "2023-09-10T08:06:44.468Z"
   },
   {
    "duration": 403,
    "start_time": "2023-09-10T08:13:02.321Z"
   },
   {
    "duration": 419,
    "start_time": "2023-09-10T08:14:02.195Z"
   },
   {
    "duration": 156,
    "start_time": "2023-09-10T08:14:05.419Z"
   },
   {
    "duration": 860,
    "start_time": "2023-09-10T08:14:06.134Z"
   },
   {
    "duration": 858,
    "start_time": "2023-09-10T08:15:02.046Z"
   },
   {
    "duration": 938,
    "start_time": "2023-09-10T08:15:53.584Z"
   },
   {
    "duration": 866,
    "start_time": "2023-09-10T08:17:37.368Z"
   },
   {
    "duration": 877,
    "start_time": "2023-09-10T08:18:08.550Z"
   },
   {
    "duration": 1081,
    "start_time": "2023-09-10T08:33:38.489Z"
   },
   {
    "duration": 674,
    "start_time": "2023-09-10T08:34:50.338Z"
   },
   {
    "duration": 672,
    "start_time": "2023-09-10T08:35:05.324Z"
   },
   {
    "duration": 764,
    "start_time": "2023-09-10T08:35:22.878Z"
   },
   {
    "duration": 555,
    "start_time": "2023-09-10T08:48:52.545Z"
   },
   {
    "duration": 604,
    "start_time": "2023-09-10T08:49:31.843Z"
   },
   {
    "duration": 614,
    "start_time": "2023-09-10T08:52:18.300Z"
   },
   {
    "duration": 593,
    "start_time": "2023-09-10T08:53:43.653Z"
   },
   {
    "duration": 667,
    "start_time": "2023-09-10T08:55:10.511Z"
   },
   {
    "duration": 685,
    "start_time": "2023-09-10T08:56:35.261Z"
   },
   {
    "duration": 628,
    "start_time": "2023-09-10T08:57:23.898Z"
   },
   {
    "duration": 672,
    "start_time": "2023-09-10T08:57:32.660Z"
   },
   {
    "duration": 11,
    "start_time": "2023-09-10T09:24:28.681Z"
   },
   {
    "duration": 12,
    "start_time": "2023-09-10T09:24:43.771Z"
   },
   {
    "duration": 13,
    "start_time": "2023-09-10T09:26:23.377Z"
   },
   {
    "duration": 15,
    "start_time": "2023-09-10T09:26:52.019Z"
   },
   {
    "duration": 21,
    "start_time": "2023-09-10T09:27:42.706Z"
   },
   {
    "duration": 405,
    "start_time": "2023-09-10T09:31:58.380Z"
   },
   {
    "duration": 753,
    "start_time": "2023-09-10T09:31:58.786Z"
   },
   {
    "duration": 3,
    "start_time": "2023-09-10T09:31:59.540Z"
   },
   {
    "duration": 37,
    "start_time": "2023-09-10T09:31:59.548Z"
   },
   {
    "duration": 8,
    "start_time": "2023-09-10T09:31:59.587Z"
   },
   {
    "duration": 5,
    "start_time": "2023-09-10T09:31:59.597Z"
   },
   {
    "duration": 14,
    "start_time": "2023-09-10T09:31:59.604Z"
   },
   {
    "duration": 498,
    "start_time": "2023-09-10T09:31:59.620Z"
   },
   {
    "duration": 71,
    "start_time": "2023-09-10T09:32:00.119Z"
   },
   {
    "duration": 3462,
    "start_time": "2023-09-10T09:32:00.192Z"
   },
   {
    "duration": 186,
    "start_time": "2023-09-10T09:32:03.656Z"
   },
   {
    "duration": 34,
    "start_time": "2023-09-10T09:32:03.850Z"
   },
   {
    "duration": 29,
    "start_time": "2023-09-10T09:32:03.885Z"
   },
   {
    "duration": 102,
    "start_time": "2023-09-10T09:32:03.916Z"
   },
   {
    "duration": 18,
    "start_time": "2023-09-10T09:32:04.020Z"
   },
   {
    "duration": 359,
    "start_time": "2023-09-10T09:32:04.040Z"
   },
   {
    "duration": 25,
    "start_time": "2023-09-10T09:32:04.400Z"
   },
   {
    "duration": 11,
    "start_time": "2023-09-10T09:32:04.426Z"
   },
   {
    "duration": 13,
    "start_time": "2023-09-10T09:32:04.449Z"
   },
   {
    "duration": 6,
    "start_time": "2023-09-10T09:32:04.464Z"
   },
   {
    "duration": 14,
    "start_time": "2023-09-10T09:32:04.472Z"
   },
   {
    "duration": 5,
    "start_time": "2023-09-10T09:32:04.487Z"
   },
   {
    "duration": 9,
    "start_time": "2023-09-10T09:32:04.493Z"
   },
   {
    "duration": 33,
    "start_time": "2023-09-10T09:32:04.504Z"
   },
   {
    "duration": 16,
    "start_time": "2023-09-10T09:32:04.538Z"
   },
   {
    "duration": 27,
    "start_time": "2023-09-10T09:32:04.556Z"
   },
   {
    "duration": 4,
    "start_time": "2023-09-10T09:32:04.585Z"
   },
   {
    "duration": 4,
    "start_time": "2023-09-10T09:32:04.592Z"
   },
   {
    "duration": 3,
    "start_time": "2023-09-10T09:32:04.598Z"
   },
   {
    "duration": 6,
    "start_time": "2023-09-10T09:32:04.602Z"
   },
   {
    "duration": 7,
    "start_time": "2023-09-10T09:32:04.610Z"
   },
   {
    "duration": 8,
    "start_time": "2023-09-10T09:32:04.619Z"
   },
   {
    "duration": 36,
    "start_time": "2023-09-10T09:32:04.649Z"
   },
   {
    "duration": 159,
    "start_time": "2023-09-10T09:32:04.686Z"
   },
   {
    "duration": 19,
    "start_time": "2023-09-10T09:32:04.847Z"
   },
   {
    "duration": 52,
    "start_time": "2023-09-10T09:32:04.868Z"
   },
   {
    "duration": 36,
    "start_time": "2023-09-10T09:32:04.922Z"
   },
   {
    "duration": 10,
    "start_time": "2023-09-10T09:32:04.961Z"
   },
   {
    "duration": 36,
    "start_time": "2023-09-10T09:32:04.973Z"
   },
   {
    "duration": 21,
    "start_time": "2023-09-10T09:32:05.011Z"
   },
   {
    "duration": 29,
    "start_time": "2023-09-10T09:32:05.034Z"
   },
   {
    "duration": 23,
    "start_time": "2023-09-10T09:32:05.065Z"
   },
   {
    "duration": 49,
    "start_time": "2023-09-10T09:32:05.090Z"
   },
   {
    "duration": 5,
    "start_time": "2023-09-10T09:32:05.141Z"
   },
   {
    "duration": 31,
    "start_time": "2023-09-10T09:32:05.147Z"
   },
   {
    "duration": 57,
    "start_time": "2023-09-10T09:32:05.180Z"
   },
   {
    "duration": 13,
    "start_time": "2023-09-10T09:32:05.239Z"
   },
   {
    "duration": 142,
    "start_time": "2023-09-10T09:32:05.254Z"
   },
   {
    "duration": 328,
    "start_time": "2023-09-10T09:32:05.398Z"
   },
   {
    "duration": 131,
    "start_time": "2023-09-10T09:32:05.727Z"
   },
   {
    "duration": 21,
    "start_time": "2023-09-10T09:32:05.859Z"
   },
   {
    "duration": 51,
    "start_time": "2023-09-10T09:32:05.882Z"
   },
   {
    "duration": 31,
    "start_time": "2023-09-10T09:32:05.935Z"
   },
   {
    "duration": 20,
    "start_time": "2023-09-10T09:32:05.968Z"
   },
   {
    "duration": 24,
    "start_time": "2023-09-10T09:32:05.990Z"
   },
   {
    "duration": 40,
    "start_time": "2023-09-10T09:32:06.016Z"
   },
   {
    "duration": 10,
    "start_time": "2023-09-10T09:32:06.058Z"
   },
   {
    "duration": 40,
    "start_time": "2023-09-10T09:32:06.076Z"
   },
   {
    "duration": 226,
    "start_time": "2023-09-10T09:32:06.118Z"
   },
   {
    "duration": 231,
    "start_time": "2023-09-10T09:32:06.345Z"
   },
   {
    "duration": 224,
    "start_time": "2023-09-10T09:32:06.577Z"
   },
   {
    "duration": 264,
    "start_time": "2023-09-10T09:32:06.803Z"
   },
   {
    "duration": 47,
    "start_time": "2023-09-10T09:32:07.069Z"
   },
   {
    "duration": 855,
    "start_time": "2023-09-10T09:32:07.117Z"
   },
   {
    "duration": 627,
    "start_time": "2023-09-10T09:32:07.975Z"
   },
   {
    "duration": 15,
    "start_time": "2023-09-10T09:32:08.603Z"
   },
   {
    "duration": 17,
    "start_time": "2023-09-10T09:35:00.569Z"
   },
   {
    "duration": 15,
    "start_time": "2023-09-10T09:35:47.775Z"
   },
   {
    "duration": 88,
    "start_time": "2023-09-10T09:45:39.188Z"
   },
   {
    "duration": 94,
    "start_time": "2023-09-10T09:45:54.620Z"
   },
   {
    "duration": 93,
    "start_time": "2023-09-10T09:46:15.421Z"
   },
   {
    "duration": 21,
    "start_time": "2023-09-10T09:47:48.885Z"
   },
   {
    "duration": 3,
    "start_time": "2023-09-10T09:57:47.548Z"
   },
   {
    "duration": 21,
    "start_time": "2023-09-10T09:57:56.508Z"
   },
   {
    "duration": 1318,
    "start_time": "2023-09-10T10:03:17.608Z"
   },
   {
    "duration": 26,
    "start_time": "2023-09-10T10:03:43.144Z"
   },
   {
    "duration": 29,
    "start_time": "2023-09-10T10:04:22.061Z"
   },
   {
    "duration": 24,
    "start_time": "2023-09-10T10:05:22.911Z"
   },
   {
    "duration": 23,
    "start_time": "2023-09-10T10:05:49.973Z"
   },
   {
    "duration": 26,
    "start_time": "2023-09-10T10:06:43.080Z"
   },
   {
    "duration": 28,
    "start_time": "2023-09-10T10:07:27.264Z"
   },
   {
    "duration": 33,
    "start_time": "2023-09-10T10:16:03.740Z"
   },
   {
    "duration": 105,
    "start_time": "2023-09-10T10:33:08.971Z"
   },
   {
    "duration": 381,
    "start_time": "2023-09-10T10:33:41.670Z"
   },
   {
    "duration": 685,
    "start_time": "2023-09-10T10:33:42.053Z"
   },
   {
    "duration": 3,
    "start_time": "2023-09-10T10:33:42.739Z"
   },
   {
    "duration": 44,
    "start_time": "2023-09-10T10:33:42.749Z"
   },
   {
    "duration": 10,
    "start_time": "2023-09-10T10:33:42.795Z"
   },
   {
    "duration": 7,
    "start_time": "2023-09-10T10:33:42.807Z"
   },
   {
    "duration": 13,
    "start_time": "2023-09-10T10:33:42.816Z"
   },
   {
    "duration": 468,
    "start_time": "2023-09-10T10:33:42.830Z"
   },
   {
    "duration": 66,
    "start_time": "2023-09-10T10:33:43.300Z"
   },
   {
    "duration": 3274,
    "start_time": "2023-09-10T10:33:43.368Z"
   },
   {
    "duration": 162,
    "start_time": "2023-09-10T10:33:46.644Z"
   },
   {
    "duration": 23,
    "start_time": "2023-09-10T10:33:46.808Z"
   },
   {
    "duration": 37,
    "start_time": "2023-09-10T10:33:46.832Z"
   },
   {
    "duration": 100,
    "start_time": "2023-09-10T10:33:46.870Z"
   },
   {
    "duration": 18,
    "start_time": "2023-09-10T10:33:46.971Z"
   },
   {
    "duration": 353,
    "start_time": "2023-09-10T10:33:46.991Z"
   },
   {
    "duration": 27,
    "start_time": "2023-09-10T10:33:47.346Z"
   },
   {
    "duration": 11,
    "start_time": "2023-09-10T10:33:47.374Z"
   },
   {
    "duration": 10,
    "start_time": "2023-09-10T10:33:47.386Z"
   },
   {
    "duration": 20,
    "start_time": "2023-09-10T10:33:47.397Z"
   },
   {
    "duration": 9,
    "start_time": "2023-09-10T10:33:47.418Z"
   },
   {
    "duration": 8,
    "start_time": "2023-09-10T10:33:47.429Z"
   },
   {
    "duration": 14,
    "start_time": "2023-09-10T10:33:47.438Z"
   },
   {
    "duration": 42,
    "start_time": "2023-09-10T10:33:47.454Z"
   },
   {
    "duration": 11,
    "start_time": "2023-09-10T10:33:47.497Z"
   },
   {
    "duration": 10,
    "start_time": "2023-09-10T10:33:47.510Z"
   },
   {
    "duration": 4,
    "start_time": "2023-09-10T10:33:47.521Z"
   },
   {
    "duration": 10,
    "start_time": "2023-09-10T10:33:47.528Z"
   },
   {
    "duration": 5,
    "start_time": "2023-09-10T10:33:47.540Z"
   },
   {
    "duration": 5,
    "start_time": "2023-09-10T10:33:47.549Z"
   },
   {
    "duration": 126,
    "start_time": "2023-09-10T10:33:47.555Z"
   },
   {
    "duration": 75,
    "start_time": "2023-09-10T10:33:47.683Z"
   },
   {
    "duration": 64,
    "start_time": "2023-09-10T10:33:47.759Z"
   },
   {
    "duration": 163,
    "start_time": "2023-09-10T10:33:47.825Z"
   },
   {
    "duration": 17,
    "start_time": "2023-09-10T10:33:47.989Z"
   },
   {
    "duration": 51,
    "start_time": "2023-09-10T10:33:48.007Z"
   },
   {
    "duration": 12,
    "start_time": "2023-09-10T10:33:48.060Z"
   },
   {
    "duration": 8,
    "start_time": "2023-09-10T10:33:48.074Z"
   },
   {
    "duration": 20,
    "start_time": "2023-09-10T10:33:48.084Z"
   },
   {
    "duration": 46,
    "start_time": "2023-09-10T10:33:48.105Z"
   },
   {
    "duration": 11,
    "start_time": "2023-09-10T10:33:48.152Z"
   },
   {
    "duration": 18,
    "start_time": "2023-09-10T10:33:48.164Z"
   },
   {
    "duration": 24,
    "start_time": "2023-09-10T10:33:48.184Z"
   },
   {
    "duration": 5,
    "start_time": "2023-09-10T10:33:48.209Z"
   },
   {
    "duration": 13,
    "start_time": "2023-09-10T10:33:48.215Z"
   },
   {
    "duration": 44,
    "start_time": "2023-09-10T10:33:48.229Z"
   },
   {
    "duration": 4,
    "start_time": "2023-09-10T10:33:48.275Z"
   },
   {
    "duration": 116,
    "start_time": "2023-09-10T10:33:48.280Z"
   },
   {
    "duration": 321,
    "start_time": "2023-09-10T10:33:48.397Z"
   },
   {
    "duration": 111,
    "start_time": "2023-09-10T10:33:48.720Z"
   },
   {
    "duration": 24,
    "start_time": "2023-09-10T10:33:48.833Z"
   },
   {
    "duration": 24,
    "start_time": "2023-09-10T10:33:48.859Z"
   },
   {
    "duration": 13,
    "start_time": "2023-09-10T10:33:48.885Z"
   },
   {
    "duration": 8,
    "start_time": "2023-09-10T10:33:48.900Z"
   },
   {
    "duration": 61,
    "start_time": "2023-09-10T10:33:48.910Z"
   },
   {
    "duration": 8,
    "start_time": "2023-09-10T10:33:48.972Z"
   },
   {
    "duration": 24,
    "start_time": "2023-09-10T10:33:48.981Z"
   },
   {
    "duration": 217,
    "start_time": "2023-09-10T10:33:49.006Z"
   },
   {
    "duration": 167,
    "start_time": "2023-09-10T10:33:49.225Z"
   },
   {
    "duration": 203,
    "start_time": "2023-09-10T10:33:49.394Z"
   },
   {
    "duration": 240,
    "start_time": "2023-09-10T10:33:49.598Z"
   },
   {
    "duration": 46,
    "start_time": "2023-09-10T10:33:49.839Z"
   },
   {
    "duration": 874,
    "start_time": "2023-09-10T10:33:49.886Z"
   },
   {
    "duration": 570,
    "start_time": "2023-09-10T10:33:50.762Z"
   },
   {
    "duration": 31,
    "start_time": "2023-09-10T10:33:51.333Z"
   },
   {
    "duration": 187,
    "start_time": "2023-09-10T10:33:51.366Z"
   },
   {
    "duration": 386,
    "start_time": "2023-09-10T10:34:19.820Z"
   },
   {
    "duration": 63,
    "start_time": "2023-09-10T10:40:07.480Z"
   },
   {
    "duration": 20,
    "start_time": "2023-09-10T10:44:11.888Z"
   },
   {
    "duration": 45,
    "start_time": "2023-09-10T10:44:18.652Z"
   },
   {
    "duration": 51,
    "start_time": "2023-09-10T10:44:47.160Z"
   },
   {
    "duration": 51,
    "start_time": "2023-09-10T10:44:53.965Z"
   },
   {
    "duration": 45,
    "start_time": "2023-09-10T10:45:09.949Z"
   },
   {
    "duration": 19,
    "start_time": "2023-09-10T10:45:43.772Z"
   },
   {
    "duration": 19,
    "start_time": "2023-09-10T10:49:53.726Z"
   },
   {
    "duration": 20,
    "start_time": "2023-09-10T10:51:06.661Z"
   },
   {
    "duration": 44,
    "start_time": "2023-09-10T10:51:26.813Z"
   },
   {
    "duration": 20,
    "start_time": "2023-09-10T10:52:54.033Z"
   },
   {
    "duration": 42,
    "start_time": "2023-09-10T10:53:05.764Z"
   },
   {
    "duration": 43,
    "start_time": "2023-09-10T10:54:36.381Z"
   },
   {
    "duration": 20,
    "start_time": "2023-09-10T10:55:33.742Z"
   },
   {
    "duration": 42,
    "start_time": "2023-09-10T10:55:46.116Z"
   },
   {
    "duration": 26,
    "start_time": "2023-09-10T10:57:44.752Z"
   },
   {
    "duration": 44,
    "start_time": "2023-09-10T11:02:40.335Z"
   },
   {
    "duration": 57,
    "start_time": "2023-09-10T11:03:17.751Z"
   },
   {
    "duration": 51,
    "start_time": "2023-09-10T11:03:51.732Z"
   },
   {
    "duration": 54,
    "start_time": "2023-09-10T11:04:44.199Z"
   },
   {
    "duration": 27,
    "start_time": "2023-09-10T11:07:14.933Z"
   },
   {
    "duration": 25,
    "start_time": "2023-09-10T11:10:02.166Z"
   },
   {
    "duration": 21,
    "start_time": "2023-09-10T11:10:43.815Z"
   },
   {
    "duration": 358,
    "start_time": "2023-09-10T11:14:10.404Z"
   },
   {
    "duration": 925,
    "start_time": "2023-09-10T11:14:10.764Z"
   },
   {
    "duration": 3,
    "start_time": "2023-09-10T11:14:11.690Z"
   },
   {
    "duration": 41,
    "start_time": "2023-09-10T11:14:11.696Z"
   },
   {
    "duration": 9,
    "start_time": "2023-09-10T11:14:11.739Z"
   },
   {
    "duration": 13,
    "start_time": "2023-09-10T11:14:11.750Z"
   },
   {
    "duration": 8,
    "start_time": "2023-09-10T11:14:11.764Z"
   },
   {
    "duration": 478,
    "start_time": "2023-09-10T11:14:11.774Z"
   },
   {
    "duration": 59,
    "start_time": "2023-09-10T11:14:12.253Z"
   },
   {
    "duration": 3147,
    "start_time": "2023-09-10T11:14:12.315Z"
   },
   {
    "duration": 158,
    "start_time": "2023-09-10T11:14:15.464Z"
   },
   {
    "duration": 27,
    "start_time": "2023-09-10T11:14:15.623Z"
   },
   {
    "duration": 7,
    "start_time": "2023-09-10T11:14:15.651Z"
   },
   {
    "duration": 77,
    "start_time": "2023-09-10T11:14:15.660Z"
   },
   {
    "duration": 18,
    "start_time": "2023-09-10T11:14:15.739Z"
   },
   {
    "duration": 357,
    "start_time": "2023-09-10T11:14:15.758Z"
   },
   {
    "duration": 32,
    "start_time": "2023-09-10T11:14:16.117Z"
   },
   {
    "duration": 11,
    "start_time": "2023-09-10T11:14:16.151Z"
   },
   {
    "duration": 9,
    "start_time": "2023-09-10T11:14:16.163Z"
   },
   {
    "duration": 7,
    "start_time": "2023-09-10T11:14:16.173Z"
   },
   {
    "duration": 6,
    "start_time": "2023-09-10T11:14:16.181Z"
   },
   {
    "duration": 5,
    "start_time": "2023-09-10T11:14:16.188Z"
   },
   {
    "duration": 3,
    "start_time": "2023-09-10T11:14:16.194Z"
   },
   {
    "duration": 52,
    "start_time": "2023-09-10T11:14:16.199Z"
   },
   {
    "duration": 10,
    "start_time": "2023-09-10T11:14:16.252Z"
   },
   {
    "duration": 12,
    "start_time": "2023-09-10T11:14:16.264Z"
   },
   {
    "duration": 5,
    "start_time": "2023-09-10T11:14:16.278Z"
   },
   {
    "duration": 9,
    "start_time": "2023-09-10T11:14:16.286Z"
   },
   {
    "duration": 9,
    "start_time": "2023-09-10T11:14:16.297Z"
   },
   {
    "duration": 6,
    "start_time": "2023-09-10T11:14:16.308Z"
   },
   {
    "duration": 36,
    "start_time": "2023-09-10T11:14:16.316Z"
   },
   {
    "duration": 11,
    "start_time": "2023-09-10T11:14:16.354Z"
   },
   {
    "duration": 28,
    "start_time": "2023-09-10T11:14:16.366Z"
   },
   {
    "duration": 169,
    "start_time": "2023-09-10T11:14:16.395Z"
   },
   {
    "duration": 16,
    "start_time": "2023-09-10T11:14:16.566Z"
   },
   {
    "duration": 45,
    "start_time": "2023-09-10T11:14:16.584Z"
   },
   {
    "duration": 30,
    "start_time": "2023-09-10T11:14:16.630Z"
   },
   {
    "duration": 8,
    "start_time": "2023-09-10T11:14:16.661Z"
   },
   {
    "duration": 20,
    "start_time": "2023-09-10T11:14:16.670Z"
   },
   {
    "duration": 21,
    "start_time": "2023-09-10T11:14:16.691Z"
   },
   {
    "duration": 11,
    "start_time": "2023-09-10T11:14:16.713Z"
   },
   {
    "duration": 10,
    "start_time": "2023-09-10T11:14:16.750Z"
   },
   {
    "duration": 25,
    "start_time": "2023-09-10T11:14:16.762Z"
   },
   {
    "duration": 5,
    "start_time": "2023-09-10T11:14:16.788Z"
   },
   {
    "duration": 13,
    "start_time": "2023-09-10T11:14:16.794Z"
   },
   {
    "duration": 58,
    "start_time": "2023-09-10T11:14:16.808Z"
   },
   {
    "duration": 4,
    "start_time": "2023-09-10T11:14:16.867Z"
   },
   {
    "duration": 110,
    "start_time": "2023-09-10T11:14:16.873Z"
   },
   {
    "duration": 327,
    "start_time": "2023-09-10T11:14:16.984Z"
   },
   {
    "duration": 114,
    "start_time": "2023-09-10T11:14:17.312Z"
   },
   {
    "duration": 23,
    "start_time": "2023-09-10T11:14:17.428Z"
   },
   {
    "duration": 34,
    "start_time": "2023-09-10T11:14:17.453Z"
   },
   {
    "duration": 13,
    "start_time": "2023-09-10T11:14:17.489Z"
   },
   {
    "duration": 13,
    "start_time": "2023-09-10T11:14:17.503Z"
   },
   {
    "duration": 39,
    "start_time": "2023-09-10T11:14:17.518Z"
   },
   {
    "duration": 8,
    "start_time": "2023-09-10T11:14:17.559Z"
   },
   {
    "duration": 24,
    "start_time": "2023-09-10T11:14:17.568Z"
   },
   {
    "duration": 263,
    "start_time": "2023-09-10T11:14:17.594Z"
   },
   {
    "duration": 191,
    "start_time": "2023-09-10T11:14:17.859Z"
   },
   {
    "duration": 267,
    "start_time": "2023-09-10T11:14:18.051Z"
   },
   {
    "duration": 181,
    "start_time": "2023-09-10T11:14:18.319Z"
   },
   {
    "duration": 49,
    "start_time": "2023-09-10T11:14:18.501Z"
   },
   {
    "duration": 789,
    "start_time": "2023-09-10T11:14:18.551Z"
   },
   {
    "duration": 602,
    "start_time": "2023-09-10T11:14:19.342Z"
   },
   {
    "duration": 33,
    "start_time": "2023-09-10T11:14:19.946Z"
   },
   {
    "duration": 355,
    "start_time": "2023-09-10T11:14:19.980Z"
   },
   {
    "duration": 198,
    "start_time": "2023-09-10T11:14:20.337Z"
   },
   {
    "duration": 21,
    "start_time": "2023-09-10T11:20:27.130Z"
   },
   {
    "duration": 7,
    "start_time": "2023-09-10T11:45:59.099Z"
   },
   {
    "duration": 7,
    "start_time": "2023-09-10T11:47:50.711Z"
   },
   {
    "duration": 7,
    "start_time": "2023-09-10T11:48:30.479Z"
   },
   {
    "duration": 6,
    "start_time": "2023-09-10T11:48:35.717Z"
   },
   {
    "duration": 19,
    "start_time": "2023-09-10T12:00:04.976Z"
   },
   {
    "duration": 20,
    "start_time": "2023-09-10T12:00:38.344Z"
   },
   {
    "duration": 34,
    "start_time": "2023-09-10T12:01:04.752Z"
   },
   {
    "duration": 9,
    "start_time": "2023-09-10T12:09:03.444Z"
   },
   {
    "duration": 80,
    "start_time": "2023-09-10T12:09:04.871Z"
   },
   {
    "duration": 6,
    "start_time": "2023-09-10T12:10:11.233Z"
   },
   {
    "duration": 49,
    "start_time": "2023-09-10T12:11:05.658Z"
   },
   {
    "duration": 6,
    "start_time": "2023-09-10T12:11:30.848Z"
   },
   {
    "duration": 49,
    "start_time": "2023-09-10T12:11:31.604Z"
   },
   {
    "duration": 5,
    "start_time": "2023-09-10T12:18:39.172Z"
   },
   {
    "duration": 49,
    "start_time": "2023-09-10T12:18:39.729Z"
   },
   {
    "duration": 6,
    "start_time": "2023-09-10T12:20:07.731Z"
   },
   {
    "duration": 49,
    "start_time": "2023-09-10T12:20:10.674Z"
   },
   {
    "duration": 395,
    "start_time": "2023-09-10T12:21:38.173Z"
   },
   {
    "duration": 751,
    "start_time": "2023-09-10T12:21:38.569Z"
   },
   {
    "duration": 3,
    "start_time": "2023-09-10T12:21:39.321Z"
   },
   {
    "duration": 39,
    "start_time": "2023-09-10T12:21:39.325Z"
   },
   {
    "duration": 8,
    "start_time": "2023-09-10T12:21:39.366Z"
   },
   {
    "duration": 7,
    "start_time": "2023-09-10T12:21:39.376Z"
   },
   {
    "duration": 6,
    "start_time": "2023-09-10T12:21:39.385Z"
   },
   {
    "duration": 475,
    "start_time": "2023-09-10T12:21:39.392Z"
   },
   {
    "duration": 60,
    "start_time": "2023-09-10T12:21:39.869Z"
   },
   {
    "duration": 3117,
    "start_time": "2023-09-10T12:21:39.931Z"
   },
   {
    "duration": 159,
    "start_time": "2023-09-10T12:21:43.050Z"
   },
   {
    "duration": 23,
    "start_time": "2023-09-10T12:21:43.211Z"
   },
   {
    "duration": 17,
    "start_time": "2023-09-10T12:21:43.235Z"
   },
   {
    "duration": 74,
    "start_time": "2023-09-10T12:21:43.256Z"
   },
   {
    "duration": 18,
    "start_time": "2023-09-10T12:21:43.331Z"
   },
   {
    "duration": 343,
    "start_time": "2023-09-10T12:21:43.350Z"
   },
   {
    "duration": 24,
    "start_time": "2023-09-10T12:21:43.695Z"
   },
   {
    "duration": 11,
    "start_time": "2023-09-10T12:21:43.720Z"
   },
   {
    "duration": 24,
    "start_time": "2023-09-10T12:21:43.732Z"
   },
   {
    "duration": 19,
    "start_time": "2023-09-10T12:21:43.758Z"
   },
   {
    "duration": 15,
    "start_time": "2023-09-10T12:21:43.779Z"
   },
   {
    "duration": 3,
    "start_time": "2023-09-10T12:21:43.796Z"
   },
   {
    "duration": 6,
    "start_time": "2023-09-10T12:21:43.801Z"
   },
   {
    "duration": 33,
    "start_time": "2023-09-10T12:21:43.808Z"
   },
   {
    "duration": 10,
    "start_time": "2023-09-10T12:21:43.842Z"
   },
   {
    "duration": 19,
    "start_time": "2023-09-10T12:21:43.853Z"
   },
   {
    "duration": 9,
    "start_time": "2023-09-10T12:21:43.873Z"
   },
   {
    "duration": 12,
    "start_time": "2023-09-10T12:21:43.883Z"
   },
   {
    "duration": 8,
    "start_time": "2023-09-10T12:21:43.896Z"
   },
   {
    "duration": 9,
    "start_time": "2023-09-10T12:21:43.905Z"
   },
   {
    "duration": 11,
    "start_time": "2023-09-10T12:21:43.916Z"
   },
   {
    "duration": 9,
    "start_time": "2023-09-10T12:21:43.928Z"
   },
   {
    "duration": 59,
    "start_time": "2023-09-10T12:21:43.938Z"
   },
   {
    "duration": 148,
    "start_time": "2023-09-10T12:21:43.998Z"
   },
   {
    "duration": 17,
    "start_time": "2023-09-10T12:21:44.148Z"
   },
   {
    "duration": 46,
    "start_time": "2023-09-10T12:21:44.166Z"
   },
   {
    "duration": 12,
    "start_time": "2023-09-10T12:21:44.214Z"
   },
   {
    "duration": 28,
    "start_time": "2023-09-10T12:21:44.227Z"
   },
   {
    "duration": 24,
    "start_time": "2023-09-10T12:21:44.256Z"
   },
   {
    "duration": 20,
    "start_time": "2023-09-10T12:21:44.282Z"
   },
   {
    "duration": 10,
    "start_time": "2023-09-10T12:21:44.306Z"
   },
   {
    "duration": 19,
    "start_time": "2023-09-10T12:21:44.317Z"
   },
   {
    "duration": 23,
    "start_time": "2023-09-10T12:21:44.349Z"
   },
   {
    "duration": 5,
    "start_time": "2023-09-10T12:21:44.373Z"
   },
   {
    "duration": 11,
    "start_time": "2023-09-10T12:21:44.379Z"
   },
   {
    "duration": 32,
    "start_time": "2023-09-10T12:21:44.391Z"
   },
   {
    "duration": 6,
    "start_time": "2023-09-10T12:21:44.424Z"
   },
   {
    "duration": 112,
    "start_time": "2023-09-10T12:21:44.449Z"
   },
   {
    "duration": 328,
    "start_time": "2023-09-10T12:21:44.562Z"
   },
   {
    "duration": 117,
    "start_time": "2023-09-10T12:21:44.891Z"
   },
   {
    "duration": 16,
    "start_time": "2023-09-10T12:21:45.010Z"
   },
   {
    "duration": 35,
    "start_time": "2023-09-10T12:21:45.028Z"
   },
   {
    "duration": 13,
    "start_time": "2023-09-10T12:21:45.064Z"
   },
   {
    "duration": 18,
    "start_time": "2023-09-10T12:21:45.078Z"
   },
   {
    "duration": 33,
    "start_time": "2023-09-10T12:21:45.098Z"
   },
   {
    "duration": 18,
    "start_time": "2023-09-10T12:21:45.132Z"
   },
   {
    "duration": 23,
    "start_time": "2023-09-10T12:21:45.151Z"
   },
   {
    "duration": 207,
    "start_time": "2023-09-10T12:21:45.175Z"
   },
   {
    "duration": 168,
    "start_time": "2023-09-10T12:21:45.383Z"
   },
   {
    "duration": 267,
    "start_time": "2023-09-10T12:21:45.553Z"
   },
   {
    "duration": 194,
    "start_time": "2023-09-10T12:21:45.821Z"
   },
   {
    "duration": 54,
    "start_time": "2023-09-10T12:21:46.017Z"
   },
   {
    "duration": 943,
    "start_time": "2023-09-10T12:21:46.073Z"
   },
   {
    "duration": 629,
    "start_time": "2023-09-10T12:21:47.018Z"
   },
   {
    "duration": 34,
    "start_time": "2023-09-10T12:21:47.649Z"
   },
   {
    "duration": 335,
    "start_time": "2023-09-10T12:21:47.685Z"
   },
   {
    "duration": 9,
    "start_time": "2023-09-10T12:21:48.022Z"
   },
   {
    "duration": 42,
    "start_time": "2023-09-10T12:21:48.032Z"
   },
   {
    "duration": 16,
    "start_time": "2023-09-10T12:21:48.075Z"
   },
   {
    "duration": 34,
    "start_time": "2023-09-10T12:21:48.092Z"
   },
   {
    "duration": 76,
    "start_time": "2023-09-10T12:21:48.128Z"
   },
   {
    "duration": 6,
    "start_time": "2023-09-10T12:23:29.473Z"
   },
   {
    "duration": 41,
    "start_time": "2023-09-10T12:23:30.108Z"
   },
   {
    "duration": 376,
    "start_time": "2023-09-10T12:25:42.813Z"
   },
   {
    "duration": 806,
    "start_time": "2023-09-10T12:25:43.191Z"
   },
   {
    "duration": 2,
    "start_time": "2023-09-10T12:25:43.998Z"
   },
   {
    "duration": 74,
    "start_time": "2023-09-10T12:25:44.002Z"
   },
   {
    "duration": 10,
    "start_time": "2023-09-10T12:25:44.077Z"
   },
   {
    "duration": 10,
    "start_time": "2023-09-10T12:25:44.088Z"
   },
   {
    "duration": 22,
    "start_time": "2023-09-10T12:25:44.099Z"
   },
   {
    "duration": 472,
    "start_time": "2023-09-10T12:25:44.122Z"
   },
   {
    "duration": 69,
    "start_time": "2023-09-10T12:25:44.596Z"
   },
   {
    "duration": 3194,
    "start_time": "2023-09-10T12:25:44.668Z"
   },
   {
    "duration": 163,
    "start_time": "2023-09-10T12:25:47.863Z"
   },
   {
    "duration": 23,
    "start_time": "2023-09-10T12:25:48.028Z"
   },
   {
    "duration": 7,
    "start_time": "2023-09-10T12:25:48.053Z"
   },
   {
    "duration": 78,
    "start_time": "2023-09-10T12:25:48.061Z"
   },
   {
    "duration": 18,
    "start_time": "2023-09-10T12:25:48.140Z"
   },
   {
    "duration": 389,
    "start_time": "2023-09-10T12:25:48.160Z"
   },
   {
    "duration": 29,
    "start_time": "2023-09-10T12:25:48.551Z"
   },
   {
    "duration": 12,
    "start_time": "2023-09-10T12:25:48.581Z"
   },
   {
    "duration": 11,
    "start_time": "2023-09-10T12:25:48.594Z"
   },
   {
    "duration": 6,
    "start_time": "2023-09-10T12:25:48.606Z"
   },
   {
    "duration": 8,
    "start_time": "2023-09-10T12:25:48.613Z"
   },
   {
    "duration": 27,
    "start_time": "2023-09-10T12:25:48.623Z"
   },
   {
    "duration": 4,
    "start_time": "2023-09-10T12:25:48.651Z"
   },
   {
    "duration": 39,
    "start_time": "2023-09-10T12:25:48.656Z"
   },
   {
    "duration": 10,
    "start_time": "2023-09-10T12:25:48.697Z"
   },
   {
    "duration": 20,
    "start_time": "2023-09-10T12:25:48.708Z"
   },
   {
    "duration": 5,
    "start_time": "2023-09-10T12:25:48.729Z"
   },
   {
    "duration": 5,
    "start_time": "2023-09-10T12:25:48.737Z"
   },
   {
    "duration": 11,
    "start_time": "2023-09-10T12:25:48.743Z"
   },
   {
    "duration": 29,
    "start_time": "2023-09-10T12:25:48.756Z"
   },
   {
    "duration": 11,
    "start_time": "2023-09-10T12:25:48.787Z"
   },
   {
    "duration": 9,
    "start_time": "2023-09-10T12:25:48.799Z"
   },
   {
    "duration": 24,
    "start_time": "2023-09-10T12:25:48.809Z"
   },
   {
    "duration": 147,
    "start_time": "2023-09-10T12:25:48.834Z"
   },
   {
    "duration": 17,
    "start_time": "2023-09-10T12:25:48.982Z"
   },
   {
    "duration": 59,
    "start_time": "2023-09-10T12:25:49.000Z"
   },
   {
    "duration": 14,
    "start_time": "2023-09-10T12:25:49.061Z"
   },
   {
    "duration": 10,
    "start_time": "2023-09-10T12:25:49.077Z"
   },
   {
    "duration": 21,
    "start_time": "2023-09-10T12:25:49.089Z"
   },
   {
    "duration": 48,
    "start_time": "2023-09-10T12:25:49.112Z"
   },
   {
    "duration": 10,
    "start_time": "2023-09-10T12:25:49.161Z"
   },
   {
    "duration": 17,
    "start_time": "2023-09-10T12:25:49.172Z"
   },
   {
    "duration": 26,
    "start_time": "2023-09-10T12:25:49.190Z"
   },
   {
    "duration": 5,
    "start_time": "2023-09-10T12:25:49.217Z"
   },
   {
    "duration": 17,
    "start_time": "2023-09-10T12:25:49.224Z"
   },
   {
    "duration": 32,
    "start_time": "2023-09-10T12:25:49.242Z"
   },
   {
    "duration": 4,
    "start_time": "2023-09-10T12:25:49.276Z"
   },
   {
    "duration": 110,
    "start_time": "2023-09-10T12:25:49.281Z"
   },
   {
    "duration": 317,
    "start_time": "2023-09-10T12:25:49.392Z"
   },
   {
    "duration": 114,
    "start_time": "2023-09-10T12:25:49.710Z"
   },
   {
    "duration": 25,
    "start_time": "2023-09-10T12:25:49.826Z"
   },
   {
    "duration": 23,
    "start_time": "2023-09-10T12:25:49.852Z"
   },
   {
    "duration": 12,
    "start_time": "2023-09-10T12:25:49.877Z"
   },
   {
    "duration": 18,
    "start_time": "2023-09-10T12:25:49.890Z"
   },
   {
    "duration": 43,
    "start_time": "2023-09-10T12:25:49.910Z"
   },
   {
    "duration": 8,
    "start_time": "2023-09-10T12:25:49.954Z"
   },
   {
    "duration": 32,
    "start_time": "2023-09-10T12:25:49.963Z"
   },
   {
    "duration": 197,
    "start_time": "2023-09-10T12:25:49.996Z"
   },
   {
    "duration": 163,
    "start_time": "2023-09-10T12:25:50.195Z"
   },
   {
    "duration": 268,
    "start_time": "2023-09-10T12:25:50.360Z"
   },
   {
    "duration": 179,
    "start_time": "2023-09-10T12:25:50.630Z"
   },
   {
    "duration": 60,
    "start_time": "2023-09-10T12:25:50.810Z"
   },
   {
    "duration": 764,
    "start_time": "2023-09-10T12:25:50.872Z"
   },
   {
    "duration": 614,
    "start_time": "2023-09-10T12:25:51.638Z"
   },
   {
    "duration": 31,
    "start_time": "2023-09-10T12:25:52.254Z"
   },
   {
    "duration": 330,
    "start_time": "2023-09-10T12:25:52.287Z"
   },
   {
    "duration": 6,
    "start_time": "2023-09-10T12:25:52.618Z"
   },
   {
    "duration": 87,
    "start_time": "2023-09-10T12:25:52.625Z"
   },
   {
    "duration": 5,
    "start_time": "2023-09-10T12:26:56.714Z"
   },
   {
    "duration": 41,
    "start_time": "2023-09-10T12:26:57.390Z"
   },
   {
    "duration": 5,
    "start_time": "2023-09-10T12:27:05.865Z"
   },
   {
    "duration": 41,
    "start_time": "2023-09-10T12:27:06.455Z"
   },
   {
    "duration": 6,
    "start_time": "2023-09-10T12:34:42.685Z"
   },
   {
    "duration": 59,
    "start_time": "2023-09-10T12:34:43.419Z"
   },
   {
    "duration": 6,
    "start_time": "2023-09-10T12:35:10.109Z"
   },
   {
    "duration": 41,
    "start_time": "2023-09-10T12:35:10.969Z"
   },
   {
    "duration": 365,
    "start_time": "2023-09-10T12:58:43.078Z"
   },
   {
    "duration": 757,
    "start_time": "2023-09-10T12:58:43.449Z"
   },
   {
    "duration": 2,
    "start_time": "2023-09-10T12:58:44.208Z"
   },
   {
    "duration": 42,
    "start_time": "2023-09-10T12:58:44.211Z"
   },
   {
    "duration": 9,
    "start_time": "2023-09-10T12:58:44.256Z"
   },
   {
    "duration": 8,
    "start_time": "2023-09-10T12:58:44.266Z"
   },
   {
    "duration": 12,
    "start_time": "2023-09-10T12:58:44.275Z"
   },
   {
    "duration": 465,
    "start_time": "2023-09-10T12:58:44.289Z"
   },
   {
    "duration": 64,
    "start_time": "2023-09-10T12:58:44.756Z"
   },
   {
    "duration": 3193,
    "start_time": "2023-09-10T12:58:44.822Z"
   },
   {
    "duration": 161,
    "start_time": "2023-09-10T12:58:48.016Z"
   },
   {
    "duration": 22,
    "start_time": "2023-09-10T12:58:48.179Z"
   },
   {
    "duration": 14,
    "start_time": "2023-09-10T12:58:48.203Z"
   },
   {
    "duration": 73,
    "start_time": "2023-09-10T12:58:48.220Z"
   },
   {
    "duration": 18,
    "start_time": "2023-09-10T12:58:48.294Z"
   },
   {
    "duration": 352,
    "start_time": "2023-09-10T12:58:48.314Z"
   },
   {
    "duration": 26,
    "start_time": "2023-09-10T12:58:48.668Z"
   },
   {
    "duration": 11,
    "start_time": "2023-09-10T12:58:48.695Z"
   },
   {
    "duration": 7,
    "start_time": "2023-09-10T12:58:48.708Z"
   },
   {
    "duration": 7,
    "start_time": "2023-09-10T12:58:48.717Z"
   },
   {
    "duration": 27,
    "start_time": "2023-09-10T12:58:48.725Z"
   },
   {
    "duration": 12,
    "start_time": "2023-09-10T12:58:48.753Z"
   },
   {
    "duration": 13,
    "start_time": "2023-09-10T12:58:48.766Z"
   },
   {
    "duration": 29,
    "start_time": "2023-09-10T12:58:48.781Z"
   },
   {
    "duration": 10,
    "start_time": "2023-09-10T12:58:48.812Z"
   },
   {
    "duration": 10,
    "start_time": "2023-09-10T12:58:48.823Z"
   },
   {
    "duration": 5,
    "start_time": "2023-09-10T12:58:48.834Z"
   },
   {
    "duration": 10,
    "start_time": "2023-09-10T12:58:48.841Z"
   },
   {
    "duration": 4,
    "start_time": "2023-09-10T12:58:48.853Z"
   },
   {
    "duration": 10,
    "start_time": "2023-09-10T12:58:48.858Z"
   },
   {
    "duration": 10,
    "start_time": "2023-09-10T12:58:48.869Z"
   },
   {
    "duration": 9,
    "start_time": "2023-09-10T12:58:48.880Z"
   },
   {
    "duration": 31,
    "start_time": "2023-09-10T12:58:48.890Z"
   },
   {
    "duration": 165,
    "start_time": "2023-09-10T12:58:48.922Z"
   },
   {
    "duration": 18,
    "start_time": "2023-09-10T12:58:49.090Z"
   },
   {
    "duration": 72,
    "start_time": "2023-09-10T12:58:49.110Z"
   },
   {
    "duration": 14,
    "start_time": "2023-09-10T12:58:49.184Z"
   },
   {
    "duration": 9,
    "start_time": "2023-09-10T12:58:49.200Z"
   },
   {
    "duration": 43,
    "start_time": "2023-09-10T12:58:49.210Z"
   },
   {
    "duration": 23,
    "start_time": "2023-09-10T12:58:49.255Z"
   },
   {
    "duration": 12,
    "start_time": "2023-09-10T12:58:49.281Z"
   },
   {
    "duration": 18,
    "start_time": "2023-09-10T12:58:49.294Z"
   },
   {
    "duration": 67,
    "start_time": "2023-09-10T12:58:49.314Z"
   },
   {
    "duration": 6,
    "start_time": "2023-09-10T12:58:49.382Z"
   },
   {
    "duration": 11,
    "start_time": "2023-09-10T12:58:49.389Z"
   },
   {
    "duration": 49,
    "start_time": "2023-09-10T12:58:49.401Z"
   },
   {
    "duration": 4,
    "start_time": "2023-09-10T12:58:49.452Z"
   },
   {
    "duration": 112,
    "start_time": "2023-09-10T12:58:49.458Z"
   },
   {
    "duration": 410,
    "start_time": "2023-09-10T12:58:49.571Z"
   },
   {
    "duration": 179,
    "start_time": "2023-09-10T12:58:49.982Z"
   },
   {
    "duration": 16,
    "start_time": "2023-09-10T12:58:50.162Z"
   },
   {
    "duration": 28,
    "start_time": "2023-09-10T12:58:50.180Z"
   },
   {
    "duration": 13,
    "start_time": "2023-09-10T12:58:50.209Z"
   },
   {
    "duration": 37,
    "start_time": "2023-09-10T12:58:50.223Z"
   },
   {
    "duration": 27,
    "start_time": "2023-09-10T12:58:50.261Z"
   },
   {
    "duration": 7,
    "start_time": "2023-09-10T12:58:50.289Z"
   },
   {
    "duration": 27,
    "start_time": "2023-09-10T12:58:50.297Z"
   },
   {
    "duration": 205,
    "start_time": "2023-09-10T12:58:50.326Z"
   },
   {
    "duration": 168,
    "start_time": "2023-09-10T12:58:50.533Z"
   },
   {
    "duration": 271,
    "start_time": "2023-09-10T12:58:50.703Z"
   },
   {
    "duration": 179,
    "start_time": "2023-09-10T12:58:50.976Z"
   },
   {
    "duration": 42,
    "start_time": "2023-09-10T12:58:51.156Z"
   },
   {
    "duration": 780,
    "start_time": "2023-09-10T12:58:51.200Z"
   },
   {
    "duration": 566,
    "start_time": "2023-09-10T12:58:51.982Z"
   },
   {
    "duration": 29,
    "start_time": "2023-09-10T12:58:52.550Z"
   },
   {
    "duration": 331,
    "start_time": "2023-09-10T12:58:52.580Z"
   },
   {
    "duration": 6,
    "start_time": "2023-09-10T12:58:52.912Z"
   },
   {
    "duration": 70,
    "start_time": "2023-09-10T12:58:52.919Z"
   },
   {
    "duration": 431,
    "start_time": "2023-09-10T17:01:29.299Z"
   },
   {
    "duration": 912,
    "start_time": "2023-09-10T17:01:29.731Z"
   },
   {
    "duration": 2,
    "start_time": "2023-09-10T17:01:30.645Z"
   },
   {
    "duration": 61,
    "start_time": "2023-09-10T17:01:30.650Z"
   },
   {
    "duration": 12,
    "start_time": "2023-09-10T17:01:30.713Z"
   },
   {
    "duration": 23,
    "start_time": "2023-09-10T17:01:30.727Z"
   },
   {
    "duration": 51,
    "start_time": "2023-09-10T17:01:30.752Z"
   },
   {
    "duration": 593,
    "start_time": "2023-09-10T17:01:30.804Z"
   },
   {
    "duration": 77,
    "start_time": "2023-09-10T17:01:31.399Z"
   },
   {
    "duration": 3740,
    "start_time": "2023-09-10T17:01:31.479Z"
   },
   {
    "duration": 214,
    "start_time": "2023-09-10T17:01:35.221Z"
   },
   {
    "duration": 25,
    "start_time": "2023-09-10T17:01:35.437Z"
   },
   {
    "duration": 36,
    "start_time": "2023-09-10T17:01:35.463Z"
   },
   {
    "duration": 118,
    "start_time": "2023-09-10T17:01:35.501Z"
   },
   {
    "duration": 19,
    "start_time": "2023-09-10T17:01:35.621Z"
   },
   {
    "duration": 408,
    "start_time": "2023-09-10T17:01:35.641Z"
   },
   {
    "duration": 31,
    "start_time": "2023-09-10T17:01:36.051Z"
   },
   {
    "duration": 30,
    "start_time": "2023-09-10T17:01:36.084Z"
   },
   {
    "duration": 38,
    "start_time": "2023-09-10T17:01:36.116Z"
   },
   {
    "duration": 34,
    "start_time": "2023-09-10T17:01:36.156Z"
   },
   {
    "duration": 46,
    "start_time": "2023-09-10T17:01:36.191Z"
   },
   {
    "duration": 41,
    "start_time": "2023-09-10T17:01:36.239Z"
   },
   {
    "duration": 48,
    "start_time": "2023-09-10T17:01:36.281Z"
   },
   {
    "duration": 77,
    "start_time": "2023-09-10T17:01:36.331Z"
   },
   {
    "duration": 13,
    "start_time": "2023-09-10T17:01:36.410Z"
   },
   {
    "duration": 54,
    "start_time": "2023-09-10T17:01:36.425Z"
   },
   {
    "duration": 36,
    "start_time": "2023-09-10T17:01:36.480Z"
   },
   {
    "duration": 47,
    "start_time": "2023-09-10T17:01:36.520Z"
   },
   {
    "duration": 24,
    "start_time": "2023-09-10T17:01:36.569Z"
   },
   {
    "duration": 33,
    "start_time": "2023-09-10T17:01:36.594Z"
   },
   {
    "duration": 30,
    "start_time": "2023-09-10T17:01:36.629Z"
   },
   {
    "duration": 21,
    "start_time": "2023-09-10T17:01:36.660Z"
   },
   {
    "duration": 68,
    "start_time": "2023-09-10T17:01:36.683Z"
   },
   {
    "duration": 176,
    "start_time": "2023-09-10T17:01:36.753Z"
   },
   {
    "duration": 20,
    "start_time": "2023-09-10T17:01:36.931Z"
   },
   {
    "duration": 85,
    "start_time": "2023-09-10T17:01:36.953Z"
   },
   {
    "duration": 15,
    "start_time": "2023-09-10T17:01:37.040Z"
   },
   {
    "duration": 52,
    "start_time": "2023-09-10T17:01:37.057Z"
   },
   {
    "duration": 33,
    "start_time": "2023-09-10T17:01:37.110Z"
   },
   {
    "duration": 45,
    "start_time": "2023-09-10T17:01:37.145Z"
   },
   {
    "duration": 13,
    "start_time": "2023-09-10T17:01:37.192Z"
   },
   {
    "duration": 76,
    "start_time": "2023-09-10T17:01:37.207Z"
   },
   {
    "duration": 49,
    "start_time": "2023-09-10T17:01:37.285Z"
   },
   {
    "duration": 20,
    "start_time": "2023-09-10T17:01:37.335Z"
   },
   {
    "duration": 43,
    "start_time": "2023-09-10T17:01:37.356Z"
   },
   {
    "duration": 59,
    "start_time": "2023-09-10T17:01:37.401Z"
   },
   {
    "duration": 27,
    "start_time": "2023-09-10T17:01:37.461Z"
   },
   {
    "duration": 145,
    "start_time": "2023-09-10T17:01:37.489Z"
   },
   {
    "duration": 389,
    "start_time": "2023-09-10T17:01:37.636Z"
   },
   {
    "duration": 145,
    "start_time": "2023-09-10T17:01:38.027Z"
   },
   {
    "duration": 19,
    "start_time": "2023-09-10T17:01:38.174Z"
   },
   {
    "duration": 36,
    "start_time": "2023-09-10T17:01:38.195Z"
   },
   {
    "duration": 16,
    "start_time": "2023-09-10T17:01:38.233Z"
   },
   {
    "duration": 13,
    "start_time": "2023-09-10T17:01:38.250Z"
   },
   {
    "duration": 61,
    "start_time": "2023-09-10T17:01:38.265Z"
   },
   {
    "duration": 9,
    "start_time": "2023-09-10T17:01:38.328Z"
   },
   {
    "duration": 28,
    "start_time": "2023-09-10T17:01:38.338Z"
   },
   {
    "duration": 255,
    "start_time": "2023-09-10T17:01:38.368Z"
   },
   {
    "duration": 200,
    "start_time": "2023-09-10T17:01:38.624Z"
   },
   {
    "duration": 326,
    "start_time": "2023-09-10T17:01:38.826Z"
   },
   {
    "duration": 215,
    "start_time": "2023-09-10T17:01:39.154Z"
   },
   {
    "duration": 57,
    "start_time": "2023-09-10T17:01:39.371Z"
   },
   {
    "duration": 909,
    "start_time": "2023-09-10T17:01:39.429Z"
   },
   {
    "duration": 706,
    "start_time": "2023-09-10T17:01:40.340Z"
   },
   {
    "duration": 36,
    "start_time": "2023-09-10T17:01:41.047Z"
   },
   {
    "duration": 1297,
    "start_time": "2023-09-10T17:01:41.084Z"
   },
   {
    "duration": 8,
    "start_time": "2023-09-10T17:01:42.382Z"
   },
   {
    "duration": 140,
    "start_time": "2023-09-10T17:01:42.410Z"
   },
   {
    "duration": 17,
    "start_time": "2023-09-10T17:09:04.851Z"
   },
   {
    "duration": 23,
    "start_time": "2023-09-10T17:09:57.264Z"
   },
   {
    "duration": 7,
    "start_time": "2023-09-10T17:10:52.751Z"
   },
   {
    "duration": 58,
    "start_time": "2023-09-10T17:10:54.461Z"
   },
   {
    "duration": 466,
    "start_time": "2023-09-10T19:30:11.615Z"
   },
   {
    "duration": 1351,
    "start_time": "2023-09-10T19:30:12.083Z"
   },
   {
    "duration": 6,
    "start_time": "2023-09-10T19:30:13.436Z"
   },
   {
    "duration": 129,
    "start_time": "2023-09-10T19:30:13.445Z"
   },
   {
    "duration": 12,
    "start_time": "2023-09-10T19:30:13.576Z"
   },
   {
    "duration": 23,
    "start_time": "2023-09-10T19:30:13.589Z"
   },
   {
    "duration": 143,
    "start_time": "2023-09-10T19:30:13.614Z"
   },
   {
    "duration": 978,
    "start_time": "2023-09-10T19:30:13.759Z"
   },
   {
    "duration": 95,
    "start_time": "2023-09-10T19:30:14.740Z"
   },
   {
    "duration": 4348,
    "start_time": "2023-09-10T19:30:14.838Z"
   },
   {
    "duration": 225,
    "start_time": "2023-09-10T19:30:19.188Z"
   },
   {
    "duration": 38,
    "start_time": "2023-09-10T19:30:19.415Z"
   },
   {
    "duration": 7,
    "start_time": "2023-09-10T19:30:19.455Z"
   },
   {
    "duration": 604,
    "start_time": "2023-09-10T19:30:19.463Z"
   },
   {
    "duration": 22,
    "start_time": "2023-09-10T19:30:20.069Z"
   },
   {
    "duration": 583,
    "start_time": "2023-09-10T19:30:20.092Z"
   },
   {
    "duration": 57,
    "start_time": "2023-09-10T19:30:20.677Z"
   },
   {
    "duration": 16,
    "start_time": "2023-09-10T19:30:20.736Z"
   },
   {
    "duration": 19,
    "start_time": "2023-09-10T19:30:20.753Z"
   },
   {
    "duration": 8,
    "start_time": "2023-09-10T19:30:20.774Z"
   },
   {
    "duration": 18,
    "start_time": "2023-09-10T19:30:20.784Z"
   },
   {
    "duration": 7,
    "start_time": "2023-09-10T19:30:20.804Z"
   },
   {
    "duration": 6,
    "start_time": "2023-09-10T19:30:20.813Z"
   },
   {
    "duration": 109,
    "start_time": "2023-09-10T19:30:20.822Z"
   },
   {
    "duration": 14,
    "start_time": "2023-09-10T19:30:20.933Z"
   },
   {
    "duration": 20,
    "start_time": "2023-09-10T19:30:20.949Z"
   },
   {
    "duration": 7,
    "start_time": "2023-09-10T19:30:20.971Z"
   },
   {
    "duration": 23,
    "start_time": "2023-09-10T19:30:20.982Z"
   },
   {
    "duration": 10,
    "start_time": "2023-09-10T19:30:21.009Z"
   },
   {
    "duration": 12,
    "start_time": "2023-09-10T19:30:21.021Z"
   },
   {
    "duration": 10,
    "start_time": "2023-09-10T19:30:21.035Z"
   },
   {
    "duration": 15,
    "start_time": "2023-09-10T19:30:21.046Z"
   },
   {
    "duration": 70,
    "start_time": "2023-09-10T19:30:21.062Z"
   },
   {
    "duration": 232,
    "start_time": "2023-09-10T19:30:21.134Z"
   },
   {
    "duration": 22,
    "start_time": "2023-09-10T19:30:21.368Z"
   },
   {
    "duration": 97,
    "start_time": "2023-09-10T19:30:21.392Z"
   },
   {
    "duration": 31,
    "start_time": "2023-09-10T19:30:21.491Z"
   },
   {
    "duration": 12,
    "start_time": "2023-09-10T19:30:21.525Z"
   },
   {
    "duration": 33,
    "start_time": "2023-09-10T19:30:21.539Z"
   },
   {
    "duration": 52,
    "start_time": "2023-09-10T19:30:21.574Z"
   },
   {
    "duration": 15,
    "start_time": "2023-09-10T19:30:21.629Z"
   },
   {
    "duration": 30,
    "start_time": "2023-09-10T19:30:21.646Z"
   },
   {
    "duration": 59,
    "start_time": "2023-09-10T19:30:21.678Z"
   },
   {
    "duration": 6,
    "start_time": "2023-09-10T19:30:21.739Z"
   },
   {
    "duration": 28,
    "start_time": "2023-09-10T19:30:21.746Z"
   },
   {
    "duration": 31,
    "start_time": "2023-09-10T19:30:21.776Z"
   },
   {
    "duration": 9,
    "start_time": "2023-09-10T19:30:21.809Z"
   },
   {
    "duration": 159,
    "start_time": "2023-09-10T19:30:21.819Z"
   },
   {
    "duration": 474,
    "start_time": "2023-09-10T19:30:21.979Z"
   },
   {
    "duration": 200,
    "start_time": "2023-09-10T19:30:22.455Z"
   },
   {
    "duration": 21,
    "start_time": "2023-09-10T19:30:22.656Z"
   },
   {
    "duration": 147,
    "start_time": "2023-09-10T19:30:22.679Z"
   },
   {
    "duration": 58,
    "start_time": "2023-09-10T19:30:22.832Z"
   },
   {
    "duration": 22,
    "start_time": "2023-09-10T19:30:22.892Z"
   },
   {
    "duration": 104,
    "start_time": "2023-09-10T19:30:22.918Z"
   },
   {
    "duration": 15,
    "start_time": "2023-09-10T19:30:23.025Z"
   },
   {
    "duration": 28,
    "start_time": "2023-09-10T19:30:23.043Z"
   },
   {
    "duration": 303,
    "start_time": "2023-09-10T19:30:23.073Z"
   },
   {
    "duration": 243,
    "start_time": "2023-09-10T19:30:23.379Z"
   },
   {
    "duration": 370,
    "start_time": "2023-09-10T19:30:23.624Z"
   },
   {
    "duration": 259,
    "start_time": "2023-09-10T19:30:24.001Z"
   },
   {
    "duration": 91,
    "start_time": "2023-09-10T19:30:24.262Z"
   },
   {
    "duration": 1183,
    "start_time": "2023-09-10T19:30:24.356Z"
   },
   {
    "duration": 695,
    "start_time": "2023-09-10T19:30:25.541Z"
   },
   {
    "duration": 38,
    "start_time": "2023-09-10T19:30:26.238Z"
   }
  ],
  "kernelspec": {
   "display_name": "Python 3",
   "language": "python",
   "name": "python3"
  },
  "language_info": {
   "codemirror_mode": {
    "name": "ipython",
    "version": 3
   },
   "file_extension": ".py",
   "mimetype": "text/x-python",
   "name": "python",
   "nbconvert_exporter": "python",
   "pygments_lexer": "ipython3",
   "version": "3.8.5"
  },
  "toc": {
   "base_numbering": 1,
   "nav_menu": {},
   "number_sections": true,
   "sideBar": true,
   "skip_h1_title": true,
   "title_cell": "Table of Contents",
   "title_sidebar": "Contents",
   "toc_cell": false,
   "toc_position": {},
   "toc_section_display": true,
   "toc_window_display": false
  }
 },
 "nbformat": 4,
 "nbformat_minor": 2
}
